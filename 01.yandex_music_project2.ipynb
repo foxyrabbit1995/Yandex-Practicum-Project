{
 "cells": [
  {
   "cell_type": "markdown",
   "id": "0e83b0fa",
   "metadata": {},
   "source": [
    "# Яндекс Музыка"
   ]
  },
  {
   "cell_type": "markdown",
   "id": "29764fdf",
   "metadata": {},
   "source": [
    "Приложением Яндекс Музыка предоставлены данные о музыке, которую слушают пользователи из Москвы и Санкт-Петербурга. Есть несколько мифов о городах, например, что Москва - мегаполис, подчинённый жёсткому ритму рабочей недели, а Питер - культурная столица со своеобразными вкусами. На данных Яндекс Музыки необходимо сравнить поведение пользователей двух столиц. Целью исследования является проверка трёх гипотез:\n",
    "- Активность пользователей зависит от дня недели. Причём в Москве и Петербурге это проявляется по-разному.\n",
    "- В понедельник утром в Москве преобладают одни жанры, а в Петербурге — другие. Так же и вечером пятницы преобладают разные жанры — в зависимости от города. \n",
    "- Москва и Петербург предпочитают разные жанры музыки. В Москве чаще слушают поп-музыку, в Петербурге — русский рэп.\n",
    "\n",
    "<font size=+1><b>Данные</b></font><br>\n",
    "Данные с пользователями music_project.csv\n",
    "- `userID` — уникальный ID пользователя\n",
    "- `Track` - название музыкального трека\n",
    "- `artist` - исполнитель музыкального трека\n",
    "- `genre` - жанр музыкального трека\n",
    "- `City` - город пользователя\n",
    "- `time` - время прослушивания музыкального трека\n",
    "- `Day` - день, в который пользователь слушал музыкальный трек\n",
    "\n",
    "<font size=+1><b>План работы:</b></font><br>\n",
    "- Загрузить и изучить данные\n",
    "- Найти и изучить пропуски в данных\n",
    "- Найти и обработать дубликаты в данных\n",
    "- Проверить гипотезу о том, что пользователи по-разному слушают музыку в Москве и Санкт-Петербурге по дням недели\n",
    "- Проверить гипотезу о том, утром в понедельник в Москве преобладают одни жанры, а в Петербурге — другие. Так же и вечером пятницы преобладают разные жанры — в зависимости от города\n",
    "- Проверить гипотезу о том, Петербург — столица рэпа, музыку этого жанра там слушают чаще, чем в Москве. А Москва — город контрастов, в котором, тем не менее, преобладает поп-музыка\n",
    "- Сделать выводы по проведённому исследованию"
   ]
  },
  {
   "cell_type": "markdown",
   "id": "8bcbf136",
   "metadata": {},
   "source": [
    "## Загрузка данных"
   ]
  },
  {
   "cell_type": "markdown",
   "id": "005fa11e",
   "metadata": {},
   "source": [
    "### Используемые библиотеки и функции"
   ]
  },
  {
   "cell_type": "code",
   "execution_count": 1,
   "id": "11c07107",
   "metadata": {},
   "outputs": [],
   "source": [
    "import pandas as pd"
   ]
  },
  {
   "cell_type": "code",
   "execution_count": 2,
   "id": "cf129b08",
   "metadata": {},
   "outputs": [],
   "source": [
    "# Цветовая палитра графиков\n",
    "cmap_table='coolwarm'"
   ]
  },
  {
   "cell_type": "code",
   "execution_count": 3,
   "id": "8de8231f",
   "metadata": {},
   "outputs": [],
   "source": [
    "# функция для загрузки данных\n",
    "# функция принимает как параметр строку с путём к файлу\n",
    "# функция возвращает датафрейм и информацию по нему\n",
    "def main_info (dataset):\n",
    "    data = pd.read_csv(dataset)\n",
    "    display(data.head())\n",
    "    print('------------------------------------------')\n",
    "    display('Основная информация по столбцам таблицы:')\n",
    "    display(data.info())\n",
    "    print('-------------------------------------')\n",
    "    display('Доля пропусков по столбцам таблицы:')\n",
    "    display(pd.DataFrame(round(data.isna().mean()\\\n",
    "                                   .sort_values(ascending=False), 3))\\\n",
    "                        .style.format('{:.1%}')\\\n",
    "                        .background_gradient(cmap_table))\n",
    "    print('----------------------------------------')\n",
    "    display('Количество явных дубликатов в таблице:')\n",
    "    display(data.duplicated().sum())\n",
    "    return data"
   ]
  },
  {
   "cell_type": "code",
   "execution_count": 4,
   "id": "08aef741-5d9e-4abe-b11f-1faa9194e102",
   "metadata": {},
   "outputs": [],
   "source": [
    "# функция для поиска дубликатов в названии жанра\n",
    "def find_genre(genre):\n",
    "    k = 0\n",
    "    for genre_cicle in genres_list:\n",
    "        if genre_cicle == genre:\n",
    "            k += 1\n",
    "    return k"
   ]
  },
  {
   "cell_type": "code",
   "execution_count": 5,
   "id": "70d65635",
   "metadata": {},
   "outputs": [],
   "source": [
    "# функция для создания сводной таблицы\n",
    "def table_pivot(data, col_group, values, func):\n",
    "    return data.groupby(by=col_group, as_index=False)\\\n",
    "               .agg(total = (values, func))"
   ]
  },
  {
   "cell_type": "code",
   "execution_count": 6,
   "id": "b7b37932-a434-4eec-96d4-f9f36344ad55",
   "metadata": {},
   "outputs": [],
   "source": [
    "# функция для выявления топ жанров\n",
    "def genre_weekday(df, day, time1, time2):\n",
    "    genre_df = table_pivot(data=df.query('day == @day & time <= @time2 & time >= @time1'), \n",
    "                           col_group='genre', values='genre', func='count')\n",
    "    return genre_df.sort_values(by='total', ascending = False).head(10).reset_index(drop=True)"
   ]
  },
  {
   "cell_type": "markdown",
   "id": "a9adb2e3",
   "metadata": {},
   "source": [
    "### Загрузка данных и основная информация"
   ]
  },
  {
   "cell_type": "markdown",
   "id": "87df0a66",
   "metadata": {},
   "source": [
    "Посмотрим на основную информацию из таблицы:"
   ]
  },
  {
   "cell_type": "code",
   "execution_count": 7,
   "id": "a544ee8f",
   "metadata": {},
   "outputs": [
    {
     "data": {
      "text/html": [
       "<div>\n",
       "<style scoped>\n",
       "    .dataframe tbody tr th:only-of-type {\n",
       "        vertical-align: middle;\n",
       "    }\n",
       "\n",
       "    .dataframe tbody tr th {\n",
       "        vertical-align: top;\n",
       "    }\n",
       "\n",
       "    .dataframe thead th {\n",
       "        text-align: right;\n",
       "    }\n",
       "</style>\n",
       "<table border=\"1\" class=\"dataframe\">\n",
       "  <thead>\n",
       "    <tr style=\"text-align: right;\">\n",
       "      <th></th>\n",
       "      <th>userID</th>\n",
       "      <th>Track</th>\n",
       "      <th>artist</th>\n",
       "      <th>genre</th>\n",
       "      <th>City</th>\n",
       "      <th>time</th>\n",
       "      <th>Day</th>\n",
       "    </tr>\n",
       "  </thead>\n",
       "  <tbody>\n",
       "    <tr>\n",
       "      <th>0</th>\n",
       "      <td>FFB692EC</td>\n",
       "      <td>Kamigata To Boots</td>\n",
       "      <td>The Mass Missile</td>\n",
       "      <td>rock</td>\n",
       "      <td>Saint-Petersburg</td>\n",
       "      <td>20:28:33</td>\n",
       "      <td>Wednesday</td>\n",
       "    </tr>\n",
       "    <tr>\n",
       "      <th>1</th>\n",
       "      <td>55204538</td>\n",
       "      <td>Delayed Because of Accident</td>\n",
       "      <td>Andreas Rönnberg</td>\n",
       "      <td>rock</td>\n",
       "      <td>Moscow</td>\n",
       "      <td>14:07:09</td>\n",
       "      <td>Friday</td>\n",
       "    </tr>\n",
       "    <tr>\n",
       "      <th>2</th>\n",
       "      <td>20EC38</td>\n",
       "      <td>Funiculì funiculà</td>\n",
       "      <td>Mario Lanza</td>\n",
       "      <td>pop</td>\n",
       "      <td>Saint-Petersburg</td>\n",
       "      <td>20:58:07</td>\n",
       "      <td>Wednesday</td>\n",
       "    </tr>\n",
       "    <tr>\n",
       "      <th>3</th>\n",
       "      <td>A3DD03C9</td>\n",
       "      <td>Dragons in the Sunset</td>\n",
       "      <td>Fire + Ice</td>\n",
       "      <td>folk</td>\n",
       "      <td>Saint-Petersburg</td>\n",
       "      <td>08:37:09</td>\n",
       "      <td>Monday</td>\n",
       "    </tr>\n",
       "    <tr>\n",
       "      <th>4</th>\n",
       "      <td>E2DC1FAE</td>\n",
       "      <td>Soul People</td>\n",
       "      <td>Space Echo</td>\n",
       "      <td>dance</td>\n",
       "      <td>Moscow</td>\n",
       "      <td>08:34:34</td>\n",
       "      <td>Monday</td>\n",
       "    </tr>\n",
       "  </tbody>\n",
       "</table>\n",
       "</div>"
      ],
      "text/plain": [
       "     userID                        Track            artist  genre  \\\n",
       "0  FFB692EC            Kamigata To Boots  The Mass Missile   rock   \n",
       "1  55204538  Delayed Because of Accident  Andreas Rönnberg   rock   \n",
       "2    20EC38            Funiculì funiculà       Mario Lanza    pop   \n",
       "3  A3DD03C9        Dragons in the Sunset        Fire + Ice   folk   \n",
       "4  E2DC1FAE                  Soul People        Space Echo  dance   \n",
       "\n",
       "             City        time        Day  \n",
       "0  Saint-Petersburg  20:28:33  Wednesday  \n",
       "1            Moscow  14:07:09     Friday  \n",
       "2  Saint-Petersburg  20:58:07  Wednesday  \n",
       "3  Saint-Petersburg  08:37:09     Monday  \n",
       "4            Moscow  08:34:34     Monday  "
      ]
     },
     "metadata": {},
     "output_type": "display_data"
    },
    {
     "name": "stdout",
     "output_type": "stream",
     "text": [
      "------------------------------------------\n"
     ]
    },
    {
     "data": {
      "text/plain": [
       "'Основная информация по столбцам таблицы:'"
      ]
     },
     "metadata": {},
     "output_type": "display_data"
    },
    {
     "name": "stdout",
     "output_type": "stream",
     "text": [
      "<class 'pandas.core.frame.DataFrame'>\n",
      "Index: 65079 entries, 0 to 65078\n",
      "Data columns (total 7 columns):\n",
      " #   Column    Non-Null Count  Dtype \n",
      "---  ------    --------------  ----- \n",
      " 0   userID    65079 non-null  object\n",
      " 1   Track     63848 non-null  object\n",
      " 2   artist    57876 non-null  object\n",
      " 3   genre     63881 non-null  object\n",
      " 4     City    65079 non-null  object\n",
      " 5   time      65079 non-null  object\n",
      " 6   Day       65079 non-null  object\n",
      "dtypes: object(7)\n",
      "memory usage: 4.0+ MB\n"
     ]
    },
    {
     "data": {
      "text/plain": [
       "None"
      ]
     },
     "metadata": {},
     "output_type": "display_data"
    },
    {
     "name": "stdout",
     "output_type": "stream",
     "text": [
      "-------------------------------------\n"
     ]
    },
    {
     "data": {
      "text/plain": [
       "'Доля пропусков по столбцам таблицы:'"
      ]
     },
     "metadata": {},
     "output_type": "display_data"
    },
    {
     "data": {
      "text/html": [
       "<style type=\"text/css\">\n",
       "#T_44229_row0_col0 {\n",
       "  background-color: #b40426;\n",
       "  color: #f1f1f1;\n",
       "}\n",
       "#T_44229_row1_col0 {\n",
       "  background-color: #7093f3;\n",
       "  color: #f1f1f1;\n",
       "}\n",
       "#T_44229_row2_col0 {\n",
       "  background-color: #6e90f2;\n",
       "  color: #f1f1f1;\n",
       "}\n",
       "#T_44229_row3_col0, #T_44229_row4_col0, #T_44229_row5_col0, #T_44229_row6_col0 {\n",
       "  background-color: #3b4cc0;\n",
       "  color: #f1f1f1;\n",
       "}\n",
       "</style>\n",
       "<table id=\"T_44229\">\n",
       "  <thead>\n",
       "    <tr>\n",
       "      <th class=\"blank level0\" >&nbsp;</th>\n",
       "      <th id=\"T_44229_level0_col0\" class=\"col_heading level0 col0\" >0</th>\n",
       "    </tr>\n",
       "  </thead>\n",
       "  <tbody>\n",
       "    <tr>\n",
       "      <th id=\"T_44229_level0_row0\" class=\"row_heading level0 row0\" >artist</th>\n",
       "      <td id=\"T_44229_row0_col0\" class=\"data row0 col0\" >11.1%</td>\n",
       "    </tr>\n",
       "    <tr>\n",
       "      <th id=\"T_44229_level0_row1\" class=\"row_heading level0 row1\" >Track</th>\n",
       "      <td id=\"T_44229_row1_col0\" class=\"data row1 col0\" >1.9%</td>\n",
       "    </tr>\n",
       "    <tr>\n",
       "      <th id=\"T_44229_level0_row2\" class=\"row_heading level0 row2\" >genre</th>\n",
       "      <td id=\"T_44229_row2_col0\" class=\"data row2 col0\" >1.8%</td>\n",
       "    </tr>\n",
       "    <tr>\n",
       "      <th id=\"T_44229_level0_row3\" class=\"row_heading level0 row3\" >userID</th>\n",
       "      <td id=\"T_44229_row3_col0\" class=\"data row3 col0\" >0.0%</td>\n",
       "    </tr>\n",
       "    <tr>\n",
       "      <th id=\"T_44229_level0_row4\" class=\"row_heading level0 row4\" >  City  </th>\n",
       "      <td id=\"T_44229_row4_col0\" class=\"data row4 col0\" >0.0%</td>\n",
       "    </tr>\n",
       "    <tr>\n",
       "      <th id=\"T_44229_level0_row5\" class=\"row_heading level0 row5\" >time</th>\n",
       "      <td id=\"T_44229_row5_col0\" class=\"data row5 col0\" >0.0%</td>\n",
       "    </tr>\n",
       "    <tr>\n",
       "      <th id=\"T_44229_level0_row6\" class=\"row_heading level0 row6\" >Day</th>\n",
       "      <td id=\"T_44229_row6_col0\" class=\"data row6 col0\" >0.0%</td>\n",
       "    </tr>\n",
       "  </tbody>\n",
       "</table>\n"
      ],
      "text/plain": [
       "<pandas.io.formats.style.Styler at 0x14e127a10>"
      ]
     },
     "metadata": {},
     "output_type": "display_data"
    },
    {
     "name": "stdout",
     "output_type": "stream",
     "text": [
      "----------------------------------------\n"
     ]
    },
    {
     "data": {
      "text/plain": [
       "'Количество явных дубликатов в таблице:'"
      ]
     },
     "metadata": {},
     "output_type": "display_data"
    },
    {
     "data": {
      "text/plain": [
       "3826"
      ]
     },
     "metadata": {},
     "output_type": "display_data"
    }
   ],
   "source": [
    "music = main_info('music_project.csv')"
   ]
  },
  {
   "cell_type": "markdown",
   "id": "efe5a2ef-2f79-43a8-90a4-13a7d290cbc9",
   "metadata": {},
   "source": [
    "### Промежуточные выводы:"
   ]
  },
  {
   "cell_type": "markdown",
   "id": "995bb87c-5fba-4eb9-8fcf-51920290a1a0",
   "metadata": {},
   "source": [
    "- В таблице 7 столбцов и 65079 записей с информацией о треках, которые слушают пользователи приложения.\n",
    "- В трёх столбцах есть пропуски значений.\n",
    "- Доля пропусков в столбце с исполнителем занимет 11.1% от общего количества строк в датафрейме.\n",
    "- В остальных столбцах с названием трека и жанре композиции пропуски занимают до 2% данных.\n",
    "- В таблице есть 3826 явных дубликатов.\n",
    "- Названия столбцов не соответствуют PEP-8."
   ]
  },
  {
   "cell_type": "markdown",
   "id": "1f1de192-0a23-4cd2-a2be-0fd75b85014c",
   "metadata": {},
   "source": [
    "## Предобработка данных"
   ]
  },
  {
   "cell_type": "markdown",
   "id": "2fe3911d-220c-4c76-a3ae-4a24bf882f4a",
   "metadata": {},
   "source": [
    "### Обработка пропусков"
   ]
  },
  {
   "cell_type": "code",
   "execution_count": 8,
   "id": "c8b9acb9-5a94-4111-8bc1-9bf12f99f92d",
   "metadata": {},
   "outputs": [],
   "source": [
    "# Переменная для контроля % удалённых значений\n",
    "del_value = [0, music.shape[0]]"
   ]
  },
  {
   "cell_type": "markdown",
   "id": "c0cf4885-6440-4674-ab92-75fec6fd406a",
   "metadata": {},
   "source": [
    "Посмотрим на названия столбцов."
   ]
  },
  {
   "cell_type": "code",
   "execution_count": 9,
   "id": "9662045f-c937-4b02-ae9d-9b7f7e3c8b26",
   "metadata": {},
   "outputs": [
    {
     "data": {
      "text/plain": [
       "Index(['userID', 'Track', 'artist', 'genre', '  City  ', 'time', 'Day'], dtype='object')"
      ]
     },
     "execution_count": 9,
     "metadata": {},
     "output_type": "execute_result"
    }
   ],
   "source": [
    "music.columns"
   ]
  },
  {
   "cell_type": "markdown",
   "id": "06a05613-0008-4453-81e7-975ab44d05ed",
   "metadata": {},
   "source": [
    "В названиях некоторых столбцов присутствуют лишние пробелы, также некоторые названия нужно привести к нижнему регистру. Заменим название столбцов согласно PEP-8."
   ]
  },
  {
   "cell_type": "code",
   "execution_count": 10,
   "id": "34ce3f81-4803-490f-a35a-d1e5775c1b50",
   "metadata": {},
   "outputs": [],
   "source": [
    "music.columns = music.columns.str.lower()\n",
    "music = music.rename(columns={'userid': 'user_id', '  city  ': 'city'})"
   ]
  },
  {
   "cell_type": "markdown",
   "id": "90320c65-19b2-49b8-b77b-df735e946bda",
   "metadata": {},
   "source": [
    "В таблице в трёх столбцах были пропуски данных: название произведения, исполнитель трека и жанр. Пропуски значений означают, что для некоторых музыкальных треков доступна не вся информация: не указан исполнитель, нет определённого жанра. Так как для анализа столбец с жанром музыкального произведения важен, то все строки с пропущенным жанром можно удалить. В остальных столбцах пропуски можно заменить на \"неизвестно\", так как восстановить эту информацию не предоставляется возможным."
   ]
  },
  {
   "cell_type": "code",
   "execution_count": 11,
   "id": "7974d6e4-c137-499b-b438-41e6f936f631",
   "metadata": {},
   "outputs": [],
   "source": [
    "music.dropna(subset = ['genre'], inplace = True)\n",
    "del_value[0] = music.shape[0]"
   ]
  },
  {
   "cell_type": "code",
   "execution_count": 12,
   "id": "af5239ec-b9be-45b0-a5ad-847cf0ee0ca1",
   "metadata": {},
   "outputs": [],
   "source": [
    "columns_to_replace = ['track', 'artist']\n",
    "for df_replace in columns_to_replace:\n",
    "    music[df_replace] = music[df_replace].fillna('unknown')"
   ]
  },
  {
   "cell_type": "code",
   "execution_count": 13,
   "id": "5250c088-ce3c-467b-bc65-65c98457eea4",
   "metadata": {},
   "outputs": [
    {
     "name": "stdout",
     "output_type": "stream",
     "text": [
      "Процент удалённых значений:  1.8%\n"
     ]
    }
   ],
   "source": [
    "print('Процент удалённых значений: ', \n",
    "      \"{0:.1%}\".format((del_value[1] - del_value[0]) / del_value[1]))"
   ]
  },
  {
   "cell_type": "markdown",
   "id": "0508fa85-1452-4098-a0b6-48ce3a543211",
   "metadata": {},
   "source": [
    "Проверим, что все пропуски были исправлены на значения."
   ]
  },
  {
   "cell_type": "code",
   "execution_count": 14,
   "id": "adeb7892-3d8b-4d48-9c94-546f38270fb6",
   "metadata": {},
   "outputs": [
    {
     "data": {
      "text/plain": [
       "user_id    0\n",
       "track      0\n",
       "artist     0\n",
       "genre      0\n",
       "city       0\n",
       "time       0\n",
       "day        0\n",
       "dtype: int64"
      ]
     },
     "execution_count": 14,
     "metadata": {},
     "output_type": "execute_result"
    }
   ],
   "source": [
    "music.isna().sum()"
   ]
  },
  {
   "cell_type": "markdown",
   "id": "f83147ec-89ef-488e-8a93-aa763a2dce5f",
   "metadata": {},
   "source": [
    "### Удаление дубликатов"
   ]
  },
  {
   "cell_type": "markdown",
   "id": "c61e4066-da26-4e4a-8f95-5e2cdf9122ab",
   "metadata": {},
   "source": [
    "В таблице было 3826 строчек явных дубликатов. Дубликаты могли появиться вследствие сбоя в записи данных. Удалим их."
   ]
  },
  {
   "cell_type": "code",
   "execution_count": 15,
   "id": "69f8869c-0098-4056-a4d1-6fa20f8315c4",
   "metadata": {},
   "outputs": [],
   "source": [
    "music = music.drop_duplicates().reset_index(drop=True)\n",
    "del_value[0] = music.shape[0]"
   ]
  },
  {
   "cell_type": "markdown",
   "id": "eb430718-8ecf-44e6-aeaa-b90ee6414f7a",
   "metadata": {},
   "source": [
    "Проверим неявные дубликаты, которые могли оказаться в колонке с жанром музыкального трека. Сохраним список уникальных значений столбца с жанрами в переменной genres_list."
   ]
  },
  {
   "cell_type": "code",
   "execution_count": 16,
   "id": "f329179d-3354-4d45-a11f-6b73b6445685",
   "metadata": {},
   "outputs": [
    {
     "name": "stdout",
     "output_type": "stream",
     "text": [
      "Количество уникальных жанров:  287\n"
     ]
    }
   ],
   "source": [
    "genres_list = music['genre'].unique()\n",
    "print('Количество уникальных жанров: ', music['genre'].nunique())"
   ]
  },
  {
   "cell_type": "markdown",
   "id": "00a29061-5d13-41be-8dc6-b9f0ad07a9dd",
   "metadata": {},
   "source": [
    "В таблице могли оказаться разные варианты названия жанра хип-хоп. Вызовем функцию find_genre() для поиска различных вариантов названия жанра хип-хоп в таблице.\n",
    "\n",
    "Правильное название — hiphop. Поищем другие варианты:\n",
    "- hip\n",
    "- hop\n",
    "- hip-hop"
   ]
  },
  {
   "cell_type": "code",
   "execution_count": 17,
   "id": "0d2dcf0a-5f47-421f-8ed7-396cf942dd99",
   "metadata": {},
   "outputs": [
    {
     "name": "stdout",
     "output_type": "stream",
     "text": [
      "Количество правильного написания жанра hiphop:  1\n",
      "Количество написания жанра hip:  1\n",
      "Количество написания жанра hop:  0\n",
      "Количество написания жанра hip-hop:  0\n"
     ]
    }
   ],
   "source": [
    "print('Количество правильного написания жанра hiphop: ', find_genre('hiphop'))\n",
    "print('Количество написания жанра hip: ', find_genre('hip'))\n",
    "print('Количество написания жанра hop: ', find_genre('hop'))\n",
    "print('Количество написания жанра hip-hop: ', find_genre('hip-hop'))"
   ]
  },
  {
   "cell_type": "markdown",
   "id": "eb884dc0-3435-4ff2-8df1-e1c5161e7bae",
   "metadata": {},
   "source": [
    "Как видно, для названий жанра hiphop есть всего один неявный дубликат: *hip*. Приведём его к принятому обозначению."
   ]
  },
  {
   "cell_type": "code",
   "execution_count": 18,
   "id": "ffbbb540-8343-4582-845d-33bc4e816ded",
   "metadata": {},
   "outputs": [
    {
     "name": "stdout",
     "output_type": "stream",
     "text": [
      "Количество уникальных жанров:  286\n"
     ]
    }
   ],
   "source": [
    "music['genre'] = music['genre'].replace('hip', 'hiphop')\n",
    "print('Количество уникальных жанров: ', music['genre'].nunique())"
   ]
  },
  {
   "cell_type": "markdown",
   "id": "e728c669-485c-4f44-a06c-c8d0bdcf8395",
   "metadata": {},
   "source": [
    "Проверим, что из таблицы были удалены все явные дубликаты."
   ]
  },
  {
   "cell_type": "code",
   "execution_count": 19,
   "id": "d6c0d41a-fc1f-4132-8bdf-5ba5138a6d45",
   "metadata": {},
   "outputs": [
    {
     "data": {
      "text/plain": [
       "0"
      ]
     },
     "execution_count": 19,
     "metadata": {},
     "output_type": "execute_result"
    }
   ],
   "source": [
    "music.duplicated().sum()"
   ]
  },
  {
   "cell_type": "markdown",
   "id": "18d8ba07-3317-4c67-8af5-675e8be032f9",
   "metadata": {},
   "source": [
    "Получим общую информацию о данных. Убедимся, что предобработка выполнена успешно."
   ]
  },
  {
   "cell_type": "code",
   "execution_count": 20,
   "id": "8126f475-a06b-44c2-8765-f20d58cc20bf",
   "metadata": {},
   "outputs": [
    {
     "name": "stdout",
     "output_type": "stream",
     "text": [
      "<class 'pandas.core.frame.DataFrame'>\n",
      "RangeIndex: 60126 entries, 0 to 60125\n",
      "Data columns (total 7 columns):\n",
      " #   Column   Non-Null Count  Dtype \n",
      "---  ------   --------------  ----- \n",
      " 0   user_id  60126 non-null  object\n",
      " 1   track    60126 non-null  object\n",
      " 2   artist   60126 non-null  object\n",
      " 3   genre    60126 non-null  object\n",
      " 4   city     60126 non-null  object\n",
      " 5   time     60126 non-null  object\n",
      " 6   day      60126 non-null  object\n",
      "dtypes: object(7)\n",
      "memory usage: 3.2+ MB\n"
     ]
    }
   ],
   "source": [
    "music.info()"
   ]
  },
  {
   "cell_type": "code",
   "execution_count": 21,
   "id": "22e92ef4-5a9c-4327-91c5-4790e1b559cc",
   "metadata": {},
   "outputs": [
    {
     "name": "stdout",
     "output_type": "stream",
     "text": [
      "Процент удалённых значений:  7.6%\n"
     ]
    }
   ],
   "source": [
    "print('Процент удалённых значений: ', \n",
    "      \"{0:.1%}\".format((del_value[1] - del_value[0]) / del_value[1]))"
   ]
  },
  {
   "cell_type": "markdown",
   "id": "ac67c07c-fd55-4855-b443-86f38160238b",
   "metadata": {},
   "source": [
    "### Промежуточные выводы:"
   ]
  },
  {
   "cell_type": "markdown",
   "id": "ba8c90b8-eb35-4f69-8ffa-907d3b8664ea",
   "metadata": {},
   "source": [
    "Была проведена предобработка данных для таблицы с музыкальными треками пользователей.\n",
    "- Заголовки столбцов были приведены к принятому стилю.\n",
    "- Доля пропусков в столбце с исполнителем занимала 11.1% от общего количества строк в датафрейме.\n",
    "- В остальных столбцах с названием трека и жанре композиции пропуски занимали до 2% данных.\n",
    "- Строчки, в которых были пропуски данных о жанре трека, были удалены.\n",
    "- Пропуски в остальных столбцах были заменены на значение \"неизвестно\".\n",
    "- В таблице присутствовало 3826 записей явных дубликатов, они были удалены из таблицы.\n",
    "- Прроцент удалённых значений составил 7.6% от данных датафрейма.\n",
    "- В столбце с жанром трека присутствовали разные варианты записи жанра hiphop, они были приведены к правильному названию.\n",
    "- После замены осталось 286 уникальных жанра вместо 287.\n",
    "- Данные подготовлены для дальнейшего анализа."
   ]
  },
  {
   "cell_type": "markdown",
   "id": "7e400ab6-7886-4558-b461-11b6bc9db7c0",
   "metadata": {},
   "source": [
    "## Проверка гипотез"
   ]
  },
  {
   "cell_type": "markdown",
   "id": "e608df4c-dd80-4fa9-bf0b-71a88fa317af",
   "metadata": {},
   "source": [
    "### Сравнение поведения пользователей двух столиц"
   ]
  },
  {
   "cell_type": "markdown",
   "id": "7448685a-1234-433c-bcf4-6f5a0a138e6a",
   "metadata": {},
   "source": [
    "Первая гипотеза утверждает, что пользователи по-разному слушают музыку в Москве и Санкт-Петербурге. Необходимо проверить это предположение по данным о трёх днях недели — понедельнике, среде и пятнице.\n",
    "\n",
    "Оценим активность пользователей в каждом городе. "
   ]
  },
  {
   "cell_type": "code",
   "execution_count": 22,
   "id": "0be10feb-a575-484f-8573-b6f33a4d5fad",
   "metadata": {},
   "outputs": [
    {
     "data": {
      "text/html": [
       "<div>\n",
       "<style scoped>\n",
       "    .dataframe tbody tr th:only-of-type {\n",
       "        vertical-align: middle;\n",
       "    }\n",
       "\n",
       "    .dataframe tbody tr th {\n",
       "        vertical-align: top;\n",
       "    }\n",
       "\n",
       "    .dataframe thead th {\n",
       "        text-align: right;\n",
       "    }\n",
       "</style>\n",
       "<table border=\"1\" class=\"dataframe\">\n",
       "  <thead>\n",
       "    <tr style=\"text-align: right;\">\n",
       "      <th></th>\n",
       "      <th>city</th>\n",
       "      <th>total</th>\n",
       "    </tr>\n",
       "  </thead>\n",
       "  <tbody>\n",
       "    <tr>\n",
       "      <th>0</th>\n",
       "      <td>Moscow</td>\n",
       "      <td>41892</td>\n",
       "    </tr>\n",
       "    <tr>\n",
       "      <th>1</th>\n",
       "      <td>Saint-Petersburg</td>\n",
       "      <td>18234</td>\n",
       "    </tr>\n",
       "  </tbody>\n",
       "</table>\n",
       "</div>"
      ],
      "text/plain": [
       "               city  total\n",
       "0            Moscow  41892\n",
       "1  Saint-Petersburg  18234"
      ]
     },
     "execution_count": 22,
     "metadata": {},
     "output_type": "execute_result"
    }
   ],
   "source": [
    "table_pivot(data=music, col_group='city', values='user_id', func='count')"
   ]
  },
  {
   "cell_type": "markdown",
   "id": "20d93cce-f22d-4664-8ab5-9d7400c87097",
   "metadata": {},
   "source": [
    "В Москве прослушиваний больше, чем в Петербурге, но и самых пользователей в Москве также больше, чем в Питере. Так что из этого не следует, что московские пользователи чаще слушают музыку.\n",
    "\n",
    "Подсчитаем прослушивания в понедельник, среду и пятницу для двух городов одновременно."
   ]
  },
  {
   "cell_type": "code",
   "execution_count": 23,
   "id": "e7287aaf-be75-4b0b-b287-459a3386c16d",
   "metadata": {},
   "outputs": [
    {
     "data": {
      "text/html": [
       "<div>\n",
       "<style scoped>\n",
       "    .dataframe tbody tr th:only-of-type {\n",
       "        vertical-align: middle;\n",
       "    }\n",
       "\n",
       "    .dataframe tbody tr th {\n",
       "        vertical-align: top;\n",
       "    }\n",
       "\n",
       "    .dataframe thead th {\n",
       "        text-align: right;\n",
       "    }\n",
       "</style>\n",
       "<table border=\"1\" class=\"dataframe\">\n",
       "  <thead>\n",
       "    <tr style=\"text-align: right;\">\n",
       "      <th></th>\n",
       "      <th>day</th>\n",
       "      <th>total</th>\n",
       "    </tr>\n",
       "  </thead>\n",
       "  <tbody>\n",
       "    <tr>\n",
       "      <th>0</th>\n",
       "      <td>Friday</td>\n",
       "      <td>21482</td>\n",
       "    </tr>\n",
       "    <tr>\n",
       "      <th>1</th>\n",
       "      <td>Monday</td>\n",
       "      <td>20866</td>\n",
       "    </tr>\n",
       "    <tr>\n",
       "      <th>2</th>\n",
       "      <td>Wednesday</td>\n",
       "      <td>17778</td>\n",
       "    </tr>\n",
       "  </tbody>\n",
       "</table>\n",
       "</div>"
      ],
      "text/plain": [
       "         day  total\n",
       "0     Friday  21482\n",
       "1     Monday  20866\n",
       "2  Wednesday  17778"
      ]
     },
     "execution_count": 23,
     "metadata": {},
     "output_type": "execute_result"
    }
   ],
   "source": [
    "table_pivot(data=music, col_group='day', values='user_id', func='count')"
   ]
  },
  {
   "cell_type": "markdown",
   "id": "9c786cb3-1428-4358-a4e9-2bc5b76dc77a",
   "metadata": {},
   "source": [
    "В среднем пользователи из двух городов менее активны по средам и более вовлечены в прослушивание музыки по пятницам и понедельникам. Но картина может измениться, если рассмотреть каждый город в отдельности."
   ]
  },
  {
   "cell_type": "code",
   "execution_count": 24,
   "id": "fdefa1e2-1c21-43a2-b189-1056991806ec",
   "metadata": {},
   "outputs": [
    {
     "data": {
      "text/html": [
       "<div>\n",
       "<style scoped>\n",
       "    .dataframe tbody tr th:only-of-type {\n",
       "        vertical-align: middle;\n",
       "    }\n",
       "\n",
       "    .dataframe tbody tr th {\n",
       "        vertical-align: top;\n",
       "    }\n",
       "\n",
       "    .dataframe thead th {\n",
       "        text-align: right;\n",
       "    }\n",
       "</style>\n",
       "<table border=\"1\" class=\"dataframe\">\n",
       "  <thead>\n",
       "    <tr style=\"text-align: right;\">\n",
       "      <th>day</th>\n",
       "      <th>Friday</th>\n",
       "      <th>Monday</th>\n",
       "      <th>Wednesday</th>\n",
       "    </tr>\n",
       "    <tr>\n",
       "      <th>city</th>\n",
       "      <th></th>\n",
       "      <th></th>\n",
       "      <th></th>\n",
       "    </tr>\n",
       "  </thead>\n",
       "  <tbody>\n",
       "    <tr>\n",
       "      <th>Moscow</th>\n",
       "      <td>15680</td>\n",
       "      <td>15347</td>\n",
       "      <td>10865</td>\n",
       "    </tr>\n",
       "    <tr>\n",
       "      <th>Saint-Petersburg</th>\n",
       "      <td>5802</td>\n",
       "      <td>5519</td>\n",
       "      <td>6913</td>\n",
       "    </tr>\n",
       "  </tbody>\n",
       "</table>\n",
       "</div>"
      ],
      "text/plain": [
       "day               Friday  Monday  Wednesday\n",
       "city                                       \n",
       "Moscow             15680   15347      10865\n",
       "Saint-Petersburg    5802    5519       6913"
      ]
     },
     "execution_count": 24,
     "metadata": {},
     "output_type": "execute_result"
    }
   ],
   "source": [
    "pd.pivot_table(music, values='user_id', index=['city'], columns=['day'], aggfunc='count')"
   ]
  },
  {
   "cell_type": "markdown",
   "id": "4801bc4a-8bbb-4f16-98cf-913fc72dd615",
   "metadata": {},
   "source": [
    "Данные показывают разницу поведения пользователей:\n",
    "- В Москве пик прослушиваний приходится на понедельник и пятницу? причём в почти равной мере, а в среду заметен сильный спад.\n",
    "- В Петербурге, наоборот, больше слушают музыку по средам. Активность в понедельник и пятницу здесь почти в равной мере уступает среде.\n",
    "\n",
    "Значит, данные говорят в пользу первой гипотезы о том, что пользователи по-разному слушают музыку в Москве и Санкт-Петербурге."
   ]
  },
  {
   "cell_type": "markdown",
   "id": "8d24998d-345b-49d7-a623-68b0462e0e47",
   "metadata": {},
   "source": [
    "### Музыка в начале и в конце недели"
   ]
  },
  {
   "cell_type": "markdown",
   "id": "2018dd53-e92b-46e9-b52e-2f8aa497c98f",
   "metadata": {},
   "source": [
    "Согласно второй гипотезе, утром в понедельник в Москве преобладают одни жанры, а в Петербурге — другие. Так же и вечером пятницы преобладают разные жанры — в зависимости от города."
   ]
  },
  {
   "cell_type": "code",
   "execution_count": 25,
   "id": "4ad2201f-31dd-4771-9fd4-f0413306dbd5",
   "metadata": {},
   "outputs": [],
   "source": [
    "# Выделим отдельно пользователей из Москвы и Питера\n",
    "moscow_general = music.query('city == \"Moscow\"')\n",
    "spb_general = music.query('city == \"Saint-Petersburg\"')"
   ]
  },
  {
   "cell_type": "markdown",
   "id": "e9a53531-f158-4f54-a3fa-7f343bde5039",
   "metadata": {},
   "source": [
    "Cравним результаты по таблице для Москвы и Санкт-Петербурга в понедельник утром (с 7 до 11)."
   ]
  },
  {
   "cell_type": "code",
   "execution_count": 26,
   "id": "332673ad-7142-4507-966b-59f73202f675",
   "metadata": {},
   "outputs": [
    {
     "data": {
      "text/html": [
       "<div>\n",
       "<style scoped>\n",
       "    .dataframe tbody tr th:only-of-type {\n",
       "        vertical-align: middle;\n",
       "    }\n",
       "\n",
       "    .dataframe tbody tr th {\n",
       "        vertical-align: top;\n",
       "    }\n",
       "\n",
       "    .dataframe thead th {\n",
       "        text-align: right;\n",
       "    }\n",
       "</style>\n",
       "<table border=\"1\" class=\"dataframe\">\n",
       "  <thead>\n",
       "    <tr style=\"text-align: right;\">\n",
       "      <th></th>\n",
       "      <th>genre</th>\n",
       "      <th>total</th>\n",
       "    </tr>\n",
       "  </thead>\n",
       "  <tbody>\n",
       "    <tr>\n",
       "      <th>0</th>\n",
       "      <td>pop</td>\n",
       "      <td>781</td>\n",
       "    </tr>\n",
       "    <tr>\n",
       "      <th>1</th>\n",
       "      <td>dance</td>\n",
       "      <td>549</td>\n",
       "    </tr>\n",
       "    <tr>\n",
       "      <th>2</th>\n",
       "      <td>electronic</td>\n",
       "      <td>480</td>\n",
       "    </tr>\n",
       "    <tr>\n",
       "      <th>3</th>\n",
       "      <td>rock</td>\n",
       "      <td>474</td>\n",
       "    </tr>\n",
       "    <tr>\n",
       "      <th>4</th>\n",
       "      <td>hiphop</td>\n",
       "      <td>286</td>\n",
       "    </tr>\n",
       "    <tr>\n",
       "      <th>5</th>\n",
       "      <td>ruspop</td>\n",
       "      <td>186</td>\n",
       "    </tr>\n",
       "    <tr>\n",
       "      <th>6</th>\n",
       "      <td>world</td>\n",
       "      <td>181</td>\n",
       "    </tr>\n",
       "    <tr>\n",
       "      <th>7</th>\n",
       "      <td>rusrap</td>\n",
       "      <td>175</td>\n",
       "    </tr>\n",
       "    <tr>\n",
       "      <th>8</th>\n",
       "      <td>alternative</td>\n",
       "      <td>164</td>\n",
       "    </tr>\n",
       "    <tr>\n",
       "      <th>9</th>\n",
       "      <td>classical</td>\n",
       "      <td>157</td>\n",
       "    </tr>\n",
       "  </tbody>\n",
       "</table>\n",
       "</div>"
      ],
      "text/plain": [
       "         genre  total\n",
       "0          pop    781\n",
       "1        dance    549\n",
       "2   electronic    480\n",
       "3         rock    474\n",
       "4       hiphop    286\n",
       "5       ruspop    186\n",
       "6        world    181\n",
       "7       rusrap    175\n",
       "8  alternative    164\n",
       "9    classical    157"
      ]
     },
     "execution_count": 26,
     "metadata": {},
     "output_type": "execute_result"
    }
   ],
   "source": [
    "# Москва в понедельник утром\n",
    "genre_weekday(moscow_general, 'Monday', '07:00', '11:00')"
   ]
  },
  {
   "cell_type": "code",
   "execution_count": 27,
   "id": "cd5a77f5-2422-42ed-aeb2-455b97438809",
   "metadata": {},
   "outputs": [
    {
     "data": {
      "text/html": [
       "<div>\n",
       "<style scoped>\n",
       "    .dataframe tbody tr th:only-of-type {\n",
       "        vertical-align: middle;\n",
       "    }\n",
       "\n",
       "    .dataframe tbody tr th {\n",
       "        vertical-align: top;\n",
       "    }\n",
       "\n",
       "    .dataframe thead th {\n",
       "        text-align: right;\n",
       "    }\n",
       "</style>\n",
       "<table border=\"1\" class=\"dataframe\">\n",
       "  <thead>\n",
       "    <tr style=\"text-align: right;\">\n",
       "      <th></th>\n",
       "      <th>genre</th>\n",
       "      <th>total</th>\n",
       "    </tr>\n",
       "  </thead>\n",
       "  <tbody>\n",
       "    <tr>\n",
       "      <th>0</th>\n",
       "      <td>pop</td>\n",
       "      <td>218</td>\n",
       "    </tr>\n",
       "    <tr>\n",
       "      <th>1</th>\n",
       "      <td>dance</td>\n",
       "      <td>182</td>\n",
       "    </tr>\n",
       "    <tr>\n",
       "      <th>2</th>\n",
       "      <td>rock</td>\n",
       "      <td>162</td>\n",
       "    </tr>\n",
       "    <tr>\n",
       "      <th>3</th>\n",
       "      <td>electronic</td>\n",
       "      <td>147</td>\n",
       "    </tr>\n",
       "    <tr>\n",
       "      <th>4</th>\n",
       "      <td>hiphop</td>\n",
       "      <td>80</td>\n",
       "    </tr>\n",
       "    <tr>\n",
       "      <th>5</th>\n",
       "      <td>ruspop</td>\n",
       "      <td>64</td>\n",
       "    </tr>\n",
       "    <tr>\n",
       "      <th>6</th>\n",
       "      <td>alternative</td>\n",
       "      <td>58</td>\n",
       "    </tr>\n",
       "    <tr>\n",
       "      <th>7</th>\n",
       "      <td>rusrap</td>\n",
       "      <td>55</td>\n",
       "    </tr>\n",
       "    <tr>\n",
       "      <th>8</th>\n",
       "      <td>jazz</td>\n",
       "      <td>44</td>\n",
       "    </tr>\n",
       "    <tr>\n",
       "      <th>9</th>\n",
       "      <td>classical</td>\n",
       "      <td>40</td>\n",
       "    </tr>\n",
       "  </tbody>\n",
       "</table>\n",
       "</div>"
      ],
      "text/plain": [
       "         genre  total\n",
       "0          pop    218\n",
       "1        dance    182\n",
       "2         rock    162\n",
       "3   electronic    147\n",
       "4       hiphop     80\n",
       "5       ruspop     64\n",
       "6  alternative     58\n",
       "7       rusrap     55\n",
       "8         jazz     44\n",
       "9    classical     40"
      ]
     },
     "execution_count": 27,
     "metadata": {},
     "output_type": "execute_result"
    }
   ],
   "source": [
    "# Питер в понедельник утром\n",
    "genre_weekday(spb_general, 'Monday', '07:00', '11:00')"
   ]
  },
  {
   "cell_type": "markdown",
   "id": "d79b7fc9-f3b9-4a52-940e-4327f4d1fe9f",
   "metadata": {},
   "source": [
    "Если сравнить топ-10 жанров в понедельник утром, можно сделать такие выводы:\n",
    "\n",
    "1. В Москве и Петербурге слушают похожую музыку. В понедельник утром в топе находится энергичная музыка жанра \"pop\" и \"dance\". \n",
    "2. Единственное отличие — в московский рейтинг вошёл жанр “world”, а в петербургский — “джаз“."
   ]
  },
  {
   "cell_type": "code",
   "execution_count": 28,
   "id": "99529e55-e861-4045-b13b-8d6babdf0035",
   "metadata": {},
   "outputs": [
    {
     "data": {
      "text/html": [
       "<div>\n",
       "<style scoped>\n",
       "    .dataframe tbody tr th:only-of-type {\n",
       "        vertical-align: middle;\n",
       "    }\n",
       "\n",
       "    .dataframe tbody tr th {\n",
       "        vertical-align: top;\n",
       "    }\n",
       "\n",
       "    .dataframe thead th {\n",
       "        text-align: right;\n",
       "    }\n",
       "</style>\n",
       "<table border=\"1\" class=\"dataframe\">\n",
       "  <thead>\n",
       "    <tr style=\"text-align: right;\">\n",
       "      <th></th>\n",
       "      <th>genre</th>\n",
       "      <th>total</th>\n",
       "    </tr>\n",
       "  </thead>\n",
       "  <tbody>\n",
       "    <tr>\n",
       "      <th>0</th>\n",
       "      <td>pop</td>\n",
       "      <td>713</td>\n",
       "    </tr>\n",
       "    <tr>\n",
       "      <th>1</th>\n",
       "      <td>rock</td>\n",
       "      <td>517</td>\n",
       "    </tr>\n",
       "    <tr>\n",
       "      <th>2</th>\n",
       "      <td>dance</td>\n",
       "      <td>495</td>\n",
       "    </tr>\n",
       "    <tr>\n",
       "      <th>3</th>\n",
       "      <td>electronic</td>\n",
       "      <td>482</td>\n",
       "    </tr>\n",
       "    <tr>\n",
       "      <th>4</th>\n",
       "      <td>hiphop</td>\n",
       "      <td>273</td>\n",
       "    </tr>\n",
       "    <tr>\n",
       "      <th>5</th>\n",
       "      <td>world</td>\n",
       "      <td>208</td>\n",
       "    </tr>\n",
       "    <tr>\n",
       "      <th>6</th>\n",
       "      <td>ruspop</td>\n",
       "      <td>170</td>\n",
       "    </tr>\n",
       "    <tr>\n",
       "      <th>7</th>\n",
       "      <td>alternative</td>\n",
       "      <td>163</td>\n",
       "    </tr>\n",
       "    <tr>\n",
       "      <th>8</th>\n",
       "      <td>classical</td>\n",
       "      <td>163</td>\n",
       "    </tr>\n",
       "    <tr>\n",
       "      <th>9</th>\n",
       "      <td>rusrap</td>\n",
       "      <td>142</td>\n",
       "    </tr>\n",
       "  </tbody>\n",
       "</table>\n",
       "</div>"
      ],
      "text/plain": [
       "         genre  total\n",
       "0          pop    713\n",
       "1         rock    517\n",
       "2        dance    495\n",
       "3   electronic    482\n",
       "4       hiphop    273\n",
       "5        world    208\n",
       "6       ruspop    170\n",
       "7  alternative    163\n",
       "8    classical    163\n",
       "9       rusrap    142"
      ]
     },
     "execution_count": 28,
     "metadata": {},
     "output_type": "execute_result"
    }
   ],
   "source": [
    "# Москва в пятницу вечером\n",
    "genre_weekday(moscow_general, 'Friday', '17:00', '23:00')"
   ]
  },
  {
   "cell_type": "code",
   "execution_count": 29,
   "id": "a5ee3f9e-86f3-42dd-829a-71588f05cc28",
   "metadata": {},
   "outputs": [
    {
     "data": {
      "text/html": [
       "<div>\n",
       "<style scoped>\n",
       "    .dataframe tbody tr th:only-of-type {\n",
       "        vertical-align: middle;\n",
       "    }\n",
       "\n",
       "    .dataframe tbody tr th {\n",
       "        vertical-align: top;\n",
       "    }\n",
       "\n",
       "    .dataframe thead th {\n",
       "        text-align: right;\n",
       "    }\n",
       "</style>\n",
       "<table border=\"1\" class=\"dataframe\">\n",
       "  <thead>\n",
       "    <tr style=\"text-align: right;\">\n",
       "      <th></th>\n",
       "      <th>genre</th>\n",
       "      <th>total</th>\n",
       "    </tr>\n",
       "  </thead>\n",
       "  <tbody>\n",
       "    <tr>\n",
       "      <th>0</th>\n",
       "      <td>pop</td>\n",
       "      <td>256</td>\n",
       "    </tr>\n",
       "    <tr>\n",
       "      <th>1</th>\n",
       "      <td>rock</td>\n",
       "      <td>216</td>\n",
       "    </tr>\n",
       "    <tr>\n",
       "      <th>2</th>\n",
       "      <td>electronic</td>\n",
       "      <td>216</td>\n",
       "    </tr>\n",
       "    <tr>\n",
       "      <th>3</th>\n",
       "      <td>dance</td>\n",
       "      <td>210</td>\n",
       "    </tr>\n",
       "    <tr>\n",
       "      <th>4</th>\n",
       "      <td>hiphop</td>\n",
       "      <td>97</td>\n",
       "    </tr>\n",
       "    <tr>\n",
       "      <th>5</th>\n",
       "      <td>alternative</td>\n",
       "      <td>63</td>\n",
       "    </tr>\n",
       "    <tr>\n",
       "      <th>6</th>\n",
       "      <td>jazz</td>\n",
       "      <td>61</td>\n",
       "    </tr>\n",
       "    <tr>\n",
       "      <th>7</th>\n",
       "      <td>classical</td>\n",
       "      <td>60</td>\n",
       "    </tr>\n",
       "    <tr>\n",
       "      <th>8</th>\n",
       "      <td>rusrap</td>\n",
       "      <td>59</td>\n",
       "    </tr>\n",
       "    <tr>\n",
       "      <th>9</th>\n",
       "      <td>world</td>\n",
       "      <td>54</td>\n",
       "    </tr>\n",
       "  </tbody>\n",
       "</table>\n",
       "</div>"
      ],
      "text/plain": [
       "         genre  total\n",
       "0          pop    256\n",
       "1         rock    216\n",
       "2   electronic    216\n",
       "3        dance    210\n",
       "4       hiphop     97\n",
       "5  alternative     63\n",
       "6         jazz     61\n",
       "7    classical     60\n",
       "8       rusrap     59\n",
       "9        world     54"
      ]
     },
     "execution_count": 29,
     "metadata": {},
     "output_type": "execute_result"
    }
   ],
   "source": [
    "# Питер в пятницу вечером\n",
    "genre_weekday(spb_general, 'Friday', '17:00', '23:00')"
   ]
  },
  {
   "cell_type": "markdown",
   "id": "ebe835b6-fcfc-4818-a06f-e9683488aebf",
   "metadata": {},
   "source": [
    "Вечер пятницы не сильно меняет эту картину. Некоторые жанры поднимаются немного выше, другие спускаются, но в целом топ-10 остаётся тем же самым. Единственное, что в пятницу в Питере в топе появляется жанр \"world\" и пропадает жанр \"ruspop\".\n",
    "\n",
    "Таким образом, вторая гипотеза подтвердилась лишь частично:\n",
    "- Пользователи слушают похожую музыку в начале недели и в конце.\n",
    "- Разница между Москвой и Петербургом не слишком выражена.\n",
    "- Жанр поп безусловный лидер и в понедельник утрои и в пятницу вечером, а топ-5 в целом не различается в обеих столицах.\n",
    "- Конец списка немного более выражен для обеих столиц в разные дни недели и разное время суток.\n",
    "- В Москве чаще слушают русскую популярную музыку, в Петербурге — джаз."
   ]
  },
  {
   "cell_type": "markdown",
   "id": "986fbf11-b816-450e-8c01-14d3ed068280",
   "metadata": {},
   "source": [
    "### Жанровые предпочтения в Москве и Петербурге"
   ]
  },
  {
   "cell_type": "markdown",
   "id": "49c1ba19-9154-4133-b5b7-df235d3ba050",
   "metadata": {},
   "source": [
    "Гипотеза: Петербург — столица рэпа, музыку этого жанра там слушают чаще, чем в Москве. А Москва — город контрастов, в котором, тем не менее, преобладает поп-музыка."
   ]
  },
  {
   "cell_type": "code",
   "execution_count": 30,
   "id": "03937217-c9c6-4bec-8d79-0ad66043c0dd",
   "metadata": {},
   "outputs": [
    {
     "data": {
      "text/html": [
       "<div>\n",
       "<style scoped>\n",
       "    .dataframe tbody tr th:only-of-type {\n",
       "        vertical-align: middle;\n",
       "    }\n",
       "\n",
       "    .dataframe tbody tr th {\n",
       "        vertical-align: top;\n",
       "    }\n",
       "\n",
       "    .dataframe thead th {\n",
       "        text-align: right;\n",
       "    }\n",
       "</style>\n",
       "<table border=\"1\" class=\"dataframe\">\n",
       "  <thead>\n",
       "    <tr style=\"text-align: right;\">\n",
       "      <th></th>\n",
       "      <th>genre</th>\n",
       "      <th>total</th>\n",
       "    </tr>\n",
       "  </thead>\n",
       "  <tbody>\n",
       "    <tr>\n",
       "      <th>0</th>\n",
       "      <td>pop</td>\n",
       "      <td>5892</td>\n",
       "    </tr>\n",
       "    <tr>\n",
       "      <th>1</th>\n",
       "      <td>dance</td>\n",
       "      <td>4435</td>\n",
       "    </tr>\n",
       "    <tr>\n",
       "      <th>2</th>\n",
       "      <td>rock</td>\n",
       "      <td>3965</td>\n",
       "    </tr>\n",
       "    <tr>\n",
       "      <th>3</th>\n",
       "      <td>electronic</td>\n",
       "      <td>3786</td>\n",
       "    </tr>\n",
       "    <tr>\n",
       "      <th>4</th>\n",
       "      <td>hiphop</td>\n",
       "      <td>2096</td>\n",
       "    </tr>\n",
       "    <tr>\n",
       "      <th>5</th>\n",
       "      <td>classical</td>\n",
       "      <td>1616</td>\n",
       "    </tr>\n",
       "    <tr>\n",
       "      <th>6</th>\n",
       "      <td>world</td>\n",
       "      <td>1432</td>\n",
       "    </tr>\n",
       "    <tr>\n",
       "      <th>7</th>\n",
       "      <td>alternative</td>\n",
       "      <td>1379</td>\n",
       "    </tr>\n",
       "    <tr>\n",
       "      <th>8</th>\n",
       "      <td>ruspop</td>\n",
       "      <td>1372</td>\n",
       "    </tr>\n",
       "    <tr>\n",
       "      <th>9</th>\n",
       "      <td>rusrap</td>\n",
       "      <td>1161</td>\n",
       "    </tr>\n",
       "  </tbody>\n",
       "</table>\n",
       "</div>"
      ],
      "text/plain": [
       "         genre  total\n",
       "0          pop   5892\n",
       "1        dance   4435\n",
       "2         rock   3965\n",
       "3   electronic   3786\n",
       "4       hiphop   2096\n",
       "5    classical   1616\n",
       "6        world   1432\n",
       "7  alternative   1379\n",
       "8       ruspop   1372\n",
       "9       rusrap   1161"
      ]
     },
     "execution_count": 30,
     "metadata": {},
     "output_type": "execute_result"
    }
   ],
   "source": [
    "# топ-10 прослушиваемые жанры Москвы\n",
    "table_pivot(data=moscow_general, col_group='genre', values='genre', func='count')\\\n",
    "           .sort_values(by='total', ascending = False).head(10).reset_index(drop=True)"
   ]
  },
  {
   "cell_type": "code",
   "execution_count": 31,
   "id": "33e85c96-243e-4a4c-8f97-dd1761d85c88",
   "metadata": {},
   "outputs": [
    {
     "data": {
      "text/html": [
       "<div>\n",
       "<style scoped>\n",
       "    .dataframe tbody tr th:only-of-type {\n",
       "        vertical-align: middle;\n",
       "    }\n",
       "\n",
       "    .dataframe tbody tr th {\n",
       "        vertical-align: top;\n",
       "    }\n",
       "\n",
       "    .dataframe thead th {\n",
       "        text-align: right;\n",
       "    }\n",
       "</style>\n",
       "<table border=\"1\" class=\"dataframe\">\n",
       "  <thead>\n",
       "    <tr style=\"text-align: right;\">\n",
       "      <th></th>\n",
       "      <th>genre</th>\n",
       "      <th>total</th>\n",
       "    </tr>\n",
       "  </thead>\n",
       "  <tbody>\n",
       "    <tr>\n",
       "      <th>0</th>\n",
       "      <td>pop</td>\n",
       "      <td>2431</td>\n",
       "    </tr>\n",
       "    <tr>\n",
       "      <th>1</th>\n",
       "      <td>dance</td>\n",
       "      <td>1932</td>\n",
       "    </tr>\n",
       "    <tr>\n",
       "      <th>2</th>\n",
       "      <td>rock</td>\n",
       "      <td>1879</td>\n",
       "    </tr>\n",
       "    <tr>\n",
       "      <th>3</th>\n",
       "      <td>electronic</td>\n",
       "      <td>1736</td>\n",
       "    </tr>\n",
       "    <tr>\n",
       "      <th>4</th>\n",
       "      <td>hiphop</td>\n",
       "      <td>960</td>\n",
       "    </tr>\n",
       "    <tr>\n",
       "      <th>5</th>\n",
       "      <td>alternative</td>\n",
       "      <td>649</td>\n",
       "    </tr>\n",
       "    <tr>\n",
       "      <th>6</th>\n",
       "      <td>classical</td>\n",
       "      <td>646</td>\n",
       "    </tr>\n",
       "    <tr>\n",
       "      <th>7</th>\n",
       "      <td>rusrap</td>\n",
       "      <td>564</td>\n",
       "    </tr>\n",
       "    <tr>\n",
       "      <th>8</th>\n",
       "      <td>ruspop</td>\n",
       "      <td>538</td>\n",
       "    </tr>\n",
       "    <tr>\n",
       "      <th>9</th>\n",
       "      <td>world</td>\n",
       "      <td>515</td>\n",
       "    </tr>\n",
       "  </tbody>\n",
       "</table>\n",
       "</div>"
      ],
      "text/plain": [
       "         genre  total\n",
       "0          pop   2431\n",
       "1        dance   1932\n",
       "2         rock   1879\n",
       "3   electronic   1736\n",
       "4       hiphop    960\n",
       "5  alternative    649\n",
       "6    classical    646\n",
       "7       rusrap    564\n",
       "8       ruspop    538\n",
       "9        world    515"
      ]
     },
     "execution_count": 31,
     "metadata": {},
     "output_type": "execute_result"
    }
   ],
   "source": [
    "# топ-10 прослушиваемые жанры Питера\n",
    "table_pivot(data=spb_general, col_group='genre', values='genre', func='count')\\\n",
    "           .sort_values(by='total', ascending = False).head(10).reset_index(drop=True)"
   ]
  },
  {
   "cell_type": "markdown",
   "id": "510e64c4-7b4a-41f4-87b8-8bc4d268f5a1",
   "metadata": {},
   "source": [
    "Гипотеза частично подтвердилась:\n",
    "- Поп-музыка — самый популярный жанр в Москве, что частично подтверждает гипотезу, но также он самый популярный жанр и в Питере.\n",
    "- Топ-5 жанров одинаков для Москвы и для Питера.\n",
    "- В топ-10 жанров для обоих городов встречается близкий жанр — русская популярная музыка.\n",
    "- Вопреки ожиданиям, рэп одинаково популярен в Москве и Петербурге. "
   ]
  },
  {
   "cell_type": "markdown",
   "id": "3a2268ae-0531-4171-9864-ce4dcddce94b",
   "metadata": {},
   "source": [
    "## Итоги исследования"
   ]
  },
  {
   "cell_type": "markdown",
   "id": "6c82c707-5e71-4e73-8e8c-83617a7f57c3",
   "metadata": {},
   "source": [
    "Было проведено исследование по теме музыкальных предпочтений жителей двух городов - Питера и Москвы.\n",
    "\n",
    "Перед анализом, данные были подготовлены для корректной работы:\n",
    "- В таблице содержалось 7 столбцов и 65079 записей с информацией о треках, которые слушают пользователи приложения.\n",
    "- В трёх столбцах были пропуски значений, причём в одном столбце доля пропусков составляла 11.1%.\n",
    "- Строчки с пропуском данных в жанре трека были удалены.\n",
    "- В остальных столбцах пропуски были заменены на значение \"неизвестно\".\n",
    "- В таблице были 3826 записей явных дубликатов, они были удалены из таблицы.\n",
    "- В столбце с жанром трека присутствовали разные варианты записи жанра hiphop, они были приведены к правильному названию.\n",
    "- Процент удалённых значений составил 7.6% от данных датафрейма.\n",
    "\n",
    "Были проверены три гипотезы:\n",
    "1. День недели по-разному влияет на активность пользователей в Москве и Петербурге.\n",
    "2. Музыкальные предпочтения меняются в течение недели.\n",
    "3. В Москве и Петербурге разные музыкальные вкусы: в Петербурге преобладает рэп, а в Москве — поп-музыка.\n",
    "\n",
    "Первая гипотеза полностью подтвердилась. Данные показывают разницу поведения пользователей:\n",
    "- В Москве пик прослушиваний приходится на понедельник и пятницу, а в среду заметен спад.\n",
    "- В Петербурге, наоборот, больше слушают музыку по средам. Активность в понедельник и пятницу здесь почти в равной мере уступает среде.\n",
    "\n",
    "Вторая гипотеза подтвердилась лишь отчасти.\n",
    "- Музыкальные предпочтения не сильно меняются в течение недели и для Москвы, и для Питера.\n",
    "- Топ-5 предпочтений в целом не различается в обеих столицах.\n",
    "- Конец списка немного более выражен для обеих стлиц в разные дни недели и разное время суток.\n",
    "- В Москве чаще слушают русскую популярную музыку, а в Петербурге — джаз.\n",
    "\n",
    "Третья гипотеза не подтвердилась. Самая популярная музыка в обоих городах - поп. Если различия в предпочтениях и существуют, на основной массе пользователей они незаметны. Вопреки ожиданиям, предпочтения жанров в Петербурге напоминают московские.\n",
    "\n",
    "Таким образом, можно подвести общий итог: музыкальные предпочтения пользователей из Москвы и Санкт-Петербурга мало отличаются друг от друга, пользователи слушают музыку схожим образом, но вот активны в разных городах в разные дни."
   ]
  }
 ],
 "metadata": {
  "kernelspec": {
   "display_name": "Python 3 (ipykernel)",
   "language": "python",
   "name": "python3"
  },
  "language_info": {
   "codemirror_mode": {
    "name": "ipython",
    "version": 3
   },
   "file_extension": ".py",
   "mimetype": "text/x-python",
   "name": "python",
   "nbconvert_exporter": "python",
   "pygments_lexer": "ipython3",
   "version": "3.11.5"
  }
 },
 "nbformat": 4,
 "nbformat_minor": 5
}
