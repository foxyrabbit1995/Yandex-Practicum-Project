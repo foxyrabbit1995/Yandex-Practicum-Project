{
 "cells": [
  {
   "cell_type": "markdown",
   "id": "f4c08a11-e163-4754-bffb-7b82f22e4ada",
   "metadata": {},
   "source": [
    "# Исследование надежности заемщиков"
   ]
  },
  {
   "cell_type": "markdown",
   "id": "4807bc23-6611-4fb8-baf8-79adfa5f7ac1",
   "metadata": {},
   "source": [
    "Кредитным отделом банка предоставлена статистика о платёжеспособности клиентов. Нужно разобраться, влияет ли семейное положение и количество детей клиента на факт погашения кредита в срок. Результаты исследования будут учтены при построении модели кредитного скоринга — специальной системы, которая оценивает способность потенциального заёмщика вернуть кредит банку.\n",
    "\n",
    "<font size=+1><b>Данные</b></font><br>\n",
    "Данные с заёмщиками credit_project.csv\n",
    "- `children` — количество детей в семье\n",
    "- `days_employed` — общий трудовой стаж в днях\n",
    "- `dob_years` — возраст клиента в годах\n",
    "- `education` — уровень образования клиента\n",
    "- `education_id` — идентификатор уровня образования\n",
    "- `family_status` — семейное положение\n",
    "- `family_status_id` — идентификатор семейного положения\n",
    "- `gender` — пол клиента\n",
    "- `income_type` — тип занятости\n",
    "- `debt` — имел задолженность по возврату кредитов (`1`), не имел задолжности (`0`)\n",
    "- `total_income` — ежемесячный доход\n",
    "- `purpose` — цель получения кредита\n",
    "\n",
    "<font size=+1><b>План работы:</b></font><br>\n",
    "- Загрузить и изучить данные\n",
    "- Найти и изучить пропуски в данных\n",
    "- Выделить важную информацию: \n",
    "    - категорию заёмщика по его зарплате\n",
    "    - категорию цели кредита\n",
    "- Выделить и обработать аномалии в данных\n",
    "- Выявить зависимость между возвратом кредита в срок и:\n",
    "    - количеством детей\n",
    "    - семейным положением\n",
    "    - уровнем дохода\n",
    "    - влияние целей кредита\n",
    "- Написать общий вывод"
   ]
  },
  {
   "cell_type": "markdown",
   "id": "d703b65c-31b9-4569-a249-a7f91a311599",
   "metadata": {},
   "source": [
    "## Загрузка данных"
   ]
  },
  {
   "cell_type": "markdown",
   "id": "92e4038a-042c-43a8-a594-cbb5484a57b5",
   "metadata": {},
   "source": [
    "### Используемые библиотеки и функции"
   ]
  },
  {
   "cell_type": "code",
   "execution_count": 1,
   "id": "db7814ff-6546-4d0a-8858-8eff906b96e1",
   "metadata": {},
   "outputs": [],
   "source": [
    "import pandas as pd\n",
    "import matplotlib.pyplot as plt"
   ]
  },
  {
   "cell_type": "code",
   "execution_count": 2,
   "id": "d0f65411-40c9-4b1e-b8a5-66b1c9630915",
   "metadata": {},
   "outputs": [],
   "source": [
    "# Цветовая палитра графиков\n",
    "cmap_table='coolwarm'\n",
    "cmap_table2='Blues'\n",
    "cmap_plot = 'Set3'"
   ]
  },
  {
   "cell_type": "code",
   "execution_count": 3,
   "id": "3efe6bd0-fe61-47f6-920d-999306810c16",
   "metadata": {},
   "outputs": [],
   "source": [
    "# функция для загрузки данных\n",
    "def main_info (dataset):\n",
    "    data = pd.read_csv(dataset, sep=',')\n",
    "    pd.set_option('max_colwidth', 200)\n",
    "    display(data.head())\n",
    "    print('------------------------------------------')\n",
    "    display('Основная информация по столбцам таблицы:')\n",
    "    display(data.info())\n",
    "    print('-------------------------------------')\n",
    "    display('Доля пропусков по столбцам таблицы:')\n",
    "    display(pd.DataFrame(round(data.isna().mean()\\\n",
    "                               .sort_values(ascending=False), 3))\\\n",
    "                        .style.format('{:.1%}')\\\n",
    "                        .background_gradient(cmap_table))\n",
    "    print('---------------------------------')\n",
    "    display('Основная информация по таблице:')\n",
    "    display(data.describe().style.format('{:.1f}'))\n",
    "    print('----------------------------------------')\n",
    "    display('Количество явных дубликатов в таблице:')\n",
    "    display(data.duplicated().sum())\n",
    "    print('--------------')\n",
    "    display('Гистограммы:')\n",
    "    data.hist(figsize=(20, 8))\n",
    "    plt.show();\n",
    "    return data"
   ]
  },
  {
   "cell_type": "code",
   "execution_count": 4,
   "id": "76e26516-cfcd-4e03-b76c-b1965b00048d",
   "metadata": {},
   "outputs": [],
   "source": [
    "# функция для создания сводной таблицы\n",
    "def table_pivot(data, col_group, values, func):\n",
    "    return data.groupby(by=col_group, as_index=False)\\\n",
    "               .agg(total = (values, func))"
   ]
  },
  {
   "cell_type": "code",
   "execution_count": 5,
   "id": "64710403-ab6d-4803-b84f-0f76354a107a",
   "metadata": {},
   "outputs": [],
   "source": [
    "# функция для создания сводной таблицы с долей пропусков\n",
    "def table_pass(data, col_group):\n",
    "    df = data.groupby(by='income_type', as_index=False)\\\n",
    "             .agg(total = ('income_type', 'count'),\n",
    "                  median = (col_group, 'median'),\n",
    "                  fill = (col_group, 'count'))\\\n",
    "             .sort_values(by='total', ascending=False) \n",
    "    df['share_pass'] = (df['total'] - df['fill']) / df['total']\n",
    "    df = df.loc[:, ['income_type', 'total', 'median', 'share_pass']]\n",
    "    return df.style.format({'median': '{:.1f}','share_pass': '{:.1%}'})\\\n",
    "             .background_gradient(cmap_table)"
   ]
  },
  {
   "cell_type": "code",
   "execution_count": 6,
   "id": "d630ab57-b697-4fc4-b39d-8568e10bb7d6",
   "metadata": {},
   "outputs": [],
   "source": [
    "# функция для построения графиков\n",
    "def bar_plot(data, col_group):\n",
    "    return data.plot(x=col_group,\n",
    "                     kind='bar',\n",
    "                     grid=True,\n",
    "                     figsize=(20, 8),\n",
    "                     legend=False,\n",
    "                     cmap=cmap_plot)"
   ]
  },
  {
   "cell_type": "code",
   "execution_count": 7,
   "id": "91f71238-b08a-4515-93ef-7c0e0bb13af2",
   "metadata": {},
   "outputs": [],
   "source": [
    "# функция для категоризации дохода\n",
    "def categorize_income(income):\n",
    "    try:\n",
    "        if 0 <= income <= 30000:\n",
    "            return 'G'\n",
    "        elif 30001 <= income <= 50000:\n",
    "            return 'F'\n",
    "        elif 50001 <= income <= 100000:\n",
    "            return 'E'\n",
    "        elif 100001 <= income <= 200000:\n",
    "            return 'D'\n",
    "        elif 200001 <= income <= 400000:\n",
    "            return 'C'\n",
    "        elif 400001 <= income <= 1000000:\n",
    "            return 'B'\n",
    "        elif income >= 1000001:\n",
    "            return 'A'\n",
    "    except:\n",
    "        pass"
   ]
  },
  {
   "cell_type": "code",
   "execution_count": 8,
   "id": "d78cb118-5edf-4139-baa9-92dc3c6cb32b",
   "metadata": {},
   "outputs": [],
   "source": [
    "# функция для категоризации причины кредита\n",
    "def categorize_purpose(row):\n",
    "    try:\n",
    "        if 'автом' in row:\n",
    "            return 'операции с автомобилем'\n",
    "        elif 'жил' in row or 'недвиж' in row:\n",
    "            return 'операции с недвижимостью'\n",
    "        elif 'свад' in row:\n",
    "            return 'проведение свадьбы'\n",
    "        elif 'образов' in row:\n",
    "            return 'получение образования'\n",
    "    except:\n",
    "        return 'нет категории'"
   ]
  },
  {
   "cell_type": "code",
   "execution_count": 9,
   "id": "1aa570ad-6906-4d93-9428-72e7ee60e456",
   "metadata": {},
   "outputs": [],
   "source": [
    "# функция для должников\n",
    "def debt(data, category):\n",
    "    df = data.groupby(by=category, as_index=False)\\\n",
    "             .agg(total_credit = ('debt', 'count'),\n",
    "                  total_debt = ('debt', 'sum'),\n",
    "                  share_debt = ('debt', 'mean'))  \n",
    "    return df.style.format({'share_debt': '{:.1%}'})\\\n",
    "             .background_gradient(cmap=cmap_table2, axis=0)"
   ]
  },
  {
   "cell_type": "markdown",
   "id": "740e8d02-2afe-43d2-8daf-02c67bfb1924",
   "metadata": {},
   "source": [
    "### Загрузка данных и основная информация"
   ]
  },
  {
   "cell_type": "markdown",
   "id": "97323954-d9e2-4075-a5af-ae0c7488f909",
   "metadata": {},
   "source": [
    "Посмотрим на основную информацию из таблицы:"
   ]
  },
  {
   "cell_type": "code",
   "execution_count": 10,
   "id": "ae9c0d4e-b0e0-4332-ba99-4316543ed3e1",
   "metadata": {},
   "outputs": [
    {
     "data": {
      "text/html": [
       "<div>\n",
       "<style scoped>\n",
       "    .dataframe tbody tr th:only-of-type {\n",
       "        vertical-align: middle;\n",
       "    }\n",
       "\n",
       "    .dataframe tbody tr th {\n",
       "        vertical-align: top;\n",
       "    }\n",
       "\n",
       "    .dataframe thead th {\n",
       "        text-align: right;\n",
       "    }\n",
       "</style>\n",
       "<table border=\"1\" class=\"dataframe\">\n",
       "  <thead>\n",
       "    <tr style=\"text-align: right;\">\n",
       "      <th></th>\n",
       "      <th>children</th>\n",
       "      <th>days_employed</th>\n",
       "      <th>dob_years</th>\n",
       "      <th>education</th>\n",
       "      <th>education_id</th>\n",
       "      <th>family_status</th>\n",
       "      <th>family_status_id</th>\n",
       "      <th>gender</th>\n",
       "      <th>income_type</th>\n",
       "      <th>debt</th>\n",
       "      <th>total_income</th>\n",
       "      <th>purpose</th>\n",
       "    </tr>\n",
       "  </thead>\n",
       "  <tbody>\n",
       "    <tr>\n",
       "      <th>0</th>\n",
       "      <td>1</td>\n",
       "      <td>-8437.673028</td>\n",
       "      <td>42</td>\n",
       "      <td>высшее</td>\n",
       "      <td>0</td>\n",
       "      <td>женат / замужем</td>\n",
       "      <td>0</td>\n",
       "      <td>F</td>\n",
       "      <td>сотрудник</td>\n",
       "      <td>0</td>\n",
       "      <td>253875.639453</td>\n",
       "      <td>покупка жилья</td>\n",
       "    </tr>\n",
       "    <tr>\n",
       "      <th>1</th>\n",
       "      <td>1</td>\n",
       "      <td>-4024.803754</td>\n",
       "      <td>36</td>\n",
       "      <td>среднее</td>\n",
       "      <td>1</td>\n",
       "      <td>женат / замужем</td>\n",
       "      <td>0</td>\n",
       "      <td>F</td>\n",
       "      <td>сотрудник</td>\n",
       "      <td>0</td>\n",
       "      <td>112080.014102</td>\n",
       "      <td>приобретение автомобиля</td>\n",
       "    </tr>\n",
       "    <tr>\n",
       "      <th>2</th>\n",
       "      <td>0</td>\n",
       "      <td>-5623.422610</td>\n",
       "      <td>33</td>\n",
       "      <td>Среднее</td>\n",
       "      <td>1</td>\n",
       "      <td>женат / замужем</td>\n",
       "      <td>0</td>\n",
       "      <td>M</td>\n",
       "      <td>сотрудник</td>\n",
       "      <td>0</td>\n",
       "      <td>145885.952297</td>\n",
       "      <td>покупка жилья</td>\n",
       "    </tr>\n",
       "    <tr>\n",
       "      <th>3</th>\n",
       "      <td>3</td>\n",
       "      <td>-4124.747207</td>\n",
       "      <td>32</td>\n",
       "      <td>среднее</td>\n",
       "      <td>1</td>\n",
       "      <td>женат / замужем</td>\n",
       "      <td>0</td>\n",
       "      <td>M</td>\n",
       "      <td>сотрудник</td>\n",
       "      <td>0</td>\n",
       "      <td>267628.550329</td>\n",
       "      <td>дополнительное образование</td>\n",
       "    </tr>\n",
       "    <tr>\n",
       "      <th>4</th>\n",
       "      <td>0</td>\n",
       "      <td>340266.072047</td>\n",
       "      <td>53</td>\n",
       "      <td>среднее</td>\n",
       "      <td>1</td>\n",
       "      <td>гражданский брак</td>\n",
       "      <td>1</td>\n",
       "      <td>F</td>\n",
       "      <td>пенсионер</td>\n",
       "      <td>0</td>\n",
       "      <td>158616.077870</td>\n",
       "      <td>сыграть свадьбу</td>\n",
       "    </tr>\n",
       "  </tbody>\n",
       "</table>\n",
       "</div>"
      ],
      "text/plain": [
       "   children  days_employed  dob_years education  education_id  \\\n",
       "0         1   -8437.673028         42    высшее             0   \n",
       "1         1   -4024.803754         36   среднее             1   \n",
       "2         0   -5623.422610         33   Среднее             1   \n",
       "3         3   -4124.747207         32   среднее             1   \n",
       "4         0  340266.072047         53   среднее             1   \n",
       "\n",
       "      family_status  family_status_id gender income_type  debt   total_income  \\\n",
       "0   женат / замужем                 0      F   сотрудник     0  253875.639453   \n",
       "1   женат / замужем                 0      F   сотрудник     0  112080.014102   \n",
       "2   женат / замужем                 0      M   сотрудник     0  145885.952297   \n",
       "3   женат / замужем                 0      M   сотрудник     0  267628.550329   \n",
       "4  гражданский брак                 1      F   пенсионер     0  158616.077870   \n",
       "\n",
       "                      purpose  \n",
       "0               покупка жилья  \n",
       "1     приобретение автомобиля  \n",
       "2               покупка жилья  \n",
       "3  дополнительное образование  \n",
       "4             сыграть свадьбу  "
      ]
     },
     "metadata": {},
     "output_type": "display_data"
    },
    {
     "name": "stdout",
     "output_type": "stream",
     "text": [
      "------------------------------------------\n"
     ]
    },
    {
     "data": {
      "text/plain": [
       "'Основная информация по столбцам таблицы:'"
      ]
     },
     "metadata": {},
     "output_type": "display_data"
    },
    {
     "name": "stdout",
     "output_type": "stream",
     "text": [
      "<class 'pandas.core.frame.DataFrame'>\n",
      "RangeIndex: 21525 entries, 0 to 21524\n",
      "Data columns (total 12 columns):\n",
      " #   Column            Non-Null Count  Dtype  \n",
      "---  ------            --------------  -----  \n",
      " 0   children          21525 non-null  int64  \n",
      " 1   days_employed     19351 non-null  float64\n",
      " 2   dob_years         21525 non-null  int64  \n",
      " 3   education         21525 non-null  object \n",
      " 4   education_id      21525 non-null  int64  \n",
      " 5   family_status     21525 non-null  object \n",
      " 6   family_status_id  21525 non-null  int64  \n",
      " 7   gender            21525 non-null  object \n",
      " 8   income_type       21525 non-null  object \n",
      " 9   debt              21525 non-null  int64  \n",
      " 10  total_income      19351 non-null  float64\n",
      " 11  purpose           21525 non-null  object \n",
      "dtypes: float64(2), int64(5), object(5)\n",
      "memory usage: 2.0+ MB\n"
     ]
    },
    {
     "data": {
      "text/plain": [
       "None"
      ]
     },
     "metadata": {},
     "output_type": "display_data"
    },
    {
     "name": "stdout",
     "output_type": "stream",
     "text": [
      "-------------------------------------\n"
     ]
    },
    {
     "data": {
      "text/plain": [
       "'Доля пропусков по столбцам таблицы:'"
      ]
     },
     "metadata": {},
     "output_type": "display_data"
    },
    {
     "data": {
      "text/html": [
       "<style type=\"text/css\">\n",
       "#T_738c3_row0_col0, #T_738c3_row1_col0 {\n",
       "  background-color: #b40426;\n",
       "  color: #f1f1f1;\n",
       "}\n",
       "#T_738c3_row2_col0, #T_738c3_row3_col0, #T_738c3_row4_col0, #T_738c3_row5_col0, #T_738c3_row6_col0, #T_738c3_row7_col0, #T_738c3_row8_col0, #T_738c3_row9_col0, #T_738c3_row10_col0, #T_738c3_row11_col0 {\n",
       "  background-color: #3b4cc0;\n",
       "  color: #f1f1f1;\n",
       "}\n",
       "</style>\n",
       "<table id=\"T_738c3\">\n",
       "  <thead>\n",
       "    <tr>\n",
       "      <th class=\"blank level0\" >&nbsp;</th>\n",
       "      <th id=\"T_738c3_level0_col0\" class=\"col_heading level0 col0\" >0</th>\n",
       "    </tr>\n",
       "  </thead>\n",
       "  <tbody>\n",
       "    <tr>\n",
       "      <th id=\"T_738c3_level0_row0\" class=\"row_heading level0 row0\" >days_employed</th>\n",
       "      <td id=\"T_738c3_row0_col0\" class=\"data row0 col0\" >10.1%</td>\n",
       "    </tr>\n",
       "    <tr>\n",
       "      <th id=\"T_738c3_level0_row1\" class=\"row_heading level0 row1\" >total_income</th>\n",
       "      <td id=\"T_738c3_row1_col0\" class=\"data row1 col0\" >10.1%</td>\n",
       "    </tr>\n",
       "    <tr>\n",
       "      <th id=\"T_738c3_level0_row2\" class=\"row_heading level0 row2\" >children</th>\n",
       "      <td id=\"T_738c3_row2_col0\" class=\"data row2 col0\" >0.0%</td>\n",
       "    </tr>\n",
       "    <tr>\n",
       "      <th id=\"T_738c3_level0_row3\" class=\"row_heading level0 row3\" >dob_years</th>\n",
       "      <td id=\"T_738c3_row3_col0\" class=\"data row3 col0\" >0.0%</td>\n",
       "    </tr>\n",
       "    <tr>\n",
       "      <th id=\"T_738c3_level0_row4\" class=\"row_heading level0 row4\" >education</th>\n",
       "      <td id=\"T_738c3_row4_col0\" class=\"data row4 col0\" >0.0%</td>\n",
       "    </tr>\n",
       "    <tr>\n",
       "      <th id=\"T_738c3_level0_row5\" class=\"row_heading level0 row5\" >education_id</th>\n",
       "      <td id=\"T_738c3_row5_col0\" class=\"data row5 col0\" >0.0%</td>\n",
       "    </tr>\n",
       "    <tr>\n",
       "      <th id=\"T_738c3_level0_row6\" class=\"row_heading level0 row6\" >family_status</th>\n",
       "      <td id=\"T_738c3_row6_col0\" class=\"data row6 col0\" >0.0%</td>\n",
       "    </tr>\n",
       "    <tr>\n",
       "      <th id=\"T_738c3_level0_row7\" class=\"row_heading level0 row7\" >family_status_id</th>\n",
       "      <td id=\"T_738c3_row7_col0\" class=\"data row7 col0\" >0.0%</td>\n",
       "    </tr>\n",
       "    <tr>\n",
       "      <th id=\"T_738c3_level0_row8\" class=\"row_heading level0 row8\" >gender</th>\n",
       "      <td id=\"T_738c3_row8_col0\" class=\"data row8 col0\" >0.0%</td>\n",
       "    </tr>\n",
       "    <tr>\n",
       "      <th id=\"T_738c3_level0_row9\" class=\"row_heading level0 row9\" >income_type</th>\n",
       "      <td id=\"T_738c3_row9_col0\" class=\"data row9 col0\" >0.0%</td>\n",
       "    </tr>\n",
       "    <tr>\n",
       "      <th id=\"T_738c3_level0_row10\" class=\"row_heading level0 row10\" >debt</th>\n",
       "      <td id=\"T_738c3_row10_col0\" class=\"data row10 col0\" >0.0%</td>\n",
       "    </tr>\n",
       "    <tr>\n",
       "      <th id=\"T_738c3_level0_row11\" class=\"row_heading level0 row11\" >purpose</th>\n",
       "      <td id=\"T_738c3_row11_col0\" class=\"data row11 col0\" >0.0%</td>\n",
       "    </tr>\n",
       "  </tbody>\n",
       "</table>\n"
      ],
      "text/plain": [
       "<pandas.io.formats.style.Styler at 0x19505a6de10>"
      ]
     },
     "metadata": {},
     "output_type": "display_data"
    },
    {
     "name": "stdout",
     "output_type": "stream",
     "text": [
      "---------------------------------\n"
     ]
    },
    {
     "data": {
      "text/plain": [
       "'Основная информация по таблице:'"
      ]
     },
     "metadata": {},
     "output_type": "display_data"
    },
    {
     "data": {
      "text/html": [
       "<style type=\"text/css\">\n",
       "</style>\n",
       "<table id=\"T_bf586\">\n",
       "  <thead>\n",
       "    <tr>\n",
       "      <th class=\"blank level0\" >&nbsp;</th>\n",
       "      <th id=\"T_bf586_level0_col0\" class=\"col_heading level0 col0\" >children</th>\n",
       "      <th id=\"T_bf586_level0_col1\" class=\"col_heading level0 col1\" >days_employed</th>\n",
       "      <th id=\"T_bf586_level0_col2\" class=\"col_heading level0 col2\" >dob_years</th>\n",
       "      <th id=\"T_bf586_level0_col3\" class=\"col_heading level0 col3\" >education_id</th>\n",
       "      <th id=\"T_bf586_level0_col4\" class=\"col_heading level0 col4\" >family_status_id</th>\n",
       "      <th id=\"T_bf586_level0_col5\" class=\"col_heading level0 col5\" >debt</th>\n",
       "      <th id=\"T_bf586_level0_col6\" class=\"col_heading level0 col6\" >total_income</th>\n",
       "    </tr>\n",
       "  </thead>\n",
       "  <tbody>\n",
       "    <tr>\n",
       "      <th id=\"T_bf586_level0_row0\" class=\"row_heading level0 row0\" >count</th>\n",
       "      <td id=\"T_bf586_row0_col0\" class=\"data row0 col0\" >21525.0</td>\n",
       "      <td id=\"T_bf586_row0_col1\" class=\"data row0 col1\" >19351.0</td>\n",
       "      <td id=\"T_bf586_row0_col2\" class=\"data row0 col2\" >21525.0</td>\n",
       "      <td id=\"T_bf586_row0_col3\" class=\"data row0 col3\" >21525.0</td>\n",
       "      <td id=\"T_bf586_row0_col4\" class=\"data row0 col4\" >21525.0</td>\n",
       "      <td id=\"T_bf586_row0_col5\" class=\"data row0 col5\" >21525.0</td>\n",
       "      <td id=\"T_bf586_row0_col6\" class=\"data row0 col6\" >19351.0</td>\n",
       "    </tr>\n",
       "    <tr>\n",
       "      <th id=\"T_bf586_level0_row1\" class=\"row_heading level0 row1\" >mean</th>\n",
       "      <td id=\"T_bf586_row1_col0\" class=\"data row1 col0\" >0.5</td>\n",
       "      <td id=\"T_bf586_row1_col1\" class=\"data row1 col1\" >63046.5</td>\n",
       "      <td id=\"T_bf586_row1_col2\" class=\"data row1 col2\" >43.3</td>\n",
       "      <td id=\"T_bf586_row1_col3\" class=\"data row1 col3\" >0.8</td>\n",
       "      <td id=\"T_bf586_row1_col4\" class=\"data row1 col4\" >1.0</td>\n",
       "      <td id=\"T_bf586_row1_col5\" class=\"data row1 col5\" >0.1</td>\n",
       "      <td id=\"T_bf586_row1_col6\" class=\"data row1 col6\" >167422.3</td>\n",
       "    </tr>\n",
       "    <tr>\n",
       "      <th id=\"T_bf586_level0_row2\" class=\"row_heading level0 row2\" >std</th>\n",
       "      <td id=\"T_bf586_row2_col0\" class=\"data row2 col0\" >1.4</td>\n",
       "      <td id=\"T_bf586_row2_col1\" class=\"data row2 col1\" >140827.3</td>\n",
       "      <td id=\"T_bf586_row2_col2\" class=\"data row2 col2\" >12.6</td>\n",
       "      <td id=\"T_bf586_row2_col3\" class=\"data row2 col3\" >0.5</td>\n",
       "      <td id=\"T_bf586_row2_col4\" class=\"data row2 col4\" >1.4</td>\n",
       "      <td id=\"T_bf586_row2_col5\" class=\"data row2 col5\" >0.3</td>\n",
       "      <td id=\"T_bf586_row2_col6\" class=\"data row2 col6\" >102971.6</td>\n",
       "    </tr>\n",
       "    <tr>\n",
       "      <th id=\"T_bf586_level0_row3\" class=\"row_heading level0 row3\" >min</th>\n",
       "      <td id=\"T_bf586_row3_col0\" class=\"data row3 col0\" >-1.0</td>\n",
       "      <td id=\"T_bf586_row3_col1\" class=\"data row3 col1\" >-18388.9</td>\n",
       "      <td id=\"T_bf586_row3_col2\" class=\"data row3 col2\" >0.0</td>\n",
       "      <td id=\"T_bf586_row3_col3\" class=\"data row3 col3\" >0.0</td>\n",
       "      <td id=\"T_bf586_row3_col4\" class=\"data row3 col4\" >0.0</td>\n",
       "      <td id=\"T_bf586_row3_col5\" class=\"data row3 col5\" >0.0</td>\n",
       "      <td id=\"T_bf586_row3_col6\" class=\"data row3 col6\" >20667.3</td>\n",
       "    </tr>\n",
       "    <tr>\n",
       "      <th id=\"T_bf586_level0_row4\" class=\"row_heading level0 row4\" >25%</th>\n",
       "      <td id=\"T_bf586_row4_col0\" class=\"data row4 col0\" >0.0</td>\n",
       "      <td id=\"T_bf586_row4_col1\" class=\"data row4 col1\" >-2747.4</td>\n",
       "      <td id=\"T_bf586_row4_col2\" class=\"data row4 col2\" >33.0</td>\n",
       "      <td id=\"T_bf586_row4_col3\" class=\"data row4 col3\" >1.0</td>\n",
       "      <td id=\"T_bf586_row4_col4\" class=\"data row4 col4\" >0.0</td>\n",
       "      <td id=\"T_bf586_row4_col5\" class=\"data row4 col5\" >0.0</td>\n",
       "      <td id=\"T_bf586_row4_col6\" class=\"data row4 col6\" >103053.2</td>\n",
       "    </tr>\n",
       "    <tr>\n",
       "      <th id=\"T_bf586_level0_row5\" class=\"row_heading level0 row5\" >50%</th>\n",
       "      <td id=\"T_bf586_row5_col0\" class=\"data row5 col0\" >0.0</td>\n",
       "      <td id=\"T_bf586_row5_col1\" class=\"data row5 col1\" >-1203.4</td>\n",
       "      <td id=\"T_bf586_row5_col2\" class=\"data row5 col2\" >42.0</td>\n",
       "      <td id=\"T_bf586_row5_col3\" class=\"data row5 col3\" >1.0</td>\n",
       "      <td id=\"T_bf586_row5_col4\" class=\"data row5 col4\" >0.0</td>\n",
       "      <td id=\"T_bf586_row5_col5\" class=\"data row5 col5\" >0.0</td>\n",
       "      <td id=\"T_bf586_row5_col6\" class=\"data row5 col6\" >145017.9</td>\n",
       "    </tr>\n",
       "    <tr>\n",
       "      <th id=\"T_bf586_level0_row6\" class=\"row_heading level0 row6\" >75%</th>\n",
       "      <td id=\"T_bf586_row6_col0\" class=\"data row6 col0\" >1.0</td>\n",
       "      <td id=\"T_bf586_row6_col1\" class=\"data row6 col1\" >-291.1</td>\n",
       "      <td id=\"T_bf586_row6_col2\" class=\"data row6 col2\" >53.0</td>\n",
       "      <td id=\"T_bf586_row6_col3\" class=\"data row6 col3\" >1.0</td>\n",
       "      <td id=\"T_bf586_row6_col4\" class=\"data row6 col4\" >1.0</td>\n",
       "      <td id=\"T_bf586_row6_col5\" class=\"data row6 col5\" >0.0</td>\n",
       "      <td id=\"T_bf586_row6_col6\" class=\"data row6 col6\" >203435.1</td>\n",
       "    </tr>\n",
       "    <tr>\n",
       "      <th id=\"T_bf586_level0_row7\" class=\"row_heading level0 row7\" >max</th>\n",
       "      <td id=\"T_bf586_row7_col0\" class=\"data row7 col0\" >20.0</td>\n",
       "      <td id=\"T_bf586_row7_col1\" class=\"data row7 col1\" >401755.4</td>\n",
       "      <td id=\"T_bf586_row7_col2\" class=\"data row7 col2\" >75.0</td>\n",
       "      <td id=\"T_bf586_row7_col3\" class=\"data row7 col3\" >4.0</td>\n",
       "      <td id=\"T_bf586_row7_col4\" class=\"data row7 col4\" >4.0</td>\n",
       "      <td id=\"T_bf586_row7_col5\" class=\"data row7 col5\" >1.0</td>\n",
       "      <td id=\"T_bf586_row7_col6\" class=\"data row7 col6\" >2265604.0</td>\n",
       "    </tr>\n",
       "  </tbody>\n",
       "</table>\n"
      ],
      "text/plain": [
       "<pandas.io.formats.style.Styler at 0x1950262f3a0>"
      ]
     },
     "metadata": {},
     "output_type": "display_data"
    },
    {
     "name": "stdout",
     "output_type": "stream",
     "text": [
      "----------------------------------------\n"
     ]
    },
    {
     "data": {
      "text/plain": [
       "'Количество явных дубликатов в таблице:'"
      ]
     },
     "metadata": {},
     "output_type": "display_data"
    },
    {
     "data": {
      "text/plain": [
       "54"
      ]
     },
     "metadata": {},
     "output_type": "display_data"
    },
    {
     "name": "stdout",
     "output_type": "stream",
     "text": [
      "--------------\n"
     ]
    },
    {
     "data": {
      "text/plain": [
       "'Гистограммы:'"
      ]
     },
     "metadata": {},
     "output_type": "display_data"
    },
    {
     "data": {
      "image/png": "[encoded data removed]",
      "text/plain": [
       "<Figure size 2000x800 with 9 Axes>"
      ]
     },
     "metadata": {},
     "output_type": "display_data"
    }
   ],
   "source": [
    "credit = main_info('credit_project.csv')"
   ]
  },
  {
   "cell_type": "markdown",
   "id": "32d8b342-5cb5-40ab-b504-7c73fbc3c137",
   "metadata": {},
   "source": [
    "### Промежуточные выводы:"
   ]
  },
  {
   "cell_type": "markdown",
   "id": "bdb44fb2-2fa5-4284-917d-df356d6dc007",
   "metadata": {},
   "source": [
    "- В таблице 11 столбцов и 21525 записей с информацией о заёмщиках.\n",
    "- В двух столбцах есть пропуски значений.\n",
    "- Доля пропусков занимает 10% от общего количества строк в датафрейме.\n",
    "- В столбце с общим трудовым стажем есть значения меньше нуля.\n",
    "- В некоторых столбцах присуствуют аномалии или выбросы:\n",
    "    - минимальное количество детей -1\n",
    "    - максимальное количество детей 20\n",
    "    - отрицательные значения в столбце с трудовым стажем\n",
    "    - слишком большое std и максимальное значение в столбце с трудовым стажем\n",
    "- В таблице есть 54 явных дубликата.\n",
    "- В основном, заёмщики имеют до четырёх детей.\n",
    "- Возраст клиента от 20 до 70.\n",
    "- В основном клиенты не имеют задолжности по кредиту.\n",
    "- В основном заём берут до 500 тыс рублей."
   ]
  },
  {
   "cell_type": "markdown",
   "id": "48d38d33-ad1f-4273-abb1-c2fa1ea30fda",
   "metadata": {},
   "source": [
    "## Предобработка данных"
   ]
  },
  {
   "cell_type": "markdown",
   "id": "84a180f2-6f6f-4743-a44b-3d188fa78313",
   "metadata": {},
   "source": [
    "### Обработка пропусков"
   ]
  },
  {
   "cell_type": "markdown",
   "id": "728e75a1-e213-4e4c-b26e-5383ecbb6f11",
   "metadata": {},
   "source": [
    "#### Сумма дохода"
   ]
  },
  {
   "cell_type": "code",
   "execution_count": 11,
   "id": "9a5542ae",
   "metadata": {},
   "outputs": [],
   "source": [
    "# Переменная для контроля % удалённых значений\n",
    "del_value = [0, credit.shape[0]]"
   ]
  },
  {
   "cell_type": "markdown",
   "id": "e5caa92b-6bb0-45fa-bd87-880905e6a199",
   "metadata": {},
   "source": [
    "В таблице в двух столбцах есть пропуски данных: дни трудового стажа и доходы. Пропуски значений могут означать, что заёмщик не предоставил такую информацию о себе, либо был какой-то сбой в данных (в столбцах с трудовым стажем были странные аномалии, такие как отрицательный стаж и нереалистично большие значения).\n",
    "\n",
    "Обработаем пропуски в столбце с суммой дохода. На сумму дохода сильнее всего влияет тип занятости, поэтому заполнить пропуски в этом столбце можно медианным значением по каждому типу. Посмотрим, какое количество заёмщиков находится по каждой из категории и сколько пропусков в каждой категории."
   ]
  },
  {
   "cell_type": "code",
   "execution_count": 12,
   "id": "93be1a23-f393-42e8-b189-8ebd88b99bdb",
   "metadata": {},
   "outputs": [
    {
     "data": {
      "text/html": [
       "<style type=\"text/css\">\n",
       "#T_820cf_row0_col1, #T_820cf_row5_col2, #T_820cf_row5_col3 {\n",
       "  background-color: #b40426;\n",
       "  color: #f1f1f1;\n",
       "}\n",
       "#T_820cf_row0_col2, #T_820cf_row1_col3, #T_820cf_row3_col3 {\n",
       "  background-color: #7b9ff9;\n",
       "  color: #f1f1f1;\n",
       "}\n",
       "#T_820cf_row0_col3 {\n",
       "  background-color: #7a9df8;\n",
       "  color: #f1f1f1;\n",
       "}\n",
       "#T_820cf_row1_col1 {\n",
       "  background-color: #d2dbe8;\n",
       "  color: #000000;\n",
       "}\n",
       "#T_820cf_row1_col2 {\n",
       "  background-color: #93b5fe;\n",
       "  color: #000000;\n",
       "}\n",
       "#T_820cf_row2_col1 {\n",
       "  background-color: #aec9fc;\n",
       "  color: #000000;\n",
       "}\n",
       "#T_820cf_row2_col2 {\n",
       "  background-color: #688aef;\n",
       "  color: #f1f1f1;\n",
       "}\n",
       "#T_820cf_row2_col3 {\n",
       "  background-color: #80a3fa;\n",
       "  color: #f1f1f1;\n",
       "}\n",
       "#T_820cf_row3_col1 {\n",
       "  background-color: #6384eb;\n",
       "  color: #f1f1f1;\n",
       "}\n",
       "#T_820cf_row3_col2 {\n",
       "  background-color: #81a4fb;\n",
       "  color: #f1f1f1;\n",
       "}\n",
       "#T_820cf_row4_col1, #T_820cf_row4_col3, #T_820cf_row5_col1, #T_820cf_row6_col1, #T_820cf_row6_col2, #T_820cf_row6_col3, #T_820cf_row7_col1, #T_820cf_row7_col3 {\n",
       "  background-color: #3b4cc0;\n",
       "  color: #f1f1f1;\n",
       "}\n",
       "#T_820cf_row4_col2 {\n",
       "  background-color: #7295f4;\n",
       "  color: #f1f1f1;\n",
       "}\n",
       "#T_820cf_row7_col2 {\n",
       "  background-color: #5977e3;\n",
       "  color: #f1f1f1;\n",
       "}\n",
       "</style>\n",
       "<table id=\"T_820cf\">\n",
       "  <thead>\n",
       "    <tr>\n",
       "      <th class=\"blank level0\" >&nbsp;</th>\n",
       "      <th id=\"T_820cf_level0_col0\" class=\"col_heading level0 col0\" >income_type</th>\n",
       "      <th id=\"T_820cf_level0_col1\" class=\"col_heading level0 col1\" >total</th>\n",
       "      <th id=\"T_820cf_level0_col2\" class=\"col_heading level0 col2\" >median</th>\n",
       "      <th id=\"T_820cf_level0_col3\" class=\"col_heading level0 col3\" >share_pass</th>\n",
       "    </tr>\n",
       "  </thead>\n",
       "  <tbody>\n",
       "    <tr>\n",
       "      <th id=\"T_820cf_level0_row0\" class=\"row_heading level0 row0\" >6</th>\n",
       "      <td id=\"T_820cf_row0_col0\" class=\"data row0 col0\" >сотрудник</td>\n",
       "      <td id=\"T_820cf_row0_col1\" class=\"data row0 col1\" >11119</td>\n",
       "      <td id=\"T_820cf_row0_col2\" class=\"data row0 col2\" >142594.4</td>\n",
       "      <td id=\"T_820cf_row0_col3\" class=\"data row0 col3\" >9.9%</td>\n",
       "    </tr>\n",
       "    <tr>\n",
       "      <th id=\"T_820cf_level0_row1\" class=\"row_heading level0 row1\" >3</th>\n",
       "      <td id=\"T_820cf_row1_col0\" class=\"data row1 col0\" >компаньон</td>\n",
       "      <td id=\"T_820cf_row1_col1\" class=\"data row1 col1\" >5085</td>\n",
       "      <td id=\"T_820cf_row1_col2\" class=\"data row1 col2\" >172358.0</td>\n",
       "      <td id=\"T_820cf_row1_col3\" class=\"data row1 col3\" >10.0%</td>\n",
       "    </tr>\n",
       "    <tr>\n",
       "      <th id=\"T_820cf_level0_row2\" class=\"row_heading level0 row2\" >4</th>\n",
       "      <td id=\"T_820cf_row2_col0\" class=\"data row2 col0\" >пенсионер</td>\n",
       "      <td id=\"T_820cf_row2_col1\" class=\"data row2 col1\" >3856</td>\n",
       "      <td id=\"T_820cf_row2_col2\" class=\"data row2 col2\" >118514.5</td>\n",
       "      <td id=\"T_820cf_row2_col3\" class=\"data row2 col3\" >10.7%</td>\n",
       "    </tr>\n",
       "    <tr>\n",
       "      <th id=\"T_820cf_level0_row3\" class=\"row_heading level0 row3\" >2</th>\n",
       "      <td id=\"T_820cf_row3_col0\" class=\"data row3 col0\" >госслужащий</td>\n",
       "      <td id=\"T_820cf_row3_col1\" class=\"data row3 col1\" >1459</td>\n",
       "      <td id=\"T_820cf_row3_col2\" class=\"data row3 col2\" >150447.9</td>\n",
       "      <td id=\"T_820cf_row3_col3\" class=\"data row3 col3\" >10.1%</td>\n",
       "    </tr>\n",
       "    <tr>\n",
       "      <th id=\"T_820cf_level0_row4\" class=\"row_heading level0 row4\" >0</th>\n",
       "      <td id=\"T_820cf_row4_col0\" class=\"data row4 col0\" >безработный</td>\n",
       "      <td id=\"T_820cf_row4_col1\" class=\"data row4 col1\" >2</td>\n",
       "      <td id=\"T_820cf_row4_col2\" class=\"data row4 col2\" >131339.8</td>\n",
       "      <td id=\"T_820cf_row4_col3\" class=\"data row4 col3\" >0.0%</td>\n",
       "    </tr>\n",
       "    <tr>\n",
       "      <th id=\"T_820cf_level0_row5\" class=\"row_heading level0 row5\" >5</th>\n",
       "      <td id=\"T_820cf_row5_col0\" class=\"data row5 col0\" >предприниматель</td>\n",
       "      <td id=\"T_820cf_row5_col1\" class=\"data row5 col1\" >2</td>\n",
       "      <td id=\"T_820cf_row5_col2\" class=\"data row5 col2\" >499163.1</td>\n",
       "      <td id=\"T_820cf_row5_col3\" class=\"data row5 col3\" >50.0%</td>\n",
       "    </tr>\n",
       "    <tr>\n",
       "      <th id=\"T_820cf_level0_row6\" class=\"row_heading level0 row6\" >1</th>\n",
       "      <td id=\"T_820cf_row6_col0\" class=\"data row6 col0\" >в декрете</td>\n",
       "      <td id=\"T_820cf_row6_col1\" class=\"data row6 col1\" >1</td>\n",
       "      <td id=\"T_820cf_row6_col2\" class=\"data row6 col2\" >53829.1</td>\n",
       "      <td id=\"T_820cf_row6_col3\" class=\"data row6 col3\" >0.0%</td>\n",
       "    </tr>\n",
       "    <tr>\n",
       "      <th id=\"T_820cf_level0_row7\" class=\"row_heading level0 row7\" >7</th>\n",
       "      <td id=\"T_820cf_row7_col0\" class=\"data row7 col0\" >студент</td>\n",
       "      <td id=\"T_820cf_row7_col1\" class=\"data row7 col1\" >1</td>\n",
       "      <td id=\"T_820cf_row7_col2\" class=\"data row7 col2\" >98201.6</td>\n",
       "      <td id=\"T_820cf_row7_col3\" class=\"data row7 col3\" >0.0%</td>\n",
       "    </tr>\n",
       "  </tbody>\n",
       "</table>\n"
      ],
      "text/plain": [
       "<pandas.io.formats.style.Styler at 0x19507e8fd90>"
      ]
     },
     "execution_count": 12,
     "metadata": {},
     "output_type": "execute_result"
    }
   ],
   "source": [
    "table_pass(data=credit, col_group='total_income')"
   ]
  },
  {
   "cell_type": "markdown",
   "id": "b31a438d-00d1-4278-b31f-b90bd548eaef",
   "metadata": {},
   "source": [
    "В таблице представлено 7 типов занятости заёмщиков. При этом, безработных, предпринимателей, в декрете и студентов крайне мало, по 1-2 заёмщика в каждой категории. А для предпринимателя есть ещё и 1 пропуск данных. Для остальных категорий, где есть пропуски, эти пропуски составляют не более 11%. \n",
    "\n",
    "Для суммы дохода аномалий не видно, так что можно заполнить пропуски медианным значением в зависимости от категории занятости. "
   ]
  },
  {
   "cell_type": "code",
   "execution_count": 13,
   "id": "efff19a6-968a-48a6-8877-bba0fd672895",
   "metadata": {},
   "outputs": [],
   "source": [
    "for t in credit['income_type'].unique():\n",
    "    credit.loc[(credit['income_type'] == t) & (credit['total_income'].isna()), 'total_income'] = \\\n",
    "    credit.loc[(credit['income_type'] == t), 'total_income'].median()"
   ]
  },
  {
   "cell_type": "markdown",
   "id": "893de785-6590-471b-acad-73a5420d59ae",
   "metadata": {},
   "source": [
    "#### Трудовой стаж"
   ]
  },
  {
   "cell_type": "markdown",
   "id": "9ab7adad-ea14-4841-a750-209c06b8e2af",
   "metadata": {},
   "source": [
    "Также пропуски были в стобце с днями занятости. Ещё в этом столбце присутствовали такие аномалии, как отрицательное количество дней трудового стажа. Заменим их на положительные значения."
   ]
  },
  {
   "cell_type": "code",
   "execution_count": 14,
   "id": "dcd157aa-1f59-4363-8c2b-e4409bf20d46",
   "metadata": {},
   "outputs": [],
   "source": [
    "credit['days_employed'] = credit['days_employed'].abs()"
   ]
  },
  {
   "cell_type": "markdown",
   "id": "215f35d8-1a59-40da-8337-cf74be9a5607",
   "metadata": {},
   "source": [
    "Посмотрим, зависит ли трудовой стаж от категории занятости и сколько пропущенных значений находится по каждому типу занятости."
   ]
  },
  {
   "cell_type": "code",
   "execution_count": 15,
   "id": "d1a889f4-7ae1-41d0-9d19-4543ab6fe701",
   "metadata": {},
   "outputs": [
    {
     "data": {
      "text/html": [
       "<style type=\"text/css\">\n",
       "#T_19e19_row0_col1, #T_19e19_row2_col2, #T_19e19_row4_col2, #T_19e19_row5_col3 {\n",
       "  background-color: #b40426;\n",
       "  color: #f1f1f1;\n",
       "}\n",
       "#T_19e19_row0_col2, #T_19e19_row1_col2, #T_19e19_row4_col1, #T_19e19_row4_col3, #T_19e19_row5_col1, #T_19e19_row5_col2, #T_19e19_row6_col1, #T_19e19_row6_col3, #T_19e19_row7_col1, #T_19e19_row7_col2, #T_19e19_row7_col3 {\n",
       "  background-color: #3b4cc0;\n",
       "  color: #f1f1f1;\n",
       "}\n",
       "#T_19e19_row0_col3 {\n",
       "  background-color: #7a9df8;\n",
       "  color: #f1f1f1;\n",
       "}\n",
       "#T_19e19_row1_col1 {\n",
       "  background-color: #d2dbe8;\n",
       "  color: #000000;\n",
       "}\n",
       "#T_19e19_row1_col3, #T_19e19_row3_col3 {\n",
       "  background-color: #7b9ff9;\n",
       "  color: #f1f1f1;\n",
       "}\n",
       "#T_19e19_row2_col1 {\n",
       "  background-color: #aec9fc;\n",
       "  color: #000000;\n",
       "}\n",
       "#T_19e19_row2_col3 {\n",
       "  background-color: #80a3fa;\n",
       "  color: #f1f1f1;\n",
       "}\n",
       "#T_19e19_row3_col1 {\n",
       "  background-color: #6384eb;\n",
       "  color: #f1f1f1;\n",
       "}\n",
       "#T_19e19_row3_col2, #T_19e19_row6_col2 {\n",
       "  background-color: #3c4ec2;\n",
       "  color: #f1f1f1;\n",
       "}\n",
       "</style>\n",
       "<table id=\"T_19e19\">\n",
       "  <thead>\n",
       "    <tr>\n",
       "      <th class=\"blank level0\" >&nbsp;</th>\n",
       "      <th id=\"T_19e19_level0_col0\" class=\"col_heading level0 col0\" >income_type</th>\n",
       "      <th id=\"T_19e19_level0_col1\" class=\"col_heading level0 col1\" >total</th>\n",
       "      <th id=\"T_19e19_level0_col2\" class=\"col_heading level0 col2\" >median</th>\n",
       "      <th id=\"T_19e19_level0_col3\" class=\"col_heading level0 col3\" >share_pass</th>\n",
       "    </tr>\n",
       "  </thead>\n",
       "  <tbody>\n",
       "    <tr>\n",
       "      <th id=\"T_19e19_level0_row0\" class=\"row_heading level0 row0\" >6</th>\n",
       "      <td id=\"T_19e19_row0_col0\" class=\"data row0 col0\" >сотрудник</td>\n",
       "      <td id=\"T_19e19_row0_col1\" class=\"data row0 col1\" >11119</td>\n",
       "      <td id=\"T_19e19_row0_col2\" class=\"data row0 col2\" >1574.2</td>\n",
       "      <td id=\"T_19e19_row0_col3\" class=\"data row0 col3\" >9.9%</td>\n",
       "    </tr>\n",
       "    <tr>\n",
       "      <th id=\"T_19e19_level0_row1\" class=\"row_heading level0 row1\" >3</th>\n",
       "      <td id=\"T_19e19_row1_col0\" class=\"data row1 col0\" >компаньон</td>\n",
       "      <td id=\"T_19e19_row1_col1\" class=\"data row1 col1\" >5085</td>\n",
       "      <td id=\"T_19e19_row1_col2\" class=\"data row1 col2\" >1547.4</td>\n",
       "      <td id=\"T_19e19_row1_col3\" class=\"data row1 col3\" >10.0%</td>\n",
       "    </tr>\n",
       "    <tr>\n",
       "      <th id=\"T_19e19_level0_row2\" class=\"row_heading level0 row2\" >4</th>\n",
       "      <td id=\"T_19e19_row2_col0\" class=\"data row2 col0\" >пенсионер</td>\n",
       "      <td id=\"T_19e19_row2_col1\" class=\"data row2 col1\" >3856</td>\n",
       "      <td id=\"T_19e19_row2_col2\" class=\"data row2 col2\" >365213.3</td>\n",
       "      <td id=\"T_19e19_row2_col3\" class=\"data row2 col3\" >10.7%</td>\n",
       "    </tr>\n",
       "    <tr>\n",
       "      <th id=\"T_19e19_level0_row3\" class=\"row_heading level0 row3\" >2</th>\n",
       "      <td id=\"T_19e19_row3_col0\" class=\"data row3 col0\" >госслужащий</td>\n",
       "      <td id=\"T_19e19_row3_col1\" class=\"data row3 col1\" >1459</td>\n",
       "      <td id=\"T_19e19_row3_col2\" class=\"data row3 col2\" >2689.4</td>\n",
       "      <td id=\"T_19e19_row3_col3\" class=\"data row3 col3\" >10.1%</td>\n",
       "    </tr>\n",
       "    <tr>\n",
       "      <th id=\"T_19e19_level0_row4\" class=\"row_heading level0 row4\" >0</th>\n",
       "      <td id=\"T_19e19_row4_col0\" class=\"data row4 col0\" >безработный</td>\n",
       "      <td id=\"T_19e19_row4_col1\" class=\"data row4 col1\" >2</td>\n",
       "      <td id=\"T_19e19_row4_col2\" class=\"data row4 col2\" >366413.7</td>\n",
       "      <td id=\"T_19e19_row4_col3\" class=\"data row4 col3\" >0.0%</td>\n",
       "    </tr>\n",
       "    <tr>\n",
       "      <th id=\"T_19e19_level0_row5\" class=\"row_heading level0 row5\" >5</th>\n",
       "      <td id=\"T_19e19_row5_col0\" class=\"data row5 col0\" >предприниматель</td>\n",
       "      <td id=\"T_19e19_row5_col1\" class=\"data row5 col1\" >2</td>\n",
       "      <td id=\"T_19e19_row5_col2\" class=\"data row5 col2\" >520.8</td>\n",
       "      <td id=\"T_19e19_row5_col3\" class=\"data row5 col3\" >50.0%</td>\n",
       "    </tr>\n",
       "    <tr>\n",
       "      <th id=\"T_19e19_level0_row6\" class=\"row_heading level0 row6\" >1</th>\n",
       "      <td id=\"T_19e19_row6_col0\" class=\"data row6 col0\" >в декрете</td>\n",
       "      <td id=\"T_19e19_row6_col1\" class=\"data row6 col1\" >1</td>\n",
       "      <td id=\"T_19e19_row6_col2\" class=\"data row6 col2\" >3296.8</td>\n",
       "      <td id=\"T_19e19_row6_col3\" class=\"data row6 col3\" >0.0%</td>\n",
       "    </tr>\n",
       "    <tr>\n",
       "      <th id=\"T_19e19_level0_row7\" class=\"row_heading level0 row7\" >7</th>\n",
       "      <td id=\"T_19e19_row7_col0\" class=\"data row7 col0\" >студент</td>\n",
       "      <td id=\"T_19e19_row7_col1\" class=\"data row7 col1\" >1</td>\n",
       "      <td id=\"T_19e19_row7_col2\" class=\"data row7 col2\" >578.8</td>\n",
       "      <td id=\"T_19e19_row7_col3\" class=\"data row7 col3\" >0.0%</td>\n",
       "    </tr>\n",
       "  </tbody>\n",
       "</table>\n"
      ],
      "text/plain": [
       "<pandas.io.formats.style.Styler at 0x19505a7c0a0>"
      ]
     },
     "execution_count": 15,
     "metadata": {},
     "output_type": "execute_result"
    }
   ],
   "source": [
    "table_pass(data=credit, col_group='days_employed')"
   ]
  },
  {
   "cell_type": "markdown",
   "id": "4dbac8df-03c2-4342-9139-95013e6df88e",
   "metadata": {},
   "source": [
    "Для двух категорий: безработные и пенсионеры присутствуют аномалии - нереалистично большие значения трудового стажа, для всех остальных категорий данные смотрятся реалистично. При этом, категория пенсионеров достаточно большая - почти 3500 заёмщиков. Эти значения, не отражают действительности и появились по какой-то ошибке. Так как нет возможности уточнить, откуда возникла такая ошибка, оставим такие аномалии в данных.\n",
    "\n",
    "Также можно отметить, что для предпринимателя есть 1 пропуск из двух значений. Для четырёх категорий с пропусками в трудовом стаже пропуски составляют не более 11%, их можно заполнить медианным значением для каждой категории."
   ]
  },
  {
   "cell_type": "code",
   "execution_count": 16,
   "id": "4626cb85-0094-4d71-b8e6-6dfd1c28896f",
   "metadata": {},
   "outputs": [],
   "source": [
    "for t in credit['income_type'].unique():\n",
    "    credit.loc[(credit['income_type'] == t) & (credit['days_employed'].isna()), 'days_employed'] = \\\n",
    "    credit.loc[(credit['income_type'] == t), 'days_employed'].median()"
   ]
  },
  {
   "cell_type": "markdown",
   "id": "14e6d7e9-8df1-4ad3-a3f8-c5dc301f7f6a",
   "metadata": {},
   "source": [
    "Проверим, что все пропуски были обработаны:"
   ]
  },
  {
   "cell_type": "code",
   "execution_count": 17,
   "id": "9959bb19-5e48-4e52-a5b9-d425e3c64a0c",
   "metadata": {},
   "outputs": [
    {
     "data": {
      "text/plain": [
       "children            0\n",
       "days_employed       0\n",
       "dob_years           0\n",
       "education           0\n",
       "education_id        0\n",
       "family_status       0\n",
       "family_status_id    0\n",
       "gender              0\n",
       "income_type         0\n",
       "debt                0\n",
       "total_income        0\n",
       "purpose             0\n",
       "dtype: int64"
      ]
     },
     "execution_count": 17,
     "metadata": {},
     "output_type": "execute_result"
    }
   ],
   "source": [
    "credit.isna().sum()"
   ]
  },
  {
   "cell_type": "markdown",
   "id": "61cd95f0-e7ca-455b-b166-71d1fae47a7b",
   "metadata": {},
   "source": [
    "#### Промежуточные выводы:"
   ]
  },
  {
   "cell_type": "markdown",
   "id": "5eb9da33-34ea-4849-beda-de3a6ade1f6f",
   "metadata": {},
   "source": [
    "- В столбце с суммой дохода было 10.1% пропусков. \n",
    "- В столбце с суммой дохода пропуски были заменены на медианные значения для каждой категории занятости заёмщиков.\n",
    "- В столбце с трудовым стажем аномальные отрицательные значения были заменены на положительные.\n",
    "- Аномалии были для двух категорий - безработных и пенсионеров. Аномалии были оставлены.\n",
    "- В столбце с трудовым стажем было 10.1% пропусков. \n",
    "- Пропуски в столбце с трудовым стажем были заменены на медианные значения для каждой категории занятости заёмщиков."
   ]
  },
  {
   "cell_type": "markdown",
   "id": "980fe2a9-0afd-4c25-a86e-82babfa3c367",
   "metadata": {},
   "source": [
    "### Обработка аномальных значений"
   ]
  },
  {
   "cell_type": "markdown",
   "id": "fe3e1d06-de4e-4aa1-ac03-abe4d2c0ccf7",
   "metadata": {},
   "source": [
    "#### Количество детей"
   ]
  },
  {
   "cell_type": "markdown",
   "id": "fc69d435-99aa-41bb-92c3-4e2c5abaa793",
   "metadata": {},
   "source": [
    "Посмотрим на уникальные значения количества детей."
   ]
  },
  {
   "cell_type": "code",
   "execution_count": 18,
   "id": "7281c715-d0a5-4b75-bc15-981b8f776ffc",
   "metadata": {},
   "outputs": [
    {
     "data": {
      "text/plain": [
       "array([-1,  0,  1,  2,  3,  4,  5, 20], dtype=int64)"
      ]
     },
     "execution_count": 18,
     "metadata": {},
     "output_type": "execute_result"
    }
   ],
   "source": [
    "credit['children'].sort_values().unique()"
   ]
  },
  {
   "cell_type": "markdown",
   "id": "28930607-44d7-43ee-b1e5-e5571997484a",
   "metadata": {},
   "source": [
    "В столбце с количеством детей присутствуют два аномальных значения: -1 и 20. Такие строки можно удалить."
   ]
  },
  {
   "cell_type": "code",
   "execution_count": 19,
   "id": "bb6c1286",
   "metadata": {},
   "outputs": [
    {
     "name": "stdout",
     "output_type": "stream",
     "text": [
      "Процент данных с аномальным значением количества детей:  0.6%\n"
     ]
    }
   ],
   "source": [
    "print('Процент данных с аномальным значением количества детей: ', \n",
    "      \"{0:.1%}\".format(credit.query('children == -1 | children == 20')\\\n",
    "                       ['children'].count() / credit.shape[0]))"
   ]
  },
  {
   "cell_type": "code",
   "execution_count": 20,
   "id": "aaec1fe7-f227-46b2-86e2-98af3b7b2258",
   "metadata": {},
   "outputs": [],
   "source": [
    "credit = credit.query('children != -1 & children != 20')\n",
    "del_value[0] = credit.shape[0]"
   ]
  },
  {
   "cell_type": "markdown",
   "id": "a4f4c697-6797-46ec-8bf0-2b150031aff6",
   "metadata": {},
   "source": [
    "#### Возраст клиента"
   ]
  },
  {
   "cell_type": "markdown",
   "id": "1c449733-8aaf-47e7-851a-cb5b6736a76a",
   "metadata": {},
   "source": [
    "Посмотрим на гистограммы для возраста клиента."
   ]
  },
  {
   "cell_type": "code",
   "execution_count": 21,
   "id": "88b2d18a-f376-4415-8c18-7b7f23cc06e1",
   "metadata": {},
   "outputs": [
    {
     "data": {
      "image/png": "[encoded data removed]",
      "text/plain": [
       "<Figure size 2000x800 with 1 Axes>"
      ]
     },
     "metadata": {},
     "output_type": "display_data"
    }
   ],
   "source": [
    "df = table_pivot(data=credit, col_group=['dob_years'], values='dob_years', func='count')\n",
    "fig = bar_plot(data=df, col_group='dob_years')\n",
    "plt.xticks(rotation=0)\n",
    "plt.xticks(plt.xticks()[0][::2])\n",
    "plt.xlabel('Возраст заёмщика')\n",
    "plt.ylabel('Количество заёмщиков')\n",
    "plt.title('Количество заёмщиков в зависимости от возраста')\n",
    "plt.show;"
   ]
  },
  {
   "cell_type": "markdown",
   "id": "7ef8e596-1d11-4131-9ee6-816002de2f37",
   "metadata": {},
   "source": [
    "В целом, возраст заёмщиков варьируется от 19 до 74 лет. Но при этом есть странные 100 заёмщиков с указанным возрастом 0. Это явно какая-то ошибка в данных. И таких заёмщиков можно удалить."
   ]
  },
  {
   "cell_type": "code",
   "execution_count": 22,
   "id": "5c42faac",
   "metadata": {},
   "outputs": [
    {
     "name": "stdout",
     "output_type": "stream",
     "text": [
      "Процент данных с аномальным значением возраста заёмщика:  0.5%\n"
     ]
    }
   ],
   "source": [
    "print('Процент данных с аномальным значением возраста заёмщика: ', \n",
    "      \"{0:.1%}\".format(credit.query('dob_years == 0')['dob_years'].count() / credit.shape[0]))"
   ]
  },
  {
   "cell_type": "code",
   "execution_count": 23,
   "id": "6fdd6cf7-ae40-461e-a139-c8d27a5e59ee",
   "metadata": {},
   "outputs": [],
   "source": [
    "credit = credit.query('dob_years != 0')\n",
    "del_value[0] = credit.shape[0]"
   ]
  },
  {
   "cell_type": "markdown",
   "id": "02c75eb8-f1c8-41ee-ae42-d3130365dd92",
   "metadata": {},
   "source": [
    "В других столбцах могут присуствовать дубликаты, а не аномалии."
   ]
  },
  {
   "cell_type": "code",
   "execution_count": 24,
   "id": "c624bdea-4508-4c7f-92b6-3ebdbaa87330",
   "metadata": {},
   "outputs": [
    {
     "name": "stdout",
     "output_type": "stream",
     "text": [
      "Процент удалённых значений:  1.0%\n"
     ]
    }
   ],
   "source": [
    "print('Процент удалённых значений: ', \n",
    "      \"{0:.1%}\".format((del_value[1] - del_value[0]) / del_value[1]))"
   ]
  },
  {
   "cell_type": "markdown",
   "id": "e89103ac-6766-43ec-9c57-b8b5947a6871",
   "metadata": {},
   "source": [
    "#### Промежуточные выводы:"
   ]
  },
  {
   "cell_type": "markdown",
   "id": "f5443545-7fb5-40b7-9ca0-b8fd8bb42b6d",
   "metadata": {},
   "source": [
    "- Были удалены аномалии из стобца с количеством детей.\n",
    "- Были удалены аномалии из стобца с возрастом клиентов.\n",
    "- Общее количество удалённых значений составило 1%."
   ]
  },
  {
   "cell_type": "markdown",
   "id": "2113cde9-9e4e-4f35-86e4-9041c6f408a1",
   "metadata": {},
   "source": [
    "### Изменение типов данных"
   ]
  },
  {
   "cell_type": "markdown",
   "id": "4ac6d7fd-70d5-4b50-968d-3a07d7716408",
   "metadata": {},
   "source": [
    "Приведём типы данных в стобцах к правильным значениям."
   ]
  },
  {
   "cell_type": "code",
   "execution_count": 25,
   "id": "a1fff013-7ce2-4828-acc2-a1c40f085a30",
   "metadata": {},
   "outputs": [
    {
     "data": {
      "text/plain": [
       "children              int64\n",
       "days_employed       float64\n",
       "dob_years             int64\n",
       "education            object\n",
       "education_id          int64\n",
       "family_status        object\n",
       "family_status_id      int64\n",
       "gender               object\n",
       "income_type          object\n",
       "debt                  int64\n",
       "total_income        float64\n",
       "purpose              object\n",
       "dtype: object"
      ]
     },
     "execution_count": 25,
     "metadata": {},
     "output_type": "execute_result"
    }
   ],
   "source": [
    "credit.dtypes"
   ]
  },
  {
   "cell_type": "markdown",
   "id": "75964929-05a5-4a9a-bfc7-c4a9ce5a1ea1",
   "metadata": {},
   "source": [
    "Количество дней трудового стажа и зарплата должны быть целочисленными значениями. Обработка пропусков в этих столбцах была проведена, так что можно заменить тип данных на правильный."
   ]
  },
  {
   "cell_type": "code",
   "execution_count": 26,
   "id": "0e0fa581-97bb-467b-9de6-c93af7801c2a",
   "metadata": {},
   "outputs": [],
   "source": [
    "credit['total_income'] = credit['total_income'].astype(int)\n",
    "credit['days_employed'] = credit['days_employed'].astype(int)\n",
    "credit['debt'] = credit['debt'].astype(bool)"
   ]
  },
  {
   "cell_type": "code",
   "execution_count": 27,
   "id": "23e12d73",
   "metadata": {},
   "outputs": [
    {
     "data": {
      "text/plain": [
       "children             int64\n",
       "days_employed        int32\n",
       "dob_years            int64\n",
       "education           object\n",
       "education_id         int64\n",
       "family_status       object\n",
       "family_status_id     int64\n",
       "gender              object\n",
       "income_type         object\n",
       "debt                  bool\n",
       "total_income         int32\n",
       "purpose             object\n",
       "dtype: object"
      ]
     },
     "execution_count": 27,
     "metadata": {},
     "output_type": "execute_result"
    }
   ],
   "source": [
    "credit.dtypes"
   ]
  },
  {
   "cell_type": "markdown",
   "id": "8a601610-dc9c-4241-b478-27aa8c024972",
   "metadata": {},
   "source": [
    "### Обработка дубликатов"
   ]
  },
  {
   "cell_type": "markdown",
   "id": "148ca251-a114-48e9-b18a-c3fb7a26dc81",
   "metadata": {},
   "source": [
    "Посмотрим на уникальные значения в категориальных столбцах."
   ]
  },
  {
   "cell_type": "code",
   "execution_count": 28,
   "id": "14cf9c55-89f2-4a59-9d2f-2f3f4ab26066",
   "metadata": {},
   "outputs": [],
   "source": [
    "credit['education'] = credit['education'].str.lower()\n",
    "credit['family_status'] = credit['family_status'].str.lower()\n",
    "credit['purpose'] = credit['purpose'].str.lower()"
   ]
  },
  {
   "cell_type": "code",
   "execution_count": 29,
   "id": "608ff72c-7467-42fd-95a0-54b936962b2e",
   "metadata": {},
   "outputs": [
    {
     "name": "stdout",
     "output_type": "stream",
     "text": [
      "Образование:  ['высшее' 'среднее' 'неоконченное высшее' 'начальное' 'ученая степень']\n",
      "Пол заёмщика:  ['F' 'M' 'XNA']\n"
     ]
    }
   ],
   "source": [
    "print('Образование: ', credit['education'].unique())\n",
    "print('Пол заёмщика: ', credit['gender'].unique())"
   ]
  },
  {
   "cell_type": "markdown",
   "id": "1dc27677-1395-4220-9399-5689b0b4daaa",
   "metadata": {},
   "source": [
    "В столбце с гендером заёмщика есть странное значение, посмотрим подробнее, сколько таких заёмщиков в данных."
   ]
  },
  {
   "cell_type": "code",
   "execution_count": 30,
   "id": "909ef020-0f92-4d13-aef4-e1b180220424",
   "metadata": {},
   "outputs": [
    {
     "data": {
      "text/html": [
       "<div>\n",
       "<style scoped>\n",
       "    .dataframe tbody tr th:only-of-type {\n",
       "        vertical-align: middle;\n",
       "    }\n",
       "\n",
       "    .dataframe tbody tr th {\n",
       "        vertical-align: top;\n",
       "    }\n",
       "\n",
       "    .dataframe thead th {\n",
       "        text-align: right;\n",
       "    }\n",
       "</style>\n",
       "<table border=\"1\" class=\"dataframe\">\n",
       "  <thead>\n",
       "    <tr style=\"text-align: right;\">\n",
       "      <th></th>\n",
       "      <th>gender</th>\n",
       "      <th>total</th>\n",
       "    </tr>\n",
       "  </thead>\n",
       "  <tbody>\n",
       "    <tr>\n",
       "      <th>0</th>\n",
       "      <td>F</td>\n",
       "      <td>14083</td>\n",
       "    </tr>\n",
       "    <tr>\n",
       "      <th>1</th>\n",
       "      <td>M</td>\n",
       "      <td>7218</td>\n",
       "    </tr>\n",
       "    <tr>\n",
       "      <th>2</th>\n",
       "      <td>XNA</td>\n",
       "      <td>1</td>\n",
       "    </tr>\n",
       "  </tbody>\n",
       "</table>\n",
       "</div>"
      ],
      "text/plain": [
       "  gender  total\n",
       "0      F  14083\n",
       "1      M   7218\n",
       "2    XNA      1"
      ]
     },
     "execution_count": 30,
     "metadata": {},
     "output_type": "execute_result"
    }
   ],
   "source": [
    "table_pivot(data=credit, col_group=['gender'], values='gender', func='count')"
   ]
  },
  {
   "cell_type": "markdown",
   "id": "328df662-e470-46fc-b2c3-cb13418eb1ab",
   "metadata": {},
   "source": [
    "Всего 1 заёмщик с неопределённым гендером. Скорее всего, это был пропуск от заёмщика, но так как мы не знаем пол человека и не можем сделать предположений из данных, то это значение можно удалить."
   ]
  },
  {
   "cell_type": "code",
   "execution_count": 31,
   "id": "c4fd9c5d-674b-45df-9c8a-59342b229fe4",
   "metadata": {},
   "outputs": [],
   "source": [
    "credit = credit.query('gender != \"XNA\"')\n",
    "del_value[0] = credit.shape[0]"
   ]
  },
  {
   "cell_type": "markdown",
   "id": "ffe1cdc1-edce-4552-94c3-ccf85e211951",
   "metadata": {},
   "source": [
    "В таблице имелись 54 строчки с явными дубликатами. Посмотрим, сколько их на данный момент после исправлений регистра в стобцах. Их можно удалить из данных."
   ]
  },
  {
   "cell_type": "code",
   "execution_count": 32,
   "id": "126a3bb5-f1de-4672-a989-1935c48424c4",
   "metadata": {},
   "outputs": [
    {
     "name": "stdout",
     "output_type": "stream",
     "text": [
      "Количество явных дубликатов:  71\n"
     ]
    }
   ],
   "source": [
    "print('Количество явных дубликатов: ',credit.duplicated().sum())"
   ]
  },
  {
   "cell_type": "code",
   "execution_count": 33,
   "id": "ee7bb6e4-60cb-4d04-b904-729d4aacf451",
   "metadata": {},
   "outputs": [],
   "source": [
    "credit = credit.drop_duplicates()\n",
    "del_value[0] = credit.shape[0]"
   ]
  },
  {
   "cell_type": "code",
   "execution_count": 34,
   "id": "8a2bf809-896d-4eb7-85b2-60d9c8aea348",
   "metadata": {},
   "outputs": [
    {
     "name": "stdout",
     "output_type": "stream",
     "text": [
      "Процент удалённых значений:  1.4%\n"
     ]
    }
   ],
   "source": [
    "print('Процент удалённых значений: ', \n",
    "      \"{0:.1%}\".format((del_value[1] - del_value[0]) / del_value[1]))"
   ]
  },
  {
   "cell_type": "markdown",
   "id": "69efa234-72c8-4c9a-9a27-8487409f9cc5",
   "metadata": {},
   "source": [
    "### Категоризация данных"
   ]
  },
  {
   "cell_type": "markdown",
   "id": "8a0d6643-97f7-472e-9d0e-20cac5ee158e",
   "metadata": {},
   "source": [
    "Выполним категоризацию дохода заёмщиков по следующему принципу:\n",
    "- 0–30000 — `'F'`\n",
    "- 30001–50000 — `'E'`\n",
    "- 50001–100000 — `'D'`\n",
    "- 100001–300000 — `'C'`\n",
    "- 300001–1000000 — `'B'`\n",
    "- 1000001 и выше — `'A'`."
   ]
  },
  {
   "cell_type": "code",
   "execution_count": 35,
   "id": "e3b4c45b-e0b7-4cc1-8a07-d9b76546616c",
   "metadata": {},
   "outputs": [],
   "source": [
    "credit['total_income_category'] = credit['total_income'].apply(categorize_income)"
   ]
  },
  {
   "cell_type": "markdown",
   "id": "392c39ad-c6ea-42fc-8d26-d8073027b2a8",
   "metadata": {},
   "source": [
    "Категоризуем цель получения кредита на:\n",
    "- `'операции с автомобилем'`,\n",
    "- `'операции с недвижимостью'`,\n",
    "- `'проведение свадьбы'`,\n",
    "- `'получение образования'`."
   ]
  },
  {
   "cell_type": "code",
   "execution_count": 36,
   "id": "e18c523d-f4c8-4b39-b56c-680b2d1a7dce",
   "metadata": {},
   "outputs": [],
   "source": [
    "credit['purpose_category'] = credit['purpose'].apply(categorize_purpose)"
   ]
  },
  {
   "cell_type": "markdown",
   "id": "8f726c21",
   "metadata": {},
   "source": [
    "Получим общую информацию о данных. Убедимся, что предобработка выполнена успешно."
   ]
  },
  {
   "cell_type": "code",
   "execution_count": 37,
   "id": "712ff893",
   "metadata": {},
   "outputs": [
    {
     "name": "stdout",
     "output_type": "stream",
     "text": [
      "<class 'pandas.core.frame.DataFrame'>\n",
      "Int64Index: 21230 entries, 0 to 21524\n",
      "Data columns (total 14 columns):\n",
      " #   Column                 Non-Null Count  Dtype \n",
      "---  ------                 --------------  ----- \n",
      " 0   children               21230 non-null  int64 \n",
      " 1   days_employed          21230 non-null  int32 \n",
      " 2   dob_years              21230 non-null  int64 \n",
      " 3   education              21230 non-null  object\n",
      " 4   education_id           21230 non-null  int64 \n",
      " 5   family_status          21230 non-null  object\n",
      " 6   family_status_id       21230 non-null  int64 \n",
      " 7   gender                 21230 non-null  object\n",
      " 8   income_type            21230 non-null  object\n",
      " 9   debt                   21230 non-null  bool  \n",
      " 10  total_income           21230 non-null  int32 \n",
      " 11  purpose                21230 non-null  object\n",
      " 12  total_income_category  21230 non-null  object\n",
      " 13  purpose_category       21230 non-null  object\n",
      "dtypes: bool(1), int32(2), int64(4), object(7)\n",
      "memory usage: 2.1+ MB\n"
     ]
    }
   ],
   "source": [
    "credit.info()"
   ]
  },
  {
   "cell_type": "markdown",
   "id": "59ac534e-a816-42f1-bf00-ba42b1d5100a",
   "metadata": {},
   "source": [
    "### Промежуточные выводы:"
   ]
  },
  {
   "cell_type": "markdown",
   "id": "85ab27dd-ad2d-4541-8bc2-cafc1bb6b227",
   "metadata": {},
   "source": [
    "Была проведена предобработка данных для таблицы с заёмщиками:\n",
    "\n",
    "- В таблице была 71 строчка явных дубликатов и пропуски значений в двух столбцах.\n",
    "- Доля пропусков в двух столбцах занимала 10% от общего количества строк в датафрейме.\n",
    "- Пропуски в столбце с суммой дохода и трудовым стажем заполнялись медианными значениями в зависимости от категории занятости.\n",
    "- Аномалии в столбце с трудовым стажем были для двух категорий - безработных и пенсионеров. Аномалии были оставлены.\n",
    "- Были удалены аномалии из стобца с количеством детей.\n",
    "- Были удалены аномалии из стобца с возрастом клиентов.\n",
    "- В столбце с гендером заёмщика находился 1 заёмщик с неопределённым гендером, он был удалён из данных.\n",
    "- Удалённые данные составили 1.4% от всех данных в датафрейме.\n",
    "- Была проведена категоризация суммы дохода клиентов, было создано 5 категорий.\n",
    "- Была проведена категоризация цели получения клиентов, было создано 4 категории.\n",
    "- Данные подготовлены для дальнейшего анализа."
   ]
  },
  {
   "cell_type": "markdown",
   "id": "11a1be5b-bb57-4ad7-a1cd-3a52858bfd94",
   "metadata": {},
   "source": [
    "## Исследовательский анализ данных"
   ]
  },
  {
   "cell_type": "markdown",
   "id": "65e0900f-2c1b-4d4b-a66f-77be10de1087",
   "metadata": {},
   "source": [
    "### Семейное положение и возврат кредита в срок"
   ]
  },
  {
   "cell_type": "code",
   "execution_count": 38,
   "id": "014dd8f8-212d-4905-8a39-d0a65b7b4d18",
   "metadata": {},
   "outputs": [
    {
     "data": {
      "text/html": [
       "<style type=\"text/css\">\n",
       "#T_63ccb_row0_col1 {\n",
       "  background-color: #f3f8fe;\n",
       "  color: #000000;\n",
       "}\n",
       "#T_63ccb_row0_col2 {\n",
       "  background-color: #f2f8fd;\n",
       "  color: #000000;\n",
       "}\n",
       "#T_63ccb_row0_col3 {\n",
       "  background-color: #d4e4f4;\n",
       "  color: #000000;\n",
       "}\n",
       "#T_63ccb_row1_col1, #T_63ccb_row1_col2, #T_63ccb_row1_col3 {\n",
       "  background-color: #f7fbff;\n",
       "  color: #000000;\n",
       "}\n",
       "#T_63ccb_row2_col1 {\n",
       "  background-color: #bdd7ec;\n",
       "  color: #000000;\n",
       "}\n",
       "#T_63ccb_row2_col2 {\n",
       "  background-color: #9fcae1;\n",
       "  color: #000000;\n",
       "}\n",
       "#T_63ccb_row2_col3 {\n",
       "  background-color: #0c56a0;\n",
       "  color: #f1f1f1;\n",
       "}\n",
       "#T_63ccb_row3_col1, #T_63ccb_row3_col2, #T_63ccb_row4_col3 {\n",
       "  background-color: #08306b;\n",
       "  color: #f1f1f1;\n",
       "}\n",
       "#T_63ccb_row3_col3 {\n",
       "  background-color: #b3d3e8;\n",
       "  color: #000000;\n",
       "}\n",
       "#T_63ccb_row4_col1 {\n",
       "  background-color: #d7e6f5;\n",
       "  color: #000000;\n",
       "}\n",
       "#T_63ccb_row4_col2 {\n",
       "  background-color: #c7dcef;\n",
       "  color: #000000;\n",
       "}\n",
       "</style>\n",
       "<table id=\"T_63ccb\">\n",
       "  <thead>\n",
       "    <tr>\n",
       "      <th class=\"blank level0\" >&nbsp;</th>\n",
       "      <th id=\"T_63ccb_level0_col0\" class=\"col_heading level0 col0\" >family_status</th>\n",
       "      <th id=\"T_63ccb_level0_col1\" class=\"col_heading level0 col1\" >total_credit</th>\n",
       "      <th id=\"T_63ccb_level0_col2\" class=\"col_heading level0 col2\" >total_debt</th>\n",
       "      <th id=\"T_63ccb_level0_col3\" class=\"col_heading level0 col3\" >share_debt</th>\n",
       "    </tr>\n",
       "  </thead>\n",
       "  <tbody>\n",
       "    <tr>\n",
       "      <th id=\"T_63ccb_level0_row0\" class=\"row_heading level0 row0\" >0</th>\n",
       "      <td id=\"T_63ccb_row0_col0\" class=\"data row0 col0\" >в разводе</td>\n",
       "      <td id=\"T_63ccb_row0_col1\" class=\"data row0 col1\" >1179</td>\n",
       "      <td id=\"T_63ccb_row0_col2\" class=\"data row0 col2\" >84</td>\n",
       "      <td id=\"T_63ccb_row0_col3\" class=\"data row0 col3\" >7.1%</td>\n",
       "    </tr>\n",
       "    <tr>\n",
       "      <th id=\"T_63ccb_level0_row1\" class=\"row_heading level0 row1\" >1</th>\n",
       "      <td id=\"T_63ccb_row1_col0\" class=\"data row1 col0\" >вдовец / вдова</td>\n",
       "      <td id=\"T_63ccb_row1_col1\" class=\"data row1 col1\" >946</td>\n",
       "      <td id=\"T_63ccb_row1_col2\" class=\"data row1 col2\" >62</td>\n",
       "      <td id=\"T_63ccb_row1_col3\" class=\"data row1 col3\" >6.6%</td>\n",
       "    </tr>\n",
       "    <tr>\n",
       "      <th id=\"T_63ccb_level0_row2\" class=\"row_heading level0 row2\" >2</th>\n",
       "      <td id=\"T_63ccb_row2_col0\" class=\"data row2 col0\" >гражданский брак</td>\n",
       "      <td id=\"T_63ccb_row2_col1\" class=\"data row2 col1\" >4112</td>\n",
       "      <td id=\"T_63ccb_row2_col2\" class=\"data row2 col2\" >383</td>\n",
       "      <td id=\"T_63ccb_row2_col3\" class=\"data row2 col3\" >9.3%</td>\n",
       "    </tr>\n",
       "    <tr>\n",
       "      <th id=\"T_63ccb_level0_row3\" class=\"row_heading level0 row3\" >3</th>\n",
       "      <td id=\"T_63ccb_row3_col0\" class=\"data row3 col0\" >женат / замужем</td>\n",
       "      <td id=\"T_63ccb_row3_col1\" class=\"data row3 col1\" >12213</td>\n",
       "      <td id=\"T_63ccb_row3_col2\" class=\"data row3 col2\" >923</td>\n",
       "      <td id=\"T_63ccb_row3_col3\" class=\"data row3 col3\" >7.6%</td>\n",
       "    </tr>\n",
       "    <tr>\n",
       "      <th id=\"T_63ccb_level0_row4\" class=\"row_heading level0 row4\" >4</th>\n",
       "      <td id=\"T_63ccb_row4_col0\" class=\"data row4 col0\" >не женат / не замужем</td>\n",
       "      <td id=\"T_63ccb_row4_col1\" class=\"data row4 col1\" >2780</td>\n",
       "      <td id=\"T_63ccb_row4_col2\" class=\"data row4 col2\" >272</td>\n",
       "      <td id=\"T_63ccb_row4_col3\" class=\"data row4 col3\" >9.8%</td>\n",
       "    </tr>\n",
       "  </tbody>\n",
       "</table>\n"
      ],
      "text/plain": [
       "<pandas.io.formats.style.Styler at 0x19506e809d0>"
      ]
     },
     "execution_count": 38,
     "metadata": {},
     "output_type": "execute_result"
    }
   ],
   "source": [
    "debt(data=credit, category='family_status')"
   ]
  },
  {
   "cell_type": "markdown",
   "id": "4d5d2e04-b1db-4de0-8fed-cbfac3c99c16",
   "metadata": {},
   "source": [
    "Женатые пары берут кредит гораздо чаще, чем остальные категории, и при этом процент должников среди них составляет 7.6%, что находится на третьем месте из пяти по показателям. Для людей в гражданском браке (берут кредит чаще, чем неженатые) процент должников составил уже 9.3%, а для неженатых - 9.8%. Меньше всего кредиты берут вдовцы и вдовы, и их количества достаточно для того, чтобы сделать выводы по группе. Также, из категории вдовцов лучше всего возвращают кредит: процент задолжавших составляет 6.6 %."
   ]
  },
  {
   "cell_type": "markdown",
   "id": "59abd93c-8fd4-490a-a0aa-f9dbcf329e00",
   "metadata": {},
   "source": [
    "### Количество детей и возврат кредита в срок"
   ]
  },
  {
   "cell_type": "markdown",
   "id": "553e77f4-ebe4-45b3-a93f-6a6b2e08fc32",
   "metadata": {},
   "source": [
    "Посмотрим на зависимость между количеством детей и возвратом кредита в срок."
   ]
  },
  {
   "cell_type": "code",
   "execution_count": 39,
   "id": "a1e0998f-b072-4a7f-ad56-6853c1d7e772",
   "metadata": {},
   "outputs": [
    {
     "data": {
      "text/html": [
       "<style type=\"text/css\">\n",
       "#T_d5f45_row0_col0, #T_d5f45_row4_col1, #T_d5f45_row4_col2, #T_d5f45_row5_col1, #T_d5f45_row5_col2, #T_d5f45_row5_col3 {\n",
       "  background-color: #f7fbff;\n",
       "  color: #000000;\n",
       "}\n",
       "#T_d5f45_row0_col1, #T_d5f45_row0_col2, #T_d5f45_row4_col3, #T_d5f45_row5_col0 {\n",
       "  background-color: #08306b;\n",
       "  color: #f1f1f1;\n",
       "}\n",
       "#T_d5f45_row0_col3 {\n",
       "  background-color: #1c6ab0;\n",
       "  color: #f1f1f1;\n",
       "}\n",
       "#T_d5f45_row1_col0 {\n",
       "  background-color: #d0e1f2;\n",
       "  color: #000000;\n",
       "}\n",
       "#T_d5f45_row1_col1 {\n",
       "  background-color: #a9cfe5;\n",
       "  color: #000000;\n",
       "}\n",
       "#T_d5f45_row1_col2 {\n",
       "  background-color: #8dc1dd;\n",
       "  color: #000000;\n",
       "}\n",
       "#T_d5f45_row1_col3 {\n",
       "  background-color: #083e81;\n",
       "  color: #f1f1f1;\n",
       "}\n",
       "#T_d5f45_row2_col0 {\n",
       "  background-color: #94c4df;\n",
       "  color: #000000;\n",
       "}\n",
       "#T_d5f45_row2_col1 {\n",
       "  background-color: #dae8f6;\n",
       "  color: #000000;\n",
       "}\n",
       "#T_d5f45_row2_col2 {\n",
       "  background-color: #d3e4f3;\n",
       "  color: #000000;\n",
       "}\n",
       "#T_d5f45_row2_col3 {\n",
       "  background-color: #083674;\n",
       "  color: #f1f1f1;\n",
       "}\n",
       "#T_d5f45_row3_col0 {\n",
       "  background-color: #4a98c9;\n",
       "  color: #f1f1f1;\n",
       "}\n",
       "#T_d5f45_row3_col1 {\n",
       "  background-color: #f3f8fe;\n",
       "  color: #000000;\n",
       "}\n",
       "#T_d5f45_row3_col2 {\n",
       "  background-color: #f2f8fd;\n",
       "  color: #000000;\n",
       "}\n",
       "#T_d5f45_row3_col3 {\n",
       "  background-color: #0e58a2;\n",
       "  color: #f1f1f1;\n",
       "}\n",
       "#T_d5f45_row4_col0 {\n",
       "  background-color: #1764ab;\n",
       "  color: #f1f1f1;\n",
       "}\n",
       "</style>\n",
       "<table id=\"T_d5f45\">\n",
       "  <thead>\n",
       "    <tr>\n",
       "      <th class=\"blank level0\" >&nbsp;</th>\n",
       "      <th id=\"T_d5f45_level0_col0\" class=\"col_heading level0 col0\" >children</th>\n",
       "      <th id=\"T_d5f45_level0_col1\" class=\"col_heading level0 col1\" >total_credit</th>\n",
       "      <th id=\"T_d5f45_level0_col2\" class=\"col_heading level0 col2\" >total_debt</th>\n",
       "      <th id=\"T_d5f45_level0_col3\" class=\"col_heading level0 col3\" >share_debt</th>\n",
       "    </tr>\n",
       "  </thead>\n",
       "  <tbody>\n",
       "    <tr>\n",
       "      <th id=\"T_d5f45_level0_row0\" class=\"row_heading level0 row0\" >0</th>\n",
       "      <td id=\"T_d5f45_row0_col0\" class=\"data row0 col0\" >0</td>\n",
       "      <td id=\"T_d5f45_row0_col1\" class=\"data row0 col1\" >14021</td>\n",
       "      <td id=\"T_d5f45_row0_col2\" class=\"data row0 col2\" >1058</td>\n",
       "      <td id=\"T_d5f45_row0_col3\" class=\"data row0 col3\" >7.5%</td>\n",
       "    </tr>\n",
       "    <tr>\n",
       "      <th id=\"T_d5f45_level0_row1\" class=\"row_heading level0 row1\" >1</th>\n",
       "      <td id=\"T_d5f45_row1_col0\" class=\"data row1 col0\" >1</td>\n",
       "      <td id=\"T_d5f45_row1_col1\" class=\"data row1 col1\" >4792</td>\n",
       "      <td id=\"T_d5f45_row1_col2\" class=\"data row1 col2\" >441</td>\n",
       "      <td id=\"T_d5f45_row1_col3\" class=\"data row1 col3\" >9.2%</td>\n",
       "    </tr>\n",
       "    <tr>\n",
       "      <th id=\"T_d5f45_level0_row2\" class=\"row_heading level0 row2\" >2</th>\n",
       "      <td id=\"T_d5f45_row2_col0\" class=\"data row2 col0\" >2</td>\n",
       "      <td id=\"T_d5f45_row2_col1\" class=\"data row2 col1\" >2039</td>\n",
       "      <td id=\"T_d5f45_row2_col2\" class=\"data row2 col2\" >194</td>\n",
       "      <td id=\"T_d5f45_row2_col3\" class=\"data row2 col3\" >9.5%</td>\n",
       "    </tr>\n",
       "    <tr>\n",
       "      <th id=\"T_d5f45_level0_row3\" class=\"row_heading level0 row3\" >3</th>\n",
       "      <td id=\"T_d5f45_row3_col0\" class=\"data row3 col0\" >3</td>\n",
       "      <td id=\"T_d5f45_row3_col1\" class=\"data row3 col1\" >328</td>\n",
       "      <td id=\"T_d5f45_row3_col2\" class=\"data row3 col2\" >27</td>\n",
       "      <td id=\"T_d5f45_row3_col3\" class=\"data row3 col3\" >8.2%</td>\n",
       "    </tr>\n",
       "    <tr>\n",
       "      <th id=\"T_d5f45_level0_row4\" class=\"row_heading level0 row4\" >4</th>\n",
       "      <td id=\"T_d5f45_row4_col0\" class=\"data row4 col0\" >4</td>\n",
       "      <td id=\"T_d5f45_row4_col1\" class=\"data row4 col1\" >41</td>\n",
       "      <td id=\"T_d5f45_row4_col2\" class=\"data row4 col2\" >4</td>\n",
       "      <td id=\"T_d5f45_row4_col3\" class=\"data row4 col3\" >9.8%</td>\n",
       "    </tr>\n",
       "    <tr>\n",
       "      <th id=\"T_d5f45_level0_row5\" class=\"row_heading level0 row5\" >5</th>\n",
       "      <td id=\"T_d5f45_row5_col0\" class=\"data row5 col0\" >5</td>\n",
       "      <td id=\"T_d5f45_row5_col1\" class=\"data row5 col1\" >9</td>\n",
       "      <td id=\"T_d5f45_row5_col2\" class=\"data row5 col2\" >0</td>\n",
       "      <td id=\"T_d5f45_row5_col3\" class=\"data row5 col3\" >0.0%</td>\n",
       "    </tr>\n",
       "  </tbody>\n",
       "</table>\n"
      ],
      "text/plain": [
       "<pandas.io.formats.style.Styler at 0x195077c6c20>"
      ]
     },
     "execution_count": 39,
     "metadata": {},
     "output_type": "execute_result"
    }
   ],
   "source": [
    "debt(data=credit, category='children')"
   ]
  },
  {
   "cell_type": "markdown",
   "id": "d10a4a87-cd9e-4bf3-af98-a8d1203cbe06",
   "metadata": {},
   "source": [
    "Семьи без детей гораздо чаще берут кредиты, чем семьи с детьми, и при этом находятся на первом месте по возврату кредита в срок. В этой группе всего 7.5% должников. Выборка семей с пятью детьми, которые не имеют долгов, не репрезентативна, так как таких семей всего 9 штук. Также семей с четырьмя детьми тоже крайне мало по отношению к остальным категориям, и при этом должников в этой группе больше всего - 9.8%. Можно отметить, что в семьях с детьми больше всего задолжности у тех, у кого 2 ребёнка - 9.5%, а меньше всего для заёмщиков с тремя детьми - 8.2%. "
   ]
  },
  {
   "cell_type": "markdown",
   "id": "e43b4145-c767-44af-8c05-5bec8b0c4cea",
   "metadata": {},
   "source": [
    "### Возраст заёмщика и возврат кредита в срок"
   ]
  },
  {
   "cell_type": "markdown",
   "id": "e5a72d8c-3e7e-4b80-a704-3bf5cb8bc23b",
   "metadata": {},
   "source": [
    "Так как диапазон возрастов заёмщиков весьма широк, поделим заёмщиков по возрастам на 6 примерно равных групп."
   ]
  },
  {
   "cell_type": "code",
   "execution_count": 40,
   "id": "3e412159-c799-4926-8fcf-43d99fcc6ade",
   "metadata": {},
   "outputs": [
    {
     "data": {
      "text/html": [
       "<style type=\"text/css\">\n",
       "#T_d38e2_row0_col1 {\n",
       "  background-color: #4695c8;\n",
       "  color: #f1f1f1;\n",
       "}\n",
       "#T_d38e2_row0_col2, #T_d38e2_row0_col3, #T_d38e2_row2_col1 {\n",
       "  background-color: #08306b;\n",
       "  color: #f1f1f1;\n",
       "}\n",
       "#T_d38e2_row1_col1 {\n",
       "  background-color: #ccdff1;\n",
       "  color: #000000;\n",
       "}\n",
       "#T_d38e2_row1_col2 {\n",
       "  background-color: #2f7fbc;\n",
       "  color: #f1f1f1;\n",
       "}\n",
       "#T_d38e2_row1_col3 {\n",
       "  background-color: #135fa7;\n",
       "  color: #f1f1f1;\n",
       "}\n",
       "#T_d38e2_row2_col2 {\n",
       "  background-color: #2777b8;\n",
       "  color: #f1f1f1;\n",
       "}\n",
       "#T_d38e2_row2_col3 {\n",
       "  background-color: #4f9bcb;\n",
       "  color: #f1f1f1;\n",
       "}\n",
       "#T_d38e2_row3_col1 {\n",
       "  background-color: #9ac8e0;\n",
       "  color: #000000;\n",
       "}\n",
       "#T_d38e2_row3_col2 {\n",
       "  background-color: #99c7e0;\n",
       "  color: #000000;\n",
       "}\n",
       "#T_d38e2_row3_col3 {\n",
       "  background-color: #92c4de;\n",
       "  color: #000000;\n",
       "}\n",
       "#T_d38e2_row4_col1, #T_d38e2_row5_col2, #T_d38e2_row5_col3 {\n",
       "  background-color: #f7fbff;\n",
       "  color: #000000;\n",
       "}\n",
       "#T_d38e2_row4_col2 {\n",
       "  background-color: #e0ecf8;\n",
       "  color: #000000;\n",
       "}\n",
       "#T_d38e2_row4_col3 {\n",
       "  background-color: #d3e3f3;\n",
       "  color: #000000;\n",
       "}\n",
       "#T_d38e2_row5_col1 {\n",
       "  background-color: #cfe1f2;\n",
       "  color: #000000;\n",
       "}\n",
       "</style>\n",
       "<table id=\"T_d38e2\">\n",
       "  <thead>\n",
       "    <tr>\n",
       "      <th class=\"blank level0\" >&nbsp;</th>\n",
       "      <th id=\"T_d38e2_level0_col0\" class=\"col_heading level0 col0\" >age</th>\n",
       "      <th id=\"T_d38e2_level0_col1\" class=\"col_heading level0 col1\" >total_credit</th>\n",
       "      <th id=\"T_d38e2_level0_col2\" class=\"col_heading level0 col2\" >total_debt</th>\n",
       "      <th id=\"T_d38e2_level0_col3\" class=\"col_heading level0 col3\" >share_debt</th>\n",
       "    </tr>\n",
       "  </thead>\n",
       "  <tbody>\n",
       "    <tr>\n",
       "      <th id=\"T_d38e2_level0_row0\" class=\"row_heading level0 row0\" >0</th>\n",
       "      <td id=\"T_d38e2_row0_col0\" class=\"data row0 col0\" >(18.0, 30.0]</td>\n",
       "      <td id=\"T_d38e2_row0_col1\" class=\"data row0 col1\" >3698</td>\n",
       "      <td id=\"T_d38e2_row0_col2\" class=\"data row0 col2\" >403</td>\n",
       "      <td id=\"T_d38e2_row0_col3\" class=\"data row0 col3\" >10.9%</td>\n",
       "    </tr>\n",
       "    <tr>\n",
       "      <th id=\"T_d38e2_level0_row1\" class=\"row_heading level0 row1\" >1</th>\n",
       "      <td id=\"T_d38e2_row1_col0\" class=\"data row1 col0\" >(30.0, 36.0]</td>\n",
       "      <td id=\"T_d38e2_row1_col1\" class=\"data row1 col1\" >3397</td>\n",
       "      <td id=\"T_d38e2_row1_col2\" class=\"data row1 col2\" >335</td>\n",
       "      <td id=\"T_d38e2_row1_col3\" class=\"data row1 col3\" >9.9%</td>\n",
       "    </tr>\n",
       "    <tr>\n",
       "      <th id=\"T_d38e2_level0_row2\" class=\"row_heading level0 row2\" >2</th>\n",
       "      <td id=\"T_d38e2_row2_col0\" class=\"data row2 col0\" >(36.0, 43.0]</td>\n",
       "      <td id=\"T_d38e2_row2_col1\" class=\"data row2 col1\" >3997</td>\n",
       "      <td id=\"T_d38e2_row2_col2\" class=\"data row2 col2\" >341</td>\n",
       "      <td id=\"T_d38e2_row2_col3\" class=\"data row2 col3\" >8.5%</td>\n",
       "    </tr>\n",
       "    <tr>\n",
       "      <th id=\"T_d38e2_level0_row3\" class=\"row_heading level0 row3\" >3</th>\n",
       "      <td id=\"T_d38e2_row3_col0\" class=\"data row3 col0\" >(43.0, 50.0]</td>\n",
       "      <td id=\"T_d38e2_row3_col1\" class=\"data row3 col1\" >3524</td>\n",
       "      <td id=\"T_d38e2_row3_col2\" class=\"data row3 col2\" >265</td>\n",
       "      <td id=\"T_d38e2_row3_col3\" class=\"data row3 col3\" >7.5%</td>\n",
       "    </tr>\n",
       "    <tr>\n",
       "      <th id=\"T_d38e2_level0_row4\" class=\"row_heading level0 row4\" >4</th>\n",
       "      <td id=\"T_d38e2_row4_col0\" class=\"data row4 col0\" >(50.0, 57.0]</td>\n",
       "      <td id=\"T_d38e2_row4_col1\" class=\"data row4 col1\" >3229</td>\n",
       "      <td id=\"T_d38e2_row4_col2\" class=\"data row4 col2\" >203</td>\n",
       "      <td id=\"T_d38e2_row4_col3\" class=\"data row4 col3\" >6.3%</td>\n",
       "    </tr>\n",
       "    <tr>\n",
       "      <th id=\"T_d38e2_level0_row5\" class=\"row_heading level0 row5\" >5</th>\n",
       "      <td id=\"T_d38e2_row5_col0\" class=\"data row5 col0\" >(57.0, 75.0]</td>\n",
       "      <td id=\"T_d38e2_row5_col1\" class=\"data row5 col1\" >3385</td>\n",
       "      <td id=\"T_d38e2_row5_col2\" class=\"data row5 col2\" >177</td>\n",
       "      <td id=\"T_d38e2_row5_col3\" class=\"data row5 col3\" >5.2%</td>\n",
       "    </tr>\n",
       "  </tbody>\n",
       "</table>\n"
      ],
      "text/plain": [
       "<pandas.io.formats.style.Styler at 0x195080e9c90>"
      ]
     },
     "execution_count": 40,
     "metadata": {},
     "output_type": "execute_result"
    }
   ],
   "source": [
    "temp = credit.copy()\n",
    "temp['age'] = pd.qcut(temp['dob_years'], q=6, precision=0)\n",
    "debt(data=temp, category='age')"
   ]
  },
  {
   "cell_type": "markdown",
   "id": "9e720d83-d259-4204-94b4-aefc1689c7a3",
   "metadata": {},
   "source": [
    "Люди из категории от 18 до 30 и от 57 до 75 реже берут кредиты, так как диапазон возрастов в этих группах около 12 лет, а для всех остальных групп - 7 лет. При этом можно отметить, что именно люди от 18 до 30 чаще бывают должниками - 10.9% задолжностей, а чем старше люди по возрасту, тем меньше процент должников."
   ]
  },
  {
   "cell_type": "markdown",
   "id": "5ab5a5bb-5367-43af-af5f-e99595a5fb92",
   "metadata": {},
   "source": [
    "### Пол заёмщика и возврат кредита в срок"
   ]
  },
  {
   "cell_type": "code",
   "execution_count": 41,
   "id": "3bbbe335-e39b-4cf1-847c-82d950064fb8",
   "metadata": {},
   "outputs": [
    {
     "data": {
      "text/html": [
       "<style type=\"text/css\">\n",
       "#T_09ce1_row0_col1, #T_09ce1_row0_col2, #T_09ce1_row1_col3 {\n",
       "  background-color: #08306b;\n",
       "  color: #f1f1f1;\n",
       "}\n",
       "#T_09ce1_row0_col3, #T_09ce1_row1_col1, #T_09ce1_row1_col2 {\n",
       "  background-color: #f7fbff;\n",
       "  color: #000000;\n",
       "}\n",
       "</style>\n",
       "<table id=\"T_09ce1\">\n",
       "  <thead>\n",
       "    <tr>\n",
       "      <th class=\"blank level0\" >&nbsp;</th>\n",
       "      <th id=\"T_09ce1_level0_col0\" class=\"col_heading level0 col0\" >gender</th>\n",
       "      <th id=\"T_09ce1_level0_col1\" class=\"col_heading level0 col1\" >total_credit</th>\n",
       "      <th id=\"T_09ce1_level0_col2\" class=\"col_heading level0 col2\" >total_debt</th>\n",
       "      <th id=\"T_09ce1_level0_col3\" class=\"col_heading level0 col3\" >share_debt</th>\n",
       "    </tr>\n",
       "  </thead>\n",
       "  <tbody>\n",
       "    <tr>\n",
       "      <th id=\"T_09ce1_level0_row0\" class=\"row_heading level0 row0\" >0</th>\n",
       "      <td id=\"T_09ce1_row0_col0\" class=\"data row0 col0\" >F</td>\n",
       "      <td id=\"T_09ce1_row0_col1\" class=\"data row0 col1\" >14021</td>\n",
       "      <td id=\"T_09ce1_row0_col2\" class=\"data row0 col2\" >984</td>\n",
       "      <td id=\"T_09ce1_row0_col3\" class=\"data row0 col3\" >7.0%</td>\n",
       "    </tr>\n",
       "    <tr>\n",
       "      <th id=\"T_09ce1_level0_row1\" class=\"row_heading level0 row1\" >1</th>\n",
       "      <td id=\"T_09ce1_row1_col0\" class=\"data row1 col0\" >M</td>\n",
       "      <td id=\"T_09ce1_row1_col1\" class=\"data row1 col1\" >7209</td>\n",
       "      <td id=\"T_09ce1_row1_col2\" class=\"data row1 col2\" >740</td>\n",
       "      <td id=\"T_09ce1_row1_col3\" class=\"data row1 col3\" >10.3%</td>\n",
       "    </tr>\n",
       "  </tbody>\n",
       "</table>\n"
      ],
      "text/plain": [
       "<pandas.io.formats.style.Styler at 0x19507e3f4f0>"
      ]
     },
     "execution_count": 41,
     "metadata": {},
     "output_type": "execute_result"
    }
   ],
   "source": [
    "debt(data=credit, category='gender')"
   ]
  },
  {
   "cell_type": "markdown",
   "id": "33c9ac35-f254-4bc3-ae34-4101b8edb816",
   "metadata": {},
   "source": [
    "Женщины берут кредиты чаще чем мужчины почти в 2 раза, при том, что процент задолжностей у них 7%, в то время, как у мужчин - 10.3%."
   ]
  },
  {
   "cell_type": "markdown",
   "id": "36bd125c-d62d-4b13-9fb8-fad57e005214",
   "metadata": {},
   "source": [
    "#### Семейное положение для ж/м и возврат кредита в срок"
   ]
  },
  {
   "cell_type": "code",
   "execution_count": 42,
   "id": "579b9028-1503-4e14-b1d4-5cb1f110046a",
   "metadata": {},
   "outputs": [
    {
     "data": {
      "text/html": [
       "<style type=\"text/css\">\n",
       "#T_99a88_row0_col2 {\n",
       "  background-color: #e0ecf8;\n",
       "  color: #000000;\n",
       "}\n",
       "#T_99a88_row0_col3 {\n",
       "  background-color: #e3eef9;\n",
       "  color: #000000;\n",
       "}\n",
       "#T_99a88_row0_col4 {\n",
       "  background-color: #ebf3fb;\n",
       "  color: #000000;\n",
       "}\n",
       "#T_99a88_row1_col2 {\n",
       "  background-color: #e1edf8;\n",
       "  color: #000000;\n",
       "}\n",
       "#T_99a88_row1_col3, #T_99a88_row4_col4 {\n",
       "  background-color: #e7f1fa;\n",
       "  color: #000000;\n",
       "}\n",
       "#T_99a88_row1_col4, #T_99a88_row6_col2, #T_99a88_row6_col3 {\n",
       "  background-color: #f7fbff;\n",
       "  color: #000000;\n",
       "}\n",
       "#T_99a88_row2_col2 {\n",
       "  background-color: #a3cce3;\n",
       "  color: #000000;\n",
       "}\n",
       "#T_99a88_row2_col3 {\n",
       "  background-color: #87bddc;\n",
       "  color: #000000;\n",
       "}\n",
       "#T_99a88_row2_col4 {\n",
       "  background-color: #d5e5f4;\n",
       "  color: #000000;\n",
       "}\n",
       "#T_99a88_row3_col2, #T_99a88_row3_col3, #T_99a88_row6_col4 {\n",
       "  background-color: #08306b;\n",
       "  color: #f1f1f1;\n",
       "}\n",
       "#T_99a88_row3_col4 {\n",
       "  background-color: #e8f1fa;\n",
       "  color: #000000;\n",
       "}\n",
       "#T_99a88_row4_col2, #T_99a88_row8_col4 {\n",
       "  background-color: #cddff1;\n",
       "  color: #000000;\n",
       "}\n",
       "#T_99a88_row4_col3 {\n",
       "  background-color: #cee0f2;\n",
       "  color: #000000;\n",
       "}\n",
       "#T_99a88_row5_col2, #T_99a88_row5_col3 {\n",
       "  background-color: #f2f8fd;\n",
       "  color: #000000;\n",
       "}\n",
       "#T_99a88_row5_col4 {\n",
       "  background-color: #cbdef1;\n",
       "  color: #000000;\n",
       "}\n",
       "#T_99a88_row7_col2 {\n",
       "  background-color: #d7e6f5;\n",
       "  color: #000000;\n",
       "}\n",
       "#T_99a88_row7_col3 {\n",
       "  background-color: #bed8ec;\n",
       "  color: #000000;\n",
       "}\n",
       "#T_99a88_row7_col4 {\n",
       "  background-color: #8cc0dd;\n",
       "  color: #000000;\n",
       "}\n",
       "#T_99a88_row8_col2 {\n",
       "  background-color: #4e9acb;\n",
       "  color: #f1f1f1;\n",
       "}\n",
       "#T_99a88_row8_col3 {\n",
       "  background-color: #1f6eb3;\n",
       "  color: #f1f1f1;\n",
       "}\n",
       "#T_99a88_row9_col2 {\n",
       "  background-color: #ddeaf7;\n",
       "  color: #000000;\n",
       "}\n",
       "#T_99a88_row9_col3 {\n",
       "  background-color: #bdd7ec;\n",
       "  color: #000000;\n",
       "}\n",
       "#T_99a88_row9_col4 {\n",
       "  background-color: #4695c8;\n",
       "  color: #f1f1f1;\n",
       "}\n",
       "</style>\n",
       "<table id=\"T_99a88\">\n",
       "  <thead>\n",
       "    <tr>\n",
       "      <th class=\"blank level0\" >&nbsp;</th>\n",
       "      <th id=\"T_99a88_level0_col0\" class=\"col_heading level0 col0\" >gender</th>\n",
       "      <th id=\"T_99a88_level0_col1\" class=\"col_heading level0 col1\" >family_status</th>\n",
       "      <th id=\"T_99a88_level0_col2\" class=\"col_heading level0 col2\" >total_credit</th>\n",
       "      <th id=\"T_99a88_level0_col3\" class=\"col_heading level0 col3\" >total_debt</th>\n",
       "      <th id=\"T_99a88_level0_col4\" class=\"col_heading level0 col4\" >share_debt</th>\n",
       "    </tr>\n",
       "  </thead>\n",
       "  <tbody>\n",
       "    <tr>\n",
       "      <th id=\"T_99a88_level0_row0\" class=\"row_heading level0 row0\" >0</th>\n",
       "      <td id=\"T_99a88_row0_col0\" class=\"data row0 col0\" >F</td>\n",
       "      <td id=\"T_99a88_row0_col1\" class=\"data row0 col1\" >в разводе</td>\n",
       "      <td id=\"T_99a88_row0_col2\" class=\"data row0 col2\" >922</td>\n",
       "      <td id=\"T_99a88_row0_col3\" class=\"data row0 col3\" >61</td>\n",
       "      <td id=\"T_99a88_row0_col4\" class=\"data row0 col4\" >6.6%</td>\n",
       "    </tr>\n",
       "    <tr>\n",
       "      <th id=\"T_99a88_level0_row1\" class=\"row_heading level0 row1\" >1</th>\n",
       "      <td id=\"T_99a88_row1_col0\" class=\"data row1 col0\" >F</td>\n",
       "      <td id=\"T_99a88_row1_col1\" class=\"data row1 col1\" >вдовец / вдова</td>\n",
       "      <td id=\"T_99a88_row1_col2\" class=\"data row1 col2\" >891</td>\n",
       "      <td id=\"T_99a88_row1_col3\" class=\"data row1 col3\" >51</td>\n",
       "      <td id=\"T_99a88_row1_col4\" class=\"data row1 col4\" >5.7%</td>\n",
       "    </tr>\n",
       "    <tr>\n",
       "      <th id=\"T_99a88_level0_row2\" class=\"row_heading level0 row2\" >2</th>\n",
       "      <td id=\"T_99a88_row2_col0\" class=\"data row2 col0\" >F</td>\n",
       "      <td id=\"T_99a88_row2_col1\" class=\"data row2 col1\" >гражданский брак</td>\n",
       "      <td id=\"T_99a88_row2_col2\" class=\"data row2 col2\" >2816</td>\n",
       "      <td id=\"T_99a88_row2_col3\" class=\"data row2 col3\" >231</td>\n",
       "      <td id=\"T_99a88_row2_col4\" class=\"data row2 col4\" >8.2%</td>\n",
       "    </tr>\n",
       "    <tr>\n",
       "      <th id=\"T_99a88_level0_row3\" class=\"row_heading level0 row3\" >3</th>\n",
       "      <td id=\"T_99a88_row3_col0\" class=\"data row3 col0\" >F</td>\n",
       "      <td id=\"T_99a88_row3_col1\" class=\"data row3 col1\" >женат / замужем</td>\n",
       "      <td id=\"T_99a88_row3_col2\" class=\"data row3 col2\" >7677</td>\n",
       "      <td id=\"T_99a88_row3_col3\" class=\"data row3 col3\" >523</td>\n",
       "      <td id=\"T_99a88_row3_col4\" class=\"data row3 col4\" >6.8%</td>\n",
       "    </tr>\n",
       "    <tr>\n",
       "      <th id=\"T_99a88_level0_row4\" class=\"row_heading level0 row4\" >4</th>\n",
       "      <td id=\"T_99a88_row4_col0\" class=\"data row4 col0\" >F</td>\n",
       "      <td id=\"T_99a88_row4_col1\" class=\"data row4 col1\" >не женат / не замужем</td>\n",
       "      <td id=\"T_99a88_row4_col2\" class=\"data row4 col2\" >1715</td>\n",
       "      <td id=\"T_99a88_row4_col3\" class=\"data row4 col3\" >118</td>\n",
       "      <td id=\"T_99a88_row4_col4\" class=\"data row4 col4\" >6.9%</td>\n",
       "    </tr>\n",
       "    <tr>\n",
       "      <th id=\"T_99a88_level0_row5\" class=\"row_heading level0 row5\" >5</th>\n",
       "      <td id=\"T_99a88_row5_col0\" class=\"data row5 col0\" >M</td>\n",
       "      <td id=\"T_99a88_row5_col1\" class=\"data row5 col1\" >в разводе</td>\n",
       "      <td id=\"T_99a88_row5_col2\" class=\"data row5 col2\" >257</td>\n",
       "      <td id=\"T_99a88_row5_col3\" class=\"data row5 col3\" >23</td>\n",
       "      <td id=\"T_99a88_row5_col4\" class=\"data row5 col4\" >8.9%</td>\n",
       "    </tr>\n",
       "    <tr>\n",
       "      <th id=\"T_99a88_level0_row6\" class=\"row_heading level0 row6\" >6</th>\n",
       "      <td id=\"T_99a88_row6_col0\" class=\"data row6 col0\" >M</td>\n",
       "      <td id=\"T_99a88_row6_col1\" class=\"data row6 col1\" >вдовец / вдова</td>\n",
       "      <td id=\"T_99a88_row6_col2\" class=\"data row6 col2\" >55</td>\n",
       "      <td id=\"T_99a88_row6_col3\" class=\"data row6 col3\" >11</td>\n",
       "      <td id=\"T_99a88_row6_col4\" class=\"data row6 col4\" >20.0%</td>\n",
       "    </tr>\n",
       "    <tr>\n",
       "      <th id=\"T_99a88_level0_row7\" class=\"row_heading level0 row7\" >7</th>\n",
       "      <td id=\"T_99a88_row7_col0\" class=\"data row7 col0\" >M</td>\n",
       "      <td id=\"T_99a88_row7_col1\" class=\"data row7 col1\" >гражданский брак</td>\n",
       "      <td id=\"T_99a88_row7_col2\" class=\"data row7 col2\" >1296</td>\n",
       "      <td id=\"T_99a88_row7_col3\" class=\"data row7 col3\" >152</td>\n",
       "      <td id=\"T_99a88_row7_col4\" class=\"data row7 col4\" >11.7%</td>\n",
       "    </tr>\n",
       "    <tr>\n",
       "      <th id=\"T_99a88_level0_row8\" class=\"row_heading level0 row8\" >8</th>\n",
       "      <td id=\"T_99a88_row8_col0\" class=\"data row8 col0\" >M</td>\n",
       "      <td id=\"T_99a88_row8_col1\" class=\"data row8 col1\" >женат / замужем</td>\n",
       "      <td id=\"T_99a88_row8_col2\" class=\"data row8 col2\" >4536</td>\n",
       "      <td id=\"T_99a88_row8_col3\" class=\"data row8 col3\" >400</td>\n",
       "      <td id=\"T_99a88_row8_col4\" class=\"data row8 col4\" >8.8%</td>\n",
       "    </tr>\n",
       "    <tr>\n",
       "      <th id=\"T_99a88_level0_row9\" class=\"row_heading level0 row9\" >9</th>\n",
       "      <td id=\"T_99a88_row9_col0\" class=\"data row9 col0\" >M</td>\n",
       "      <td id=\"T_99a88_row9_col1\" class=\"data row9 col1\" >не женат / не замужем</td>\n",
       "      <td id=\"T_99a88_row9_col2\" class=\"data row9 col2\" >1065</td>\n",
       "      <td id=\"T_99a88_row9_col3\" class=\"data row9 col3\" >154</td>\n",
       "      <td id=\"T_99a88_row9_col4\" class=\"data row9 col4\" >14.5%</td>\n",
       "    </tr>\n",
       "  </tbody>\n",
       "</table>\n"
      ],
      "text/plain": [
       "<pandas.io.formats.style.Styler at 0x1950262f3a0>"
      ]
     },
     "execution_count": 42,
     "metadata": {},
     "output_type": "execute_result"
    }
   ],
   "source": [
    "debt(data=credit, category=['gender', 'family_status'])"
   ]
  },
  {
   "cell_type": "markdown",
   "id": "6411fb26-3b7f-4200-8942-d8812d4d8740",
   "metadata": {},
   "source": [
    "Если посмотреть отдельно на женщин и мужчин и их семейный статус, то можно отметить, что наиболее рисковой категорией среди мужчин является категория неженатых с 14.5% должников. При этом женщины из этой категории имеют всего 6.9% должников, что не сильно выше замужних женщин с 6.8% должниками. А для мужчин женатых и неженатых очень большая разница в проценте должников."
   ]
  },
  {
   "cell_type": "markdown",
   "id": "c6c29a1e-36ea-449f-ad9d-b8660a79fefc",
   "metadata": {},
   "source": [
    "### Уровень образования и возврат кредита в срок"
   ]
  },
  {
   "cell_type": "code",
   "execution_count": 43,
   "id": "86d327d7-3c8a-4565-a4c7-361bca2f4843",
   "metadata": {},
   "outputs": [
    {
     "data": {
      "text/html": [
       "<style type=\"text/css\">\n",
       "#T_e2c56_row0_col1 {\n",
       "  background-color: #a8cee4;\n",
       "  color: #000000;\n",
       "}\n",
       "#T_e2c56_row0_col2 {\n",
       "  background-color: #cfe1f2;\n",
       "  color: #000000;\n",
       "}\n",
       "#T_e2c56_row0_col3 {\n",
       "  background-color: #71b1d7;\n",
       "  color: #f1f1f1;\n",
       "}\n",
       "#T_e2c56_row1_col1 {\n",
       "  background-color: #f4f9fe;\n",
       "  color: #000000;\n",
       "}\n",
       "#T_e2c56_row1_col2 {\n",
       "  background-color: #f3f8fe;\n",
       "  color: #000000;\n",
       "}\n",
       "#T_e2c56_row1_col3, #T_e2c56_row3_col1, #T_e2c56_row3_col2 {\n",
       "  background-color: #08306b;\n",
       "  color: #f1f1f1;\n",
       "}\n",
       "#T_e2c56_row2_col1, #T_e2c56_row2_col2 {\n",
       "  background-color: #eef5fc;\n",
       "  color: #000000;\n",
       "}\n",
       "#T_e2c56_row2_col3 {\n",
       "  background-color: #0f5aa3;\n",
       "  color: #f1f1f1;\n",
       "}\n",
       "#T_e2c56_row3_col3 {\n",
       "  background-color: #135fa7;\n",
       "  color: #f1f1f1;\n",
       "}\n",
       "#T_e2c56_row4_col1, #T_e2c56_row4_col2, #T_e2c56_row4_col3 {\n",
       "  background-color: #f7fbff;\n",
       "  color: #000000;\n",
       "}\n",
       "</style>\n",
       "<table id=\"T_e2c56\">\n",
       "  <thead>\n",
       "    <tr>\n",
       "      <th class=\"blank level0\" >&nbsp;</th>\n",
       "      <th id=\"T_e2c56_level0_col0\" class=\"col_heading level0 col0\" >education</th>\n",
       "      <th id=\"T_e2c56_level0_col1\" class=\"col_heading level0 col1\" >total_credit</th>\n",
       "      <th id=\"T_e2c56_level0_col2\" class=\"col_heading level0 col2\" >total_debt</th>\n",
       "      <th id=\"T_e2c56_level0_col3\" class=\"col_heading level0 col3\" >share_debt</th>\n",
       "    </tr>\n",
       "  </thead>\n",
       "  <tbody>\n",
       "    <tr>\n",
       "      <th id=\"T_e2c56_level0_row0\" class=\"row_heading level0 row0\" >0</th>\n",
       "      <td id=\"T_e2c56_row0_col0\" class=\"data row0 col0\" >высшее</td>\n",
       "      <td id=\"T_e2c56_row0_col1\" class=\"data row0 col1\" >5192</td>\n",
       "      <td id=\"T_e2c56_row0_col2\" class=\"data row0 col2\" >277</td>\n",
       "      <td id=\"T_e2c56_row0_col3\" class=\"data row0 col3\" >5.3%</td>\n",
       "    </tr>\n",
       "    <tr>\n",
       "      <th id=\"T_e2c56_level0_row1\" class=\"row_heading level0 row1\" >1</th>\n",
       "      <td id=\"T_e2c56_row1_col0\" class=\"data row1 col0\" >начальное</td>\n",
       "      <td id=\"T_e2c56_row1_col1\" class=\"data row1 col1\" >282</td>\n",
       "      <td id=\"T_e2c56_row1_col2\" class=\"data row1 col2\" >31</td>\n",
       "      <td id=\"T_e2c56_row1_col3\" class=\"data row1 col3\" >11.0%</td>\n",
       "    </tr>\n",
       "    <tr>\n",
       "      <th id=\"T_e2c56_level0_row2\" class=\"row_heading level0 row2\" >2</th>\n",
       "      <td id=\"T_e2c56_row2_col0\" class=\"data row2 col0\" >неоконченное высшее</td>\n",
       "      <td id=\"T_e2c56_row2_col1\" class=\"data row2 col1\" >738</td>\n",
       "      <td id=\"T_e2c56_row2_col2\" class=\"data row2 col2\" >68</td>\n",
       "      <td id=\"T_e2c56_row2_col3\" class=\"data row2 col3\" >9.2%</td>\n",
       "    </tr>\n",
       "    <tr>\n",
       "      <th id=\"T_e2c56_level0_row3\" class=\"row_heading level0 row3\" >3</th>\n",
       "      <td id=\"T_e2c56_row3_col0\" class=\"data row3 col0\" >среднее</td>\n",
       "      <td id=\"T_e2c56_row3_col1\" class=\"data row3 col1\" >15012</td>\n",
       "      <td id=\"T_e2c56_row3_col2\" class=\"data row3 col2\" >1348</td>\n",
       "      <td id=\"T_e2c56_row3_col3\" class=\"data row3 col3\" >9.0%</td>\n",
       "    </tr>\n",
       "    <tr>\n",
       "      <th id=\"T_e2c56_level0_row4\" class=\"row_heading level0 row4\" >4</th>\n",
       "      <td id=\"T_e2c56_row4_col0\" class=\"data row4 col0\" >ученая степень</td>\n",
       "      <td id=\"T_e2c56_row4_col1\" class=\"data row4 col1\" >6</td>\n",
       "      <td id=\"T_e2c56_row4_col2\" class=\"data row4 col2\" >0</td>\n",
       "      <td id=\"T_e2c56_row4_col3\" class=\"data row4 col3\" >0.0%</td>\n",
       "    </tr>\n",
       "  </tbody>\n",
       "</table>\n"
      ],
      "text/plain": [
       "<pandas.io.formats.style.Styler at 0x19505a6f0d0>"
      ]
     },
     "execution_count": 43,
     "metadata": {},
     "output_type": "execute_result"
    }
   ],
   "source": [
    "debt(data=credit, category='education')"
   ]
  },
  {
   "cell_type": "markdown",
   "id": "7c40bbc8-5741-4cd5-a42c-8e228acbb55e",
   "metadata": {},
   "source": [
    "Заёмщиков с учёной степенью практически нет, поэтому то, что они возвращают кредит в срок, не может являться релевантным значением. Можно отметить, что чаще берут кредиты люди со средним образованием, при этом задолжность у них составяет 9%. Хуже всего возвращают кредиты люди с начальным образованием, у них задолжность - 11%. Лучше всех возвращают кредиты люди с высшим образованием, это при том, что они находятся на втором месте по количеству взятых кредитов."
   ]
  },
  {
   "cell_type": "markdown",
   "id": "f60329dc-5c9b-4898-976c-85a3562525b6",
   "metadata": {},
   "source": [
    "### Категория занятости заёмщика и возврат кредита в срок"
   ]
  },
  {
   "cell_type": "code",
   "execution_count": 44,
   "id": "accb8f58-ce4d-4e0c-9a99-3f04c9faa6d2",
   "metadata": {},
   "outputs": [
    {
     "data": {
      "text/html": [
       "<style type=\"text/css\">\n",
       "#T_8ca1a_row0_col1, #T_8ca1a_row0_col2, #T_8ca1a_row1_col1, #T_8ca1a_row1_col2, #T_8ca1a_row5_col1, #T_8ca1a_row5_col2, #T_8ca1a_row5_col3, #T_8ca1a_row7_col1, #T_8ca1a_row7_col2, #T_8ca1a_row7_col3 {\n",
       "  background-color: #f7fbff;\n",
       "  color: #000000;\n",
       "}\n",
       "#T_8ca1a_row0_col3 {\n",
       "  background-color: #6aaed6;\n",
       "  color: #f1f1f1;\n",
       "}\n",
       "#T_8ca1a_row1_col3, #T_8ca1a_row6_col1, #T_8ca1a_row6_col2 {\n",
       "  background-color: #08306b;\n",
       "  color: #f1f1f1;\n",
       "}\n",
       "#T_8ca1a_row2_col1 {\n",
       "  background-color: #ddeaf7;\n",
       "  color: #000000;\n",
       "}\n",
       "#T_8ca1a_row2_col2 {\n",
       "  background-color: #e7f0fa;\n",
       "  color: #000000;\n",
       "}\n",
       "#T_8ca1a_row2_col3 {\n",
       "  background-color: #ebf3fb;\n",
       "  color: #000000;\n",
       "}\n",
       "#T_8ca1a_row3_col1 {\n",
       "  background-color: #7cb7da;\n",
       "  color: #000000;\n",
       "}\n",
       "#T_8ca1a_row3_col2 {\n",
       "  background-color: #a4cce3;\n",
       "  color: #000000;\n",
       "}\n",
       "#T_8ca1a_row3_col3 {\n",
       "  background-color: #e9f2fa;\n",
       "  color: #000000;\n",
       "}\n",
       "#T_8ca1a_row4_col1 {\n",
       "  background-color: #a8cee4;\n",
       "  color: #000000;\n",
       "}\n",
       "#T_8ca1a_row4_col2 {\n",
       "  background-color: #cfe1f2;\n",
       "  color: #000000;\n",
       "}\n",
       "#T_8ca1a_row4_col3 {\n",
       "  background-color: #ecf4fb;\n",
       "  color: #000000;\n",
       "}\n",
       "#T_8ca1a_row6_col3 {\n",
       "  background-color: #e4eff9;\n",
       "  color: #000000;\n",
       "}\n",
       "</style>\n",
       "<table id=\"T_8ca1a\">\n",
       "  <thead>\n",
       "    <tr>\n",
       "      <th class=\"blank level0\" >&nbsp;</th>\n",
       "      <th id=\"T_8ca1a_level0_col0\" class=\"col_heading level0 col0\" >income_type</th>\n",
       "      <th id=\"T_8ca1a_level0_col1\" class=\"col_heading level0 col1\" >total_credit</th>\n",
       "      <th id=\"T_8ca1a_level0_col2\" class=\"col_heading level0 col2\" >total_debt</th>\n",
       "      <th id=\"T_8ca1a_level0_col3\" class=\"col_heading level0 col3\" >share_debt</th>\n",
       "    </tr>\n",
       "  </thead>\n",
       "  <tbody>\n",
       "    <tr>\n",
       "      <th id=\"T_8ca1a_level0_row0\" class=\"row_heading level0 row0\" >0</th>\n",
       "      <td id=\"T_8ca1a_row0_col0\" class=\"data row0 col0\" >безработный</td>\n",
       "      <td id=\"T_8ca1a_row0_col1\" class=\"data row0 col1\" >2</td>\n",
       "      <td id=\"T_8ca1a_row0_col2\" class=\"data row0 col2\" >1</td>\n",
       "      <td id=\"T_8ca1a_row0_col3\" class=\"data row0 col3\" >50.0%</td>\n",
       "    </tr>\n",
       "    <tr>\n",
       "      <th id=\"T_8ca1a_level0_row1\" class=\"row_heading level0 row1\" >1</th>\n",
       "      <td id=\"T_8ca1a_row1_col0\" class=\"data row1 col0\" >в декрете</td>\n",
       "      <td id=\"T_8ca1a_row1_col1\" class=\"data row1 col1\" >1</td>\n",
       "      <td id=\"T_8ca1a_row1_col2\" class=\"data row1 col2\" >1</td>\n",
       "      <td id=\"T_8ca1a_row1_col3\" class=\"data row1 col3\" >100.0%</td>\n",
       "    </tr>\n",
       "    <tr>\n",
       "      <th id=\"T_8ca1a_level0_row2\" class=\"row_heading level0 row2\" >2</th>\n",
       "      <td id=\"T_8ca1a_row2_col0\" class=\"data row2 col0\" >госслужащий</td>\n",
       "      <td id=\"T_8ca1a_row2_col1\" class=\"data row2 col1\" >1445</td>\n",
       "      <td id=\"T_8ca1a_row2_col2\" class=\"data row2 col2\" >86</td>\n",
       "      <td id=\"T_8ca1a_row2_col3\" class=\"data row2 col3\" >6.0%</td>\n",
       "    </tr>\n",
       "    <tr>\n",
       "      <th id=\"T_8ca1a_level0_row3\" class=\"row_heading level0 row3\" >3</th>\n",
       "      <td id=\"T_8ca1a_row3_col0\" class=\"data row3 col0\" >компаньон</td>\n",
       "      <td id=\"T_8ca1a_row3_col1\" class=\"data row3 col1\" >5026</td>\n",
       "      <td id=\"T_8ca1a_row3_col2\" class=\"data row3 col2\" >373</td>\n",
       "      <td id=\"T_8ca1a_row3_col3\" class=\"data row3 col3\" >7.4%</td>\n",
       "    </tr>\n",
       "    <tr>\n",
       "      <th id=\"T_8ca1a_level0_row4\" class=\"row_heading level0 row4\" >4</th>\n",
       "      <td id=\"T_8ca1a_row4_col0\" class=\"data row4 col0\" >пенсионер</td>\n",
       "      <td id=\"T_8ca1a_row4_col1\" class=\"data row4 col1\" >3792</td>\n",
       "      <td id=\"T_8ca1a_row4_col2\" class=\"data row4 col2\" >215</td>\n",
       "      <td id=\"T_8ca1a_row4_col3\" class=\"data row4 col3\" >5.7%</td>\n",
       "    </tr>\n",
       "    <tr>\n",
       "      <th id=\"T_8ca1a_level0_row5\" class=\"row_heading level0 row5\" >5</th>\n",
       "      <td id=\"T_8ca1a_row5_col0\" class=\"data row5 col0\" >предприниматель</td>\n",
       "      <td id=\"T_8ca1a_row5_col1\" class=\"data row5 col1\" >2</td>\n",
       "      <td id=\"T_8ca1a_row5_col2\" class=\"data row5 col2\" >0</td>\n",
       "      <td id=\"T_8ca1a_row5_col3\" class=\"data row5 col3\" >0.0%</td>\n",
       "    </tr>\n",
       "    <tr>\n",
       "      <th id=\"T_8ca1a_level0_row6\" class=\"row_heading level0 row6\" >6</th>\n",
       "      <td id=\"T_8ca1a_row6_col0\" class=\"data row6 col0\" >сотрудник</td>\n",
       "      <td id=\"T_8ca1a_row6_col1\" class=\"data row6 col1\" >10961</td>\n",
       "      <td id=\"T_8ca1a_row6_col2\" class=\"data row6 col2\" >1048</td>\n",
       "      <td id=\"T_8ca1a_row6_col3\" class=\"data row6 col3\" >9.6%</td>\n",
       "    </tr>\n",
       "    <tr>\n",
       "      <th id=\"T_8ca1a_level0_row7\" class=\"row_heading level0 row7\" >7</th>\n",
       "      <td id=\"T_8ca1a_row7_col0\" class=\"data row7 col0\" >студент</td>\n",
       "      <td id=\"T_8ca1a_row7_col1\" class=\"data row7 col1\" >1</td>\n",
       "      <td id=\"T_8ca1a_row7_col2\" class=\"data row7 col2\" >0</td>\n",
       "      <td id=\"T_8ca1a_row7_col3\" class=\"data row7 col3\" >0.0%</td>\n",
       "    </tr>\n",
       "  </tbody>\n",
       "</table>\n"
      ],
      "text/plain": [
       "<pandas.io.formats.style.Styler at 0x19505a6e770>"
      ]
     },
     "execution_count": 44,
     "metadata": {},
     "output_type": "execute_result"
    }
   ],
   "source": [
    "debt(data=credit, category='income_type')"
   ]
  },
  {
   "cell_type": "markdown",
   "id": "0be090c7-65ba-4971-a53b-1b50d22c034e",
   "metadata": {},
   "source": [
    "Релевантными категориями занятости заёмщиков являются только: сотрудник, компаньон, госслужащий и пенсионер. Во всех остальных группах единичные значения заёмщиков. При этом можно отметить, что группа сотрудников наиболее многочисленная, но и процент задолжности у них выше, чем в других релевантных группах - 9.6%. Самый низкий процент должников среди пенсионеров - всего 5.7%."
   ]
  },
  {
   "cell_type": "markdown",
   "id": "2b05553d-2551-4ae8-bdc8-1755848afb99",
   "metadata": {},
   "source": [
    "### Уровень дохода и возврат кредита в срок"
   ]
  },
  {
   "cell_type": "code",
   "execution_count": 45,
   "id": "95b0836c-08cb-454e-936f-3e53f9e46c29",
   "metadata": {},
   "outputs": [
    {
     "data": {
      "text/html": [
       "<style type=\"text/css\">\n",
       "#T_c6591_row0_col1, #T_c6591_row0_col2, #T_c6591_row1_col3, #T_c6591_row6_col1, #T_c6591_row6_col2 {\n",
       "  background-color: #f7fbff;\n",
       "  color: #000000;\n",
       "}\n",
       "#T_c6591_row0_col3 {\n",
       "  background-color: #3585bf;\n",
       "  color: #f1f1f1;\n",
       "}\n",
       "#T_c6591_row1_col1 {\n",
       "  background-color: #eff6fc;\n",
       "  color: #000000;\n",
       "}\n",
       "#T_c6591_row1_col2 {\n",
       "  background-color: #f2f8fd;\n",
       "  color: #000000;\n",
       "}\n",
       "#T_c6591_row2_col1 {\n",
       "  background-color: #9cc9e1;\n",
       "  color: #000000;\n",
       "}\n",
       "#T_c6591_row2_col2 {\n",
       "  background-color: #b0d2e7;\n",
       "  color: #000000;\n",
       "}\n",
       "#T_c6591_row2_col3 {\n",
       "  background-color: #84bcdb;\n",
       "  color: #000000;\n",
       "}\n",
       "#T_c6591_row3_col1, #T_c6591_row3_col2, #T_c6591_row6_col3 {\n",
       "  background-color: #08306b;\n",
       "  color: #f1f1f1;\n",
       "}\n",
       "#T_c6591_row3_col3 {\n",
       "  background-color: #0b559f;\n",
       "  color: #f1f1f1;\n",
       "}\n",
       "#T_c6591_row4_col1 {\n",
       "  background-color: #a9cfe5;\n",
       "  color: #000000;\n",
       "}\n",
       "#T_c6591_row4_col2 {\n",
       "  background-color: #afd1e7;\n",
       "  color: #000000;\n",
       "}\n",
       "#T_c6591_row4_col3 {\n",
       "  background-color: #2a7ab9;\n",
       "  color: #f1f1f1;\n",
       "}\n",
       "#T_c6591_row5_col1 {\n",
       "  background-color: #f2f7fd;\n",
       "  color: #000000;\n",
       "}\n",
       "#T_c6591_row5_col2 {\n",
       "  background-color: #f4f9fe;\n",
       "  color: #000000;\n",
       "}\n",
       "#T_c6591_row5_col3 {\n",
       "  background-color: #e6f0f9;\n",
       "  color: #000000;\n",
       "}\n",
       "</style>\n",
       "<table id=\"T_c6591\">\n",
       "  <thead>\n",
       "    <tr>\n",
       "      <th class=\"blank level0\" >&nbsp;</th>\n",
       "      <th id=\"T_c6591_level0_col0\" class=\"col_heading level0 col0\" >total_income_category</th>\n",
       "      <th id=\"T_c6591_level0_col1\" class=\"col_heading level0 col1\" >total_credit</th>\n",
       "      <th id=\"T_c6591_level0_col2\" class=\"col_heading level0 col2\" >total_debt</th>\n",
       "      <th id=\"T_c6591_level0_col3\" class=\"col_heading level0 col3\" >share_debt</th>\n",
       "    </tr>\n",
       "  </thead>\n",
       "  <tbody>\n",
       "    <tr>\n",
       "      <th id=\"T_c6591_level0_row0\" class=\"row_heading level0 row0\" >0</th>\n",
       "      <td id=\"T_c6591_row0_col0\" class=\"data row0 col0\" >A</td>\n",
       "      <td id=\"T_c6591_row0_col1\" class=\"data row0 col1\" >25</td>\n",
       "      <td id=\"T_c6591_row0_col2\" class=\"data row0 col2\" >2</td>\n",
       "      <td id=\"T_c6591_row0_col3\" class=\"data row0 col3\" >8.0%</td>\n",
       "    </tr>\n",
       "    <tr>\n",
       "      <th id=\"T_c6591_level0_row1\" class=\"row_heading level0 row1\" >1</th>\n",
       "      <td id=\"T_c6591_row1_col0\" class=\"data row1 col0\" >B</td>\n",
       "      <td id=\"T_c6591_row1_col1\" class=\"data row1 col1\" >503</td>\n",
       "      <td id=\"T_c6591_row1_col2\" class=\"data row1 col2\" >29</td>\n",
       "      <td id=\"T_c6591_row1_col3\" class=\"data row1 col3\" >5.8%</td>\n",
       "    </tr>\n",
       "    <tr>\n",
       "      <th id=\"T_c6591_level0_row2\" class=\"row_heading level0 row2\" >2</th>\n",
       "      <td id=\"T_c6591_row2_col0\" class=\"data row2 col0\" >C</td>\n",
       "      <td id=\"T_c6591_row2_col1\" class=\"data row2 col1\" >4484</td>\n",
       "      <td id=\"T_c6591_row2_col2\" class=\"data row2 col2\" >324</td>\n",
       "      <td id=\"T_c6591_row2_col3\" class=\"data row2 col3\" >7.2%</td>\n",
       "    </tr>\n",
       "    <tr>\n",
       "      <th id=\"T_c6591_level0_row3\" class=\"row_heading level0 row3\" >3</th>\n",
       "      <td id=\"T_c6591_row3_col0\" class=\"data row3 col0\" >D</td>\n",
       "      <td id=\"T_c6591_row3_col1\" class=\"data row3 col1\" >11797</td>\n",
       "      <td id=\"T_c6591_row3_col2\" class=\"data row3 col2\" >1016</td>\n",
       "      <td id=\"T_c6591_row3_col3\" class=\"data row3 col3\" >8.6%</td>\n",
       "    </tr>\n",
       "    <tr>\n",
       "      <th id=\"T_c6591_level0_row4\" class=\"row_heading level0 row4\" >4</th>\n",
       "      <td id=\"T_c6591_row4_col0\" class=\"data row4 col0\" >E</td>\n",
       "      <td id=\"T_c6591_row4_col1\" class=\"data row4 col1\" >4052</td>\n",
       "      <td id=\"T_c6591_row4_col2\" class=\"data row4 col2\" >330</td>\n",
       "      <td id=\"T_c6591_row4_col3\" class=\"data row4 col3\" >8.1%</td>\n",
       "    </tr>\n",
       "    <tr>\n",
       "      <th id=\"T_c6591_level0_row5\" class=\"row_heading level0 row5\" >5</th>\n",
       "      <td id=\"T_c6591_row5_col0\" class=\"data row5 col0\" >F</td>\n",
       "      <td id=\"T_c6591_row5_col1\" class=\"data row5 col1\" >347</td>\n",
       "      <td id=\"T_c6591_row5_col2\" class=\"data row5 col2\" >21</td>\n",
       "      <td id=\"T_c6591_row5_col3\" class=\"data row5 col3\" >6.1%</td>\n",
       "    </tr>\n",
       "    <tr>\n",
       "      <th id=\"T_c6591_level0_row6\" class=\"row_heading level0 row6\" >6</th>\n",
       "      <td id=\"T_c6591_row6_col0\" class=\"data row6 col0\" >G</td>\n",
       "      <td id=\"T_c6591_row6_col1\" class=\"data row6 col1\" >22</td>\n",
       "      <td id=\"T_c6591_row6_col2\" class=\"data row6 col2\" >2</td>\n",
       "      <td id=\"T_c6591_row6_col3\" class=\"data row6 col3\" >9.1%</td>\n",
       "    </tr>\n",
       "  </tbody>\n",
       "</table>\n"
      ],
      "text/plain": [
       "<pandas.io.formats.style.Styler at 0x19502639a50>"
      ]
     },
     "execution_count": 45,
     "metadata": {},
     "output_type": "execute_result"
    }
   ],
   "source": [
    "debt(data=credit, category='total_income_category')"
   ]
  },
  {
   "cell_type": "markdown",
   "id": "e449bfba-954f-4f74-85b1-708d15062d31",
   "metadata": {},
   "source": [
    "Расшифровка категорий дохода:\n",
    "- `А` - ежемесячный доход больше 1 млн\n",
    "- `В` - ежемесячный доход от 400 тыс до 1 млн\n",
    "- `С` - ежемесячный доход от 200 тыс до 400 тыс\n",
    "- `D` - ежемесячный доход от 100 тыс до 200 тыс\n",
    "- `Е` - ежемесячный доход от 50 тыс до 100 тыс\n",
    "- `F` - ежемесячный доход от 30 тыс до 50 тыс\n",
    "- `G` - ежемесячный доход меньше 30 тыс\n",
    "\n",
    "Заёмщиков, которые получают меньше 30 тыс или больше 1 млн крайне мало по отношению к другим категориям - меньше 30. Поэтому то, что для этих категорий есть по 2 должника, не является релевантным значением. Зато можно отметить категорию с доходом от 100 до 200 тыс, которые чаще остальных берут кредиты и имеют самый высокий процент должников - 8.6%. Заёмщики с категорией дохода от 400 тыс до 1 млн рублей имеют самый низкий процент задолжностей - 5.8%.\n",
    "\n",
    "Посмотрим, как поменяются значения, если попробовать разбить выборку на более-менее равные доли по кредиторам."
   ]
  },
  {
   "cell_type": "code",
   "execution_count": 46,
   "id": "68bfd40d-6a3b-4ab7-b825-1c8cec8aa623",
   "metadata": {},
   "outputs": [
    {
     "data": {
      "text/html": [
       "<style type=\"text/css\">\n",
       "#T_8d120_row0_col1, #T_8d120_row5_col1 {\n",
       "  background-color: #60a7d2;\n",
       "  color: #f1f1f1;\n",
       "}\n",
       "#T_8d120_row0_col2 {\n",
       "  background-color: #7ab6d9;\n",
       "  color: #000000;\n",
       "}\n",
       "#T_8d120_row0_col3, #T_8d120_row1_col1 {\n",
       "  background-color: #61a7d2;\n",
       "  color: #f1f1f1;\n",
       "}\n",
       "#T_8d120_row1_col2 {\n",
       "  background-color: #529dcc;\n",
       "  color: #f1f1f1;\n",
       "}\n",
       "#T_8d120_row1_col3 {\n",
       "  background-color: #3787c0;\n",
       "  color: #f1f1f1;\n",
       "}\n",
       "#T_8d120_row2_col1, #T_8d120_row2_col2, #T_8d120_row2_col3 {\n",
       "  background-color: #08306b;\n",
       "  color: #f1f1f1;\n",
       "}\n",
       "#T_8d120_row3_col1 {\n",
       "  background-color: #4d99ca;\n",
       "  color: #f1f1f1;\n",
       "}\n",
       "#T_8d120_row3_col2 {\n",
       "  background-color: #3d8dc4;\n",
       "  color: #f1f1f1;\n",
       "}\n",
       "#T_8d120_row3_col3 {\n",
       "  background-color: #2979b9;\n",
       "  color: #f1f1f1;\n",
       "}\n",
       "#T_8d120_row4_col1, #T_8d120_row5_col2, #T_8d120_row5_col3 {\n",
       "  background-color: #f7fbff;\n",
       "  color: #000000;\n",
       "}\n",
       "#T_8d120_row4_col2 {\n",
       "  background-color: #a8cee4;\n",
       "  color: #000000;\n",
       "}\n",
       "#T_8d120_row4_col3 {\n",
       "  background-color: #5aa2cf;\n",
       "  color: #f1f1f1;\n",
       "}\n",
       "</style>\n",
       "<table id=\"T_8d120\">\n",
       "  <thead>\n",
       "    <tr>\n",
       "      <th class=\"blank level0\" >&nbsp;</th>\n",
       "      <th id=\"T_8d120_level0_col0\" class=\"col_heading level0 col0\" >income</th>\n",
       "      <th id=\"T_8d120_level0_col1\" class=\"col_heading level0 col1\" >total_credit</th>\n",
       "      <th id=\"T_8d120_level0_col2\" class=\"col_heading level0 col2\" >total_debt</th>\n",
       "      <th id=\"T_8d120_level0_col3\" class=\"col_heading level0 col3\" >share_debt</th>\n",
       "    </tr>\n",
       "  </thead>\n",
       "  <tbody>\n",
       "    <tr>\n",
       "      <th id=\"T_8d120_level0_row0\" class=\"row_heading level0 row0\" >0</th>\n",
       "      <td id=\"T_8d120_row0_col0\" class=\"data row0 col0\" >(20666.0, 92120.0]</td>\n",
       "      <td id=\"T_8d120_row0_col1\" class=\"data row0 col1\" >3539</td>\n",
       "      <td id=\"T_8d120_row0_col2\" class=\"data row0 col2\" >284</td>\n",
       "      <td id=\"T_8d120_row0_col3\" class=\"data row0 col3\" >8.0%</td>\n",
       "    </tr>\n",
       "    <tr>\n",
       "      <th id=\"T_8d120_level0_row1\" class=\"row_heading level0 row1\" >1</th>\n",
       "      <td id=\"T_8d120_row1_col0\" class=\"data row1 col0\" >(92120.0, 119260.0]</td>\n",
       "      <td id=\"T_8d120_row1_col1\" class=\"data row1 col1\" >3538</td>\n",
       "      <td id=\"T_8d120_row1_col2\" class=\"data row1 col2\" >293</td>\n",
       "      <td id=\"T_8d120_row1_col3\" class=\"data row1 col3\" >8.3%</td>\n",
       "    </tr>\n",
       "    <tr>\n",
       "      <th id=\"T_8d120_level0_row2\" class=\"row_heading level0 row2\" >2</th>\n",
       "      <td id=\"T_8d120_row2_col0\" class=\"data row2 col0\" >(119260.0, 142594.0]</td>\n",
       "      <td id=\"T_8d120_row2_col1\" class=\"data row2 col1\" >3653</td>\n",
       "      <td id=\"T_8d120_row2_col2\" class=\"data row2 col2\" >326</td>\n",
       "      <td id=\"T_8d120_row2_col3\" class=\"data row2 col3\" >8.9%</td>\n",
       "    </tr>\n",
       "    <tr>\n",
       "      <th id=\"T_8d120_level0_row3\" class=\"row_heading level0 row3\" >3</th>\n",
       "      <td id=\"T_8d120_row3_col0\" class=\"data row3 col0\" >(142594.0, 172357.0]</td>\n",
       "      <td id=\"T_8d120_row3_col1\" class=\"data row3 col1\" >3553</td>\n",
       "      <td id=\"T_8d120_row3_col2\" class=\"data row3 col2\" >298</td>\n",
       "      <td id=\"T_8d120_row3_col3\" class=\"data row3 col3\" >8.4%</td>\n",
       "    </tr>\n",
       "    <tr>\n",
       "      <th id=\"T_8d120_level0_row4\" class=\"row_heading level0 row4\" >4</th>\n",
       "      <td id=\"T_8d120_row4_col0\" class=\"data row4 col0\" >(172357.0, 228887.0]</td>\n",
       "      <td id=\"T_8d120_row4_col1\" class=\"data row4 col1\" >3408</td>\n",
       "      <td id=\"T_8d120_row4_col2\" class=\"data row4 col2\" >275</td>\n",
       "      <td id=\"T_8d120_row4_col3\" class=\"data row4 col3\" >8.1%</td>\n",
       "    </tr>\n",
       "    <tr>\n",
       "      <th id=\"T_8d120_level0_row5\" class=\"row_heading level0 row5\" >5</th>\n",
       "      <td id=\"T_8d120_row5_col0\" class=\"data row5 col0\" >(228887.0, 2265604.0]</td>\n",
       "      <td id=\"T_8d120_row5_col1\" class=\"data row5 col1\" >3539</td>\n",
       "      <td id=\"T_8d120_row5_col2\" class=\"data row5 col2\" >248</td>\n",
       "      <td id=\"T_8d120_row5_col3\" class=\"data row5 col3\" >7.0%</td>\n",
       "    </tr>\n",
       "  </tbody>\n",
       "</table>\n"
      ],
      "text/plain": [
       "<pandas.io.formats.style.Styler at 0x1950812a920>"
      ]
     },
     "execution_count": 46,
     "metadata": {},
     "output_type": "execute_result"
    }
   ],
   "source": [
    "temp = credit.copy()\n",
    "temp['income'] = pd.qcut(temp['total_income'], q=6, precision=0)\n",
    "debt(data=temp, category='income')"
   ]
  },
  {
   "cell_type": "markdown",
   "id": "3b1b3e42-dd70-49f9-a468-cd9b257e61c9",
   "metadata": {},
   "source": [
    "Теперь видно, что наибольше всего рисков приходится на категорию с доходом от 119 тыс до 142 тыс в месяц - 8.9% должников. Но при этом по другим группам процент должников не сильно ниже - от 8 до 8.4%. Самый маленький процент задолжностей по кредитам у группы с доходом от 229 тыс до 2.3 млн. Также можно отметить, что эта группа имеет самый широкий диапазон по получаемому доходу."
   ]
  },
  {
   "cell_type": "markdown",
   "id": "09a42c7a-a102-4e15-87a5-924a586cbdbf",
   "metadata": {},
   "source": [
    "### Цели кредита и возврат кредита в срок"
   ]
  },
  {
   "cell_type": "code",
   "execution_count": 47,
   "id": "d50d0d3a-d958-4134-b477-2ce13a61cc68",
   "metadata": {},
   "outputs": [
    {
     "data": {
      "text/html": [
       "<style type=\"text/css\">\n",
       "#T_4ea52_row0_col1 {\n",
       "  background-color: #caddf0;\n",
       "  color: #000000;\n",
       "}\n",
       "#T_4ea52_row0_col2 {\n",
       "  background-color: #a3cce3;\n",
       "  color: #000000;\n",
       "}\n",
       "#T_4ea52_row0_col3, #T_4ea52_row1_col1, #T_4ea52_row1_col2 {\n",
       "  background-color: #08306b;\n",
       "  color: #f1f1f1;\n",
       "}\n",
       "#T_4ea52_row1_col3, #T_4ea52_row3_col1, #T_4ea52_row3_col2 {\n",
       "  background-color: #f7fbff;\n",
       "  color: #000000;\n",
       "}\n",
       "#T_4ea52_row2_col1 {\n",
       "  background-color: #d0e2f2;\n",
       "  color: #000000;\n",
       "}\n",
       "#T_4ea52_row2_col2 {\n",
       "  background-color: #b2d2e8;\n",
       "  color: #000000;\n",
       "}\n",
       "#T_4ea52_row2_col3 {\n",
       "  background-color: #083370;\n",
       "  color: #f1f1f1;\n",
       "}\n",
       "#T_4ea52_row3_col3 {\n",
       "  background-color: #b7d4ea;\n",
       "  color: #000000;\n",
       "}\n",
       "</style>\n",
       "<table id=\"T_4ea52\">\n",
       "  <thead>\n",
       "    <tr>\n",
       "      <th class=\"blank level0\" >&nbsp;</th>\n",
       "      <th id=\"T_4ea52_level0_col0\" class=\"col_heading level0 col0\" >purpose_category</th>\n",
       "      <th id=\"T_4ea52_level0_col1\" class=\"col_heading level0 col1\" >total_credit</th>\n",
       "      <th id=\"T_4ea52_level0_col2\" class=\"col_heading level0 col2\" >total_debt</th>\n",
       "      <th id=\"T_4ea52_level0_col3\" class=\"col_heading level0 col3\" >share_debt</th>\n",
       "    </tr>\n",
       "  </thead>\n",
       "  <tbody>\n",
       "    <tr>\n",
       "      <th id=\"T_4ea52_level0_row0\" class=\"row_heading level0 row0\" >0</th>\n",
       "      <td id=\"T_4ea52_row0_col0\" class=\"data row0 col0\" >операции с автомобилем</td>\n",
       "      <td id=\"T_4ea52_row0_col1\" class=\"data row0 col1\" >4258</td>\n",
       "      <td id=\"T_4ea52_row0_col2\" class=\"data row0 col2\" >397</td>\n",
       "      <td id=\"T_4ea52_row0_col3\" class=\"data row0 col3\" >9.3%</td>\n",
       "    </tr>\n",
       "    <tr>\n",
       "      <th id=\"T_4ea52_level0_row1\" class=\"row_heading level0 row1\" >1</th>\n",
       "      <td id=\"T_4ea52_row1_col0\" class=\"data row1 col0\" >операции с недвижимостью</td>\n",
       "      <td id=\"T_4ea52_row1_col1\" class=\"data row1 col1\" >10703</td>\n",
       "      <td id=\"T_4ea52_row1_col2\" class=\"data row1 col2\" >777</td>\n",
       "      <td id=\"T_4ea52_row1_col3\" class=\"data row1 col3\" >7.3%</td>\n",
       "    </tr>\n",
       "    <tr>\n",
       "      <th id=\"T_4ea52_level0_row2\" class=\"row_heading level0 row2\" >2</th>\n",
       "      <td id=\"T_4ea52_row2_col0\" class=\"data row2 col0\" >получение образования</td>\n",
       "      <td id=\"T_4ea52_row2_col1\" class=\"data row2 col1\" >3970</td>\n",
       "      <td id=\"T_4ea52_row2_col2\" class=\"data row2 col2\" >369</td>\n",
       "      <td id=\"T_4ea52_row2_col3\" class=\"data row2 col3\" >9.3%</td>\n",
       "    </tr>\n",
       "    <tr>\n",
       "      <th id=\"T_4ea52_level0_row3\" class=\"row_heading level0 row3\" >3</th>\n",
       "      <td id=\"T_4ea52_row3_col0\" class=\"data row3 col0\" >проведение свадьбы</td>\n",
       "      <td id=\"T_4ea52_row3_col1\" class=\"data row3 col1\" >2299</td>\n",
       "      <td id=\"T_4ea52_row3_col2\" class=\"data row3 col2\" >181</td>\n",
       "      <td id=\"T_4ea52_row3_col3\" class=\"data row3 col3\" >7.9%</td>\n",
       "    </tr>\n",
       "  </tbody>\n",
       "</table>\n"
      ],
      "text/plain": [
       "<pandas.io.formats.style.Styler at 0x1950813f610>"
      ]
     },
     "execution_count": 47,
     "metadata": {},
     "output_type": "execute_result"
    }
   ],
   "source": [
    "debt(data=credit, category='purpose_category')"
   ]
  },
  {
   "cell_type": "markdown",
   "id": "4efbc7f3-126d-435c-82c6-421529af9878",
   "metadata": {},
   "source": [
    "Заёмщики, которые берут кредиты на операции с недвижимостью, составляют самую большую группу, и при этом имеют один из самых низких показателей задолжностей - 7.3%. Кредит на проведение свадьбы берут реже всего, и также имеют по нему одну из самых низких показателей задолжности - 7.9%. Больше всего рисков приходится на операции с автомобилем и получение образование, так как кредиторов по этим группам достаточно много, и при этом высокий процент задолжностей - 9.3%."
   ]
  },
  {
   "cell_type": "markdown",
   "id": "356de840-e31e-4d4a-8c8e-7e6003d70197",
   "metadata": {},
   "source": [
    "## Итоги исследования"
   ]
  },
  {
   "cell_type": "markdown",
   "id": "5a72a703-2854-4029-b48e-89041bcf4875",
   "metadata": {},
   "source": [
    "Была проанализирована статистика о платёжеспособности клиентов, предоставленная кредитным отделом банка. \n",
    "\n",
    "Перед анализом, данные были подготовлены для корректной работы:\n",
    "- В таблице содержалось 11 столбцов и 21525 записей с информацией о заёмщиках.\n",
    "- В двух столбцах были пропуски значений, доля пропусков составляла 10%.\n",
    "- Пропуски в столбце с суммой дохода и трудовым стажем заполнялись медианными значениями в зависимости от категории занятости.\n",
    "- Аномалии в столбце с трудовым стажем были для двух категорий - безработных и пенсионеров. Аномалии были оставлены.\n",
    "- Были удалены аномалии из стобца с количеством детей.\n",
    "- Были удалены аномалии из стобца с возрастом клиентов.\n",
    "- В столбце с гендером заёмщика находился 1 заёмщик с неопределённым гендером, он был удалён из данных. \n",
    "- В таблице была 71 строчка явных дубликатов, они были удалены из таблицы.\n",
    "- Процент удалённых значений составил 1.4% от данных датафрейма.\n",
    "- Была проведена категоризация суммы дохода клиентов, было создано 5 категорий.\n",
    "- Была проведена категоризация цели получения клиентов, было создано 5 категорий.\n",
    "\n",
    "Были изучены разные показатели клиентов и влияния этих показателей на возврат кредита в срок:\n",
    "1. Семейный статус:\n",
    "    - Женатые пары берут кредит гораздо чаще, чем остальные категории\n",
    "    - Процент должников среди женатых пар находится на третьем месте по показателям и составляет 7.6%\n",
    "    - Процент должников для людей в гражданском браке составляет 9.3%\n",
    "    - Наиболее рисковая группа - неженатые люди, процент должников для них 9.8%\n",
    "    - Вдовствующие люди берут кредит реже всего и процент должников среди них самый низкий - 6.6%\n",
    "2. Количество детей:\n",
    "    - Семьи без детей берут кредит гораздо чаще, чем семьи с детьми\n",
    "    - Процент должников среди семей без детей находится на первом месте по показателям и составляет 7.5%\n",
    "    - Процент должников для семей с 3 детьми составляет 8.2%\n",
    "    - Наиболее рисковые группы - семьи с 1 и 2 детьми, процент должников для них 9.2% и 9.5%, соответственно\n",
    "3. Возраст заёмщика:\n",
    "    - Люди из категорий от 18 до 30 и от 57 до 75 реже берут кредиты, так как диапазон возрастов в этих группах около 12 лет, а для всех остальных групп - 7 лет\n",
    "    - Категория от 18 до 30 наиболее рисковая, процент должников для них составляет 10.9%\n",
    "    - Второй по рисковости является группа людей от 30 до 36 лет - процент должников для них 9.9%\n",
    "    - Чем старше возраст заёмщика, тем меньше процент должников по возрастной группе\n",
    "4. Пол заёмщика:\n",
    "   - Женщины берут кредиты чаще чем мужчины почти в 2 раза, при том, что процент задолжностей у них 7%, в то время, как у мужчин - 10.3%\n",
    "   - Процент должников для замужних и незамужних женщин близок между собой и составляет 6.8% и 6.9%, соответственно\n",
    "   - Для женатых и неженатых мужчин процент должников сильно отличается: 8.8% женатых мужчин являются должниками, в то время как 14.5% неженатых мужчин являются должниками\n",
    "   - Рисковыми группами являются люди в гражданском браке: для женщин доля должников составляет 8.2%, для мужчин - 11.7%\n",
    "6. Степень образования заёмщика:\n",
    "   - Чаще всего берут кредиты люди со средним образованием\n",
    "   - Процент должников для людей со средним образованием составляет 9%\n",
    "   - Наиболее рисковые группы - люди с неоконченным высшим и с начальным образованием, процент должников для них 9.2% и 11%, соответственно\n",
    "   - Лучше всех возвращают кредиты люди с высшим образованием - 5.3% должников, при том, что они находятся на втором месте по количеству взятых кредитов\n",
    "7. Категория занятости:\n",
    "   - Релевантными группами заёмщиков являются: сотрудник, компаньон, госслужащий и пенсионер\n",
    "   - Сотрудники чаще берут кредит, чем остальные по категории занятости группы\n",
    "   - Процент задолжности для сотрудников выше, чем для других релевантных групп и составляет 9.6%\n",
    "   - Самый низкий процент должников среди пенсионеров - всего 5.7%\n",
    "8. Уровень дохода:\n",
    "   - Самая рисковая категория с доходом от 119 тыс до 142 тыс в месяц с 8.9% должников\n",
    "   - Самый маленький процент задолжностей по кредитам у группы с доходом от 229 тыс до 2 млн 265 тыс, эта группа имеет самый широкий диапазон по получаемому доходу\n",
    "9. Цели кредита:\n",
    "    - Самая большая группа заёмщиков в категории с операциями на недвижимость\n",
    "    - Самый маленький процент задолжностей для категории недвижимости - 7.3%\n",
    "    - Кредит на проведение свадьбы берут реже всего и также имеют по нему один из самых низких показателей задолжности - 7.9%\n",
    "    - Больше всего рисков приходится на операции с автомобилем и получения образования - 9.3% задолжностей\n",
    "\n",
    "Можно подвести общий итог. Наиболее рисковыми категориями заёмщиков являются: \n",
    "- Люди в гражданском браке и неженатые (9.3% и 9.8%, соответственно)\n",
    "- Люди с 1 и 2 детьми (9.2% и 9.5%, соотвественно)\n",
    "- Люди по возрасту от 18 до 36 лет (от 9.9% до 10.9%)\n",
    "- Мужчины (10.3%), причём неженатые мужчины (14.5%) и в гражданском браке (11.7%)\n",
    "- Люди с любым образованием, кроме высшего и учёной степени (выше 9%)\n",
    "- По категории занятости - сотрудники (9.6%)\n",
    "- С уровнем дохода от 119 тыс до 143 тыс ежемесячно (8.9%)\n",
    "- По целям кредита на операции с автомобилем и на образование (по 9.3%)."
   ]
  }
 ],
 "metadata": {
  "kernelspec": {
   "display_name": "Python 3 (ipykernel)",
   "language": "python",
   "name": "python3"
  },
  "language_info": {
   "codemirror_mode": {
    "name": "ipython",
    "version": 3
   },
   "file_extension": ".py",
   "mimetype": "text/x-python",
   "name": "python",
   "nbconvert_exporter": "python",
   "pygments_lexer": "ipython3",
   "version": "3.11.5"
  }
 },
 "nbformat": 4,
 "nbformat_minor": 5
}
